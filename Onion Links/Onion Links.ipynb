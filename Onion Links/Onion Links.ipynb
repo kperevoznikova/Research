{
 "cells": [
  {
   "cell_type": "markdown",
   "metadata": {},
   "source": [
    "Поиск белых адресов onion-сайтов через заголовок [Onion-Location](https://community.torproject.org/onion-services/advanced/onion-location/) в [Shodan](https://www.youtube.com/watch?v=IOblaXyY2U0&ab_channel=OSINTDojo)"
   ]
  },
  {
   "cell_type": "code",
   "execution_count": 13,
   "metadata": {},
   "outputs": [],
   "source": [
    "import asyncio\n",
    "import nest_asyncio\n",
    "\n",
    "nest_asyncio.apply() "
   ]
  },
  {
   "cell_type": "code",
   "execution_count": 14,
   "metadata": {},
   "outputs": [],
   "source": [
    "from telethon import TelegramClient, events, sync"
   ]
  },
  {
   "cell_type": "markdown",
   "metadata": {},
   "source": [
    "- [Документация](https://github.com/LonamiWebs/Telethon)\n",
    "- [Конфигурация](https://my.telegram.org/apps)"
   ]
  },
  {
   "cell_type": "code",
   "execution_count": 48,
   "metadata": {},
   "outputs": [],
   "source": [
    "from urllib.parse import urlparse\n",
    "\n",
    "def markdown(text) -> list:\n",
    "    onion_links = []\n",
    "    # [link text](link)\n",
    "    for right_part in text.split('](')[1:]:\n",
    "        link = right_part.split(')')[0]\n",
    "        if '.onion' in link:\n",
    "            onion_links.append(urlparse(link).netloc + '\\n')\n",
    "    return onion_links"
   ]
  },
  {
   "cell_type": "code",
   "execution_count": 35,
   "metadata": {
    "scrolled": true
   },
   "outputs": [],
   "source": [
    "api_id = None\n",
    "api_hash = None\n",
    "\n",
    "async def parse_channel(name, extract_link, debug=False, debug_posts=10):\n",
    "    async with TelegramClient('onionlinks', api_id, api_hash) as client:\n",
    "        channel = await client.get_entity(name)\n",
    "        if debug: \n",
    "            posts = 0\n",
    "        links = []\n",
    "        async for message in client.iter_messages(channel):\n",
    "            if message.text:\n",
    "                links.extend(extract_link(message.text))\n",
    "            if debug:\n",
    "                posts += 1\n",
    "                if posts > debug_posts: \n",
    "                    break\n",
    "        return list(set(links))"
   ]
  },
  {
   "cell_type": "code",
   "execution_count": 49,
   "metadata": {},
   "outputs": [],
   "source": [
    "def brackets(text) -> list:\n",
    "    onion_links = []\n",
    "    for part in text.split(']'):\n",
    "        if part.startswith('['):\n",
    "            link = part.lstrip('[')\n",
    "            if '.onion' in link:\n",
    "                onion_links.append(urlparse(f'http://{link}').netloc  + '\\n')\n",
    "    return onion_links"
   ]
  },
  {
   "cell_type": "code",
   "execution_count": 50,
   "metadata": {},
   "outputs": [],
   "source": [
    "def dump_lst(filename, mode, channel):\n",
    "    with open(filename, mode) as f:\n",
    "        f.writelines(channel)"
   ]
  },
  {
   "cell_type": "code",
   "execution_count": 51,
   "metadata": {},
   "outputs": [],
   "source": [
    "dump_lst('onion_links', 'w', await parse_channel('onionnetstalk', brackets))\n",
    "dump_lst('onion_links', 'a', await parse_channel('onionlinks', markdown))"
   ]
  },
  {
   "cell_type": "code",
   "execution_count": 45,
   "metadata": {
    "scrolled": true
   },
   "outputs": [],
   "source": [
    "onionnetstalk = await parse_channel('onionnetstalk', brackets)\n",
    "with open('onion_links', 'w') as f:\n",
    "    f.writelines(onionnetstalk)"
   ]
  },
  {
   "cell_type": "code",
   "execution_count": 46,
   "metadata": {
    "scrolled": true
   },
   "outputs": [],
   "source": [
    "onionlinks = await parse_channel('onionlinks', markdown)\n",
    "with open('onion_links', 'a') as f:\n",
    "    f.writelines(onionlinks)"
   ]
  },
  {
   "cell_type": "markdown",
   "metadata": {},
   "source": [
    "```\n",
    "shodan init $APIKEY\n",
    "for i in `cat onion_links`;do \n",
    "  echo \"$i\"; shodan search $i > $i.txt; sleep 2; \n",
    "done\n",
    "find -name  \\*.txt -empty -delete\n",
    "```"
   ]
  },
  {
   "cell_type": "code",
   "execution_count": null,
   "metadata": {},
   "outputs": [],
   "source": []
  }
 ],
 "metadata": {
  "kernelspec": {
   "display_name": "Python 3",
   "language": "python",
   "name": "python3"
  },
  "language_info": {
   "codemirror_mode": {
    "name": "ipython",
    "version": 3
   },
   "file_extension": ".py",
   "mimetype": "text/x-python",
   "name": "python",
   "nbconvert_exporter": "python",
   "pygments_lexer": "ipython3",
   "version": "3.7.3"
  }
 },
 "nbformat": 4,
 "nbformat_minor": 2
}
