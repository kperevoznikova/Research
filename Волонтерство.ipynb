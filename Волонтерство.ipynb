{
 "cells": [
  {
   "cell_type": "markdown",
   "metadata": {},
   "source": [
    "Генератор формата ПИМИСДДММГГГГ где первая М/ж, пол, 2-3 и 4-5 первые 2 буквы имени мужского и женского соответственно и дату до определённого лимита"
   ]
  },
  {
   "cell_type": "code",
   "execution_count": 1,
   "metadata": {},
   "outputs": [],
   "source": [
    "import requests\n",
    "import datetime\n",
    "import telebot\n",
    "from sys import argv\n",
    "from random import randint, randrange\n",
    "\n",
    "FEMALE = 0\n",
    "MALE = 1\n",
    "\n",
    "gender_code = {\n",
    "    FEMALE : 'Ж',\n",
    "    MALE : 'M'\n",
    "}\n",
    "\n",
    "def parse_names():\n",
    "    female_url = \"https://raw.githubusercontent.com/linuxforse/random_russian_and_ukraine_name_surname/master/imena_f_ru.txt\"\n",
    "    male_url = \"https://raw.githubusercontent.com/linuxforse/random_russian_and_ukraine_name_surname/master/imena_m_ru.txt\"\n",
    "\n",
    "    names = dict()\n",
    "    names[FEMALE] = [i.upper() for i in requests.get(female_url).text.split()]\n",
    "    names[MALE] = [i.upper() for i in requests.get(male_url).text.split()]\n",
    "    return names\n",
    "\n",
    "names = parse_names()"
   ]
  },
  {
   "cell_type": "code",
   "execution_count": 2,
   "metadata": {},
   "outputs": [],
   "source": [
    "def gen_date_of_birth():\n",
    "    start_date = datetime.date(1980, 1, 1)\n",
    "    end_date = datetime.date(2000, 1, 1)\n",
    "\n",
    "    random_number_of_days = randrange((end_date - start_date).days)\n",
    "\n",
    "    return start_date + datetime.timedelta(days=random_number_of_days)"
   ]
  },
  {
   "cell_type": "code",
   "execution_count": 3,
   "metadata": {
    "scrolled": true
   },
   "outputs": [],
   "source": [
    "def client_code():\n",
    "    client = randint(0, 1)\n",
    "    name_range = len(names[client])\n",
    "    return f\"{gender_code[client]}\\\n",
    "{names[client][randint(0, name_range)][:2]}\\\n",
    "{names[FEMALE][randint(0, len(names[FEMALE]))][:2]}\\\n",
    "{gen_date_of_birth().strftime('%d%m%Y')}\\\n",
    "\""
   ]
  },
  {
   "cell_type": "code",
   "execution_count": 4,
   "metadata": {},
   "outputs": [
    {
     "data": {
      "text/plain": [
       "'MЛЕЕВ04011996'"
      ]
     },
     "execution_count": 4,
     "metadata": {},
     "output_type": "execute_result"
    }
   ],
   "source": [
    "client_code()"
   ]
  },
  {
   "cell_type": "code",
   "execution_count": 6,
   "metadata": {
    "scrolled": true
   },
   "outputs": [],
   "source": [
    "bot = telebot.TeleBot('1444951859:AAGg62z4_AMOnKASpgB32sxBqX4ixQdE3Tk')#argv[1])\n",
    "\n",
    "@bot.message_handler(commands=[\"code\"])\n",
    "def code(msg):\n",
    "    bot.send_message(msg.chat.id, client_code())\n",
    "\n",
    "bot.polling(none_stop=True)"
   ]
  },
  {
   "cell_type": "code",
   "execution_count": null,
   "metadata": {},
   "outputs": [],
   "source": []
  }
 ],
 "metadata": {
  "kernelspec": {
   "display_name": "Python 3",
   "language": "python",
   "name": "python3"
  },
  "language_info": {
   "codemirror_mode": {
    "name": "ipython",
    "version": 3
   },
   "file_extension": ".py",
   "mimetype": "text/x-python",
   "name": "python",
   "nbconvert_exporter": "python",
   "pygments_lexer": "ipython3",
   "version": "3.7.3"
  }
 },
 "nbformat": 4,
 "nbformat_minor": 2
}
