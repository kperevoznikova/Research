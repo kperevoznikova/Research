{
 "cells": [
  {
   "cell_type": "code",
   "execution_count": 70,
   "metadata": {},
   "outputs": [],
   "source": [
    "import json\n",
    "import pandas as pd\n",
    "from datetime import datetime\n",
    "\n",
    "df = None\n",
    "series = None\n",
    "\n",
    "with open('data.raw') as data:\n",
    "    json_bars = data.read().split('~m~')[4]\n",
    "    # I think using pandas will be better if it will get more messages\n",
    "    # series = json.loads(json_bars)['p'][1]['sds_1']['s']\n",
    "    df = pd.read_json(json_bars)\n"
   ]
  },
  {
   "cell_type": "code",
   "execution_count": 71,
   "metadata": {},
   "outputs": [],
   "source": [
    "with open('data.csv', 'w') as data:\n",
    "    data.write(','.join(['index', 'timestamp', 'open', 'high', 'low', 'close', 'volume']) + '\\n')\n",
    "    series = df.iloc[1:-1]['p'][1]['sds_1']['s']\n",
    "    for ohlcv in series:\n",
    "        bar = [ohlcv['i']]\n",
    "        bar.extend(ohlcv['v'])\n",
    "        #datetime.fromtimestamp(float(ohlcv['v'][0])).strftime(\"%Y/%m/%d, %H:%M:%S\")\n",
    "        data.write(','.join([str(i) for i in bar]) + '\\n')"
   ]
  },
  {
   "cell_type": "code",
   "execution_count": null,
   "metadata": {},
   "outputs": [],
   "source": []
  }
 ],
 "metadata": {
  "kernelspec": {
   "display_name": "Python 3",
   "language": "python",
   "name": "python3"
  },
  "language_info": {
   "codemirror_mode": {
    "name": "ipython",
    "version": 3
   },
   "file_extension": ".py",
   "mimetype": "text/x-python",
   "name": "python",
   "nbconvert_exporter": "python",
   "pygments_lexer": "ipython3",
   "version": "3.7.3"
  }
 },
 "nbformat": 4,
 "nbformat_minor": 2
}
