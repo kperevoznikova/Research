{
 "cells": [
  {
   "cell_type": "markdown",
   "metadata": {},
   "source": [
    "## PineScript API"
   ]
  },
  {
   "cell_type": "code",
   "execution_count": 3,
   "metadata": {},
   "outputs": [],
   "source": [
    "import json\n",
    "import requests"
   ]
  },
  {
   "cell_type": "code",
   "execution_count": 4,
   "metadata": {},
   "outputs": [],
   "source": [
    "macd = requests.get('https://pine-facade.tradingview.com/pine-facade/get/STD%3BMACD/19.0').text"
   ]
  },
  {
   "cell_type": "code",
   "execution_count": 5,
   "metadata": {},
   "outputs": [
    {
     "data": {
      "text/plain": [
       "'{\"created\":\"2021-03-09T09:52:40.285319Z\",\"extra\":{\"isBuiltIn\":true,\"isMTFResolution\":true,\"isPineEditorNewTemplate\":true,\"kind\":\"study\",\"sourceInputsCount\":1},\"scriptAccess\":\"open_no_auth\",\"scriptName\":\"MACD\",\"source\":\"//@version=4\\\\nstudy(title=\\\\\"MACD\\\\\", shorttitle=\\\\\"MACD\\\\\", resolution=\\\\\"\\\\\")\\\\n// Getting inputs\\\\nfast_length = input(title=\\\\\"Fast Length\\\\\", type=input.integer, defval=12)\\\\nslow_length = input(title=\\\\\"Slow Length\\\\\", type=input.integer, defval=26)\\\\nsrc = input(title=\\\\\"Source\\\\\", type=input.source, defval=close)\\\\nsignal_length = input(title=\\\\\"Signal Smoothing\\\\\", type=input.integer, minval = 1, maxval = 50, defval = 9)\\\\nsma_source = input(title=\\\\\"Simple MA (Oscillator)\\\\\", type=input.bool, defval=false)\\\\nsma_signal = input(title=\\\\\"Simple MA (Signal Line)\\\\\", type=input.bool, defval=false)\\\\n// Plot colors\\\\ncol_grow_above = #26A69A\\\\ncol_grow_below = #FFCDD2\\\\ncol_fall_above = #B2DFDB\\\\ncol_fall_below = #EF5350\\\\ncol_macd = #0094ff\\\\ncol_signal = #ff6a00\\\\n// Calculating\\\\nfast_ma = sma_source ? sma(src, fast_length) : ema(src, fast_length)\\\\nslow_ma = sma_source ? sma(src, slow_length) : ema(src, slow_length)\\\\nmacd = fast_ma - slow_ma\\\\nsignal = sma_signal ? sma(macd, signal_length) : ema(macd, signal_length)\\\\nhist = macd - signal\\\\nplot(hist, title=\\\\\"Histogram\\\\\", style=plot.style_columns, color=(hist>=0 ? (hist[1] < hist ? col_grow_above : col_fall_above) : (hist[1] < hist ? col_grow_below : col_fall_below) ), transp=0 )\\\\nplot(macd, title=\\\\\"MACD\\\\\", color=col_macd, transp=0)\\\\nplot(signal, title=\\\\\"Signal\\\\\", color=col_signal, transp=0)\",\"updated\":\"2021-03-09T09:52:40.285319Z\",\"version\":\"19.0\"}'"
      ]
     },
     "execution_count": 5,
     "metadata": {},
     "output_type": "execute_result"
    }
   ],
   "source": [
    "macd"
   ]
  },
  {
   "cell_type": "code",
   "execution_count": 6,
   "metadata": {},
   "outputs": [
    {
     "name": "stdout",
     "output_type": "stream",
     "text": [
      "//@version=4\n",
      "study(title=\"MACD\", shorttitle=\"MACD\", resolution=\"\")\n",
      "// Getting inputs\n",
      "fast_length = input(title=\"Fast Length\", type=input.integer, defval=12)\n",
      "slow_length = input(title=\"Slow Length\", type=input.integer, defval=26)\n",
      "src = input(title=\"Source\", type=input.source, defval=close)\n",
      "signal_length = input(title=\"Signal Smoothing\", type=input.integer, minval = 1, maxval = 50, defval = 9)\n",
      "sma_source = input(title=\"Simple MA (Oscillator)\", type=input.bool, defval=false)\n",
      "sma_signal = input(title=\"Simple MA (Signal Line)\", type=input.bool, defval=false)\n",
      "// Plot colors\n",
      "col_grow_above = #26A69A\n",
      "col_grow_below = #FFCDD2\n",
      "col_fall_above = #B2DFDB\n",
      "col_fall_below = #EF5350\n",
      "col_macd = #0094ff\n",
      "col_signal = #ff6a00\n",
      "// Calculating\n",
      "fast_ma = sma_source ? sma(src, fast_length) : ema(src, fast_length)\n",
      "slow_ma = sma_source ? sma(src, slow_length) : ema(src, slow_length)\n",
      "macd = fast_ma - slow_ma\n",
      "signal = sma_signal ? sma(macd, signal_length) : ema(macd, signal_length)\n",
      "hist = macd - signal\n",
      "plot(hist, title=\"Histogram\", style=plot.style_columns, color=(hist>=0 ? (hist[1] < hist ? col_grow_above : col_fall_above) : (hist[1] < hist ? col_grow_below : col_fall_below) ), transp=0 )\n",
      "plot(macd, title=\"MACD\", color=col_macd, transp=0)\n",
      "plot(signal, title=\"Signal\", color=col_signal, transp=0)\n"
     ]
    }
   ],
   "source": [
    "print(json.loads(macd)[\"source\"])"
   ]
  },
  {
   "cell_type": "code",
   "execution_count": null,
   "metadata": {},
   "outputs": [],
   "source": []
  }
 ],
 "metadata": {
  "kernelspec": {
   "display_name": "Python 3",
   "language": "python",
   "name": "python3"
  },
  "language_info": {
   "codemirror_mode": {
    "name": "ipython",
    "version": 3
   },
   "file_extension": ".py",
   "mimetype": "text/x-python",
   "name": "python",
   "nbconvert_exporter": "python",
   "pygments_lexer": "ipython3",
   "version": "3.7.3"
  }
 },
 "nbformat": 4,
 "nbformat_minor": 2
}
