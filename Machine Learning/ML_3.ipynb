{
 "cells": [
  {
   "cell_type": "code",
   "execution_count": 1,
   "metadata": {},
   "outputs": [],
   "source": [
    "import pandas as pd\n",
    "\n",
    "df = pd.read_csv('D:\\\\dataset_clear.csv') # Прочитаем датасет, кодированный и нормализованный в предыдущем задании"
   ]
  },
  {
   "cell_type": "code",
   "execution_count": 2,
   "metadata": {},
   "outputs": [
    {
     "data": {
      "text/plain": [
       "0       1.0\n",
       "1       NaN\n",
       "2       0.0\n",
       "3       NaN\n",
       "4       0.0\n",
       "       ... \n",
       "1929    0.0\n",
       "1930    0.0\n",
       "1931    0.0\n",
       "1932    0.0\n",
       "1933    0.0\n",
       "Name: Type, Length: 1934, dtype: float64"
      ]
     },
     "execution_count": 2,
     "metadata": {},
     "output_type": "execute_result"
    }
   ],
   "source": [
    "df.Type # Метка"
   ]
  },
  {
   "cell_type": "code",
   "execution_count": 3,
   "metadata": {
    "scrolled": true
   },
   "outputs": [
    {
     "name": "stdout",
     "output_type": "stream",
     "text": [
      "<class 'pandas.core.frame.DataFrame'>\n",
      "Int64Index: 967 entries, 0 to 1933\n",
      "Data columns (total 27 columns):\n",
      " #   Column                     Non-Null Count  Dtype  \n",
      "---  ------                     --------------  -----  \n",
      " 0   URL_LENGTH                 967 non-null    float64\n",
      " 1   NUMBER_SPECIAL_CHARACTERS  967 non-null    float64\n",
      " 2   CONTENT_LENGTH             967 non-null    float64\n",
      " 3   TCP_CONVERSATION_EXCHANGE  967 non-null    float64\n",
      " 4   DIST_REMOTE_TCP_PORT       967 non-null    float64\n",
      " 5   REMOTE_IPS                 967 non-null    float64\n",
      " 6   APP_BYTES                  967 non-null    float64\n",
      " 7   SOURCE_APP_PACKETS         967 non-null    float64\n",
      " 8   REMOTE_APP_PACKETS         967 non-null    float64\n",
      " 9   SOURCE_APP_BYTES           967 non-null    float64\n",
      " 10  REMOTE_APP_BYTES           967 non-null    float64\n",
      " 11  APP_PACKETS                967 non-null    float64\n",
      " 12  DNS_QUERY_TIMES            967 non-null    float64\n",
      " 13  Type                       967 non-null    float64\n",
      " 14  APACHE                     967 non-null    float64\n",
      " 15  HEPTU                      967 non-null    float64\n",
      " 16  PROXY                      967 non-null    float64\n",
      " 17  ECD                        967 non-null    float64\n",
      " 18  SCRATCH                    967 non-null    float64\n",
      " 19  NGINX                      967 non-null    float64\n",
      " 20  MARRAKESH                  967 non-null    float64\n",
      " 21  ZOPE                       967 non-null    float64\n",
      " 22  AERIA                      967 non-null    float64\n",
      " 23  WWW.LEXISNEXIS.COM         967 non-null    float64\n",
      " 24  BOSTON.COM                 967 non-null    float64\n",
      " 25  MY                         967 non-null    float64\n",
      " 26  MICROSOFT-IIS              967 non-null    float64\n",
      "dtypes: float64(27)\n",
      "memory usage: 211.5 KB\n"
     ]
    }
   ],
   "source": [
    "k_neigh = df.select_dtypes(include=['int64', 'float64']) # Из датасета выделим кол-ые данные\n",
    "                                                         # (игнорируем несколько кач-ых признаков, \n",
    "                                                         # не преобразованных на редыдущей лабораторной,\n",
    "                                                         # поскольку это слишком затратно)\n",
    "k_neigh = k_neigh.drop('Unnamed: 24', 1).drop('Unnamed: 0', 1).dropna()\n",
    "k_neigh.info()"
   ]
  },
  {
   "cell_type": "code",
   "execution_count": 4,
   "metadata": {},
   "outputs": [
    {
     "data": {
      "text/html": [
       "<div>\n",
       "<style scoped>\n",
       "    .dataframe tbody tr th:only-of-type {\n",
       "        vertical-align: middle;\n",
       "    }\n",
       "\n",
       "    .dataframe tbody tr th {\n",
       "        vertical-align: top;\n",
       "    }\n",
       "\n",
       "    .dataframe thead th {\n",
       "        text-align: right;\n",
       "    }\n",
       "</style>\n",
       "<table border=\"1\" class=\"dataframe\">\n",
       "  <thead>\n",
       "    <tr style=\"text-align: right;\">\n",
       "      <th></th>\n",
       "      <th>URL_LENGTH</th>\n",
       "      <th>NUMBER_SPECIAL_CHARACTERS</th>\n",
       "      <th>CONTENT_LENGTH</th>\n",
       "      <th>TCP_CONVERSATION_EXCHANGE</th>\n",
       "      <th>DIST_REMOTE_TCP_PORT</th>\n",
       "      <th>REMOTE_IPS</th>\n",
       "      <th>APP_BYTES</th>\n",
       "      <th>SOURCE_APP_PACKETS</th>\n",
       "      <th>REMOTE_APP_PACKETS</th>\n",
       "      <th>SOURCE_APP_BYTES</th>\n",
       "      <th>...</th>\n",
       "      <th>ECD</th>\n",
       "      <th>SCRATCH</th>\n",
       "      <th>NGINX</th>\n",
       "      <th>MARRAKESH</th>\n",
       "      <th>ZOPE</th>\n",
       "      <th>AERIA</th>\n",
       "      <th>WWW.LEXISNEXIS.COM</th>\n",
       "      <th>BOSTON.COM</th>\n",
       "      <th>MY</th>\n",
       "      <th>MICROSOFT-IIS</th>\n",
       "    </tr>\n",
       "  </thead>\n",
       "  <tbody>\n",
       "    <tr>\n",
       "      <th>0</th>\n",
       "      <td>0.000000</td>\n",
       "      <td>0.027027</td>\n",
       "      <td>0.000405</td>\n",
       "      <td>0.005863</td>\n",
       "      <td>0.000000</td>\n",
       "      <td>0.117647</td>\n",
       "      <td>0.007011</td>\n",
       "      <td>0.007513</td>\n",
       "      <td>0.007788</td>\n",
       "      <td>0.000560</td>\n",
       "      <td>...</td>\n",
       "      <td>0.0</td>\n",
       "      <td>0.0</td>\n",
       "      <td>0.0</td>\n",
       "      <td>0.0</td>\n",
       "      <td>0.0</td>\n",
       "      <td>0.0</td>\n",
       "      <td>0.0</td>\n",
       "      <td>0.0</td>\n",
       "      <td>0.0</td>\n",
       "      <td>1.0</td>\n",
       "    </tr>\n",
       "    <tr>\n",
       "      <th>2</th>\n",
       "      <td>0.000000</td>\n",
       "      <td>0.000000</td>\n",
       "      <td>0.000499</td>\n",
       "      <td>0.000000</td>\n",
       "      <td>0.000000</td>\n",
       "      <td>0.000000</td>\n",
       "      <td>0.000000</td>\n",
       "      <td>0.000000</td>\n",
       "      <td>0.000000</td>\n",
       "      <td>0.000000</td>\n",
       "      <td>...</td>\n",
       "      <td>0.0</td>\n",
       "      <td>0.0</td>\n",
       "      <td>0.0</td>\n",
       "      <td>0.0</td>\n",
       "      <td>0.0</td>\n",
       "      <td>0.0</td>\n",
       "      <td>0.0</td>\n",
       "      <td>0.0</td>\n",
       "      <td>0.0</td>\n",
       "      <td>1.0</td>\n",
       "    </tr>\n",
       "    <tr>\n",
       "      <th>4</th>\n",
       "      <td>0.004292</td>\n",
       "      <td>0.000000</td>\n",
       "      <td>0.191201</td>\n",
       "      <td>0.047739</td>\n",
       "      <td>0.034483</td>\n",
       "      <td>0.294118</td>\n",
       "      <td>0.042847</td>\n",
       "      <td>0.050918</td>\n",
       "      <td>0.048287</td>\n",
       "      <td>0.063053</td>\n",
       "      <td>...</td>\n",
       "      <td>0.0</td>\n",
       "      <td>0.0</td>\n",
       "      <td>0.0</td>\n",
       "      <td>0.0</td>\n",
       "      <td>0.0</td>\n",
       "      <td>0.0</td>\n",
       "      <td>0.0</td>\n",
       "      <td>0.0</td>\n",
       "      <td>0.0</td>\n",
       "      <td>1.0</td>\n",
       "    </tr>\n",
       "    <tr>\n",
       "      <th>6</th>\n",
       "      <td>0.012876</td>\n",
       "      <td>0.000000</td>\n",
       "      <td>0.000499</td>\n",
       "      <td>0.000000</td>\n",
       "      <td>0.000000</td>\n",
       "      <td>0.000000</td>\n",
       "      <td>0.000000</td>\n",
       "      <td>0.000000</td>\n",
       "      <td>0.000000</td>\n",
       "      <td>0.000000</td>\n",
       "      <td>...</td>\n",
       "      <td>0.0</td>\n",
       "      <td>0.0</td>\n",
       "      <td>0.0</td>\n",
       "      <td>0.0</td>\n",
       "      <td>0.0</td>\n",
       "      <td>0.0</td>\n",
       "      <td>0.0</td>\n",
       "      <td>0.0</td>\n",
       "      <td>0.0</td>\n",
       "      <td>1.0</td>\n",
       "    </tr>\n",
       "    <tr>\n",
       "      <th>8</th>\n",
       "      <td>0.017167</td>\n",
       "      <td>0.027027</td>\n",
       "      <td>0.021125</td>\n",
       "      <td>0.013400</td>\n",
       "      <td>0.103448</td>\n",
       "      <td>0.470588</td>\n",
       "      <td>0.014943</td>\n",
       "      <td>0.016694</td>\n",
       "      <td>0.015576</td>\n",
       "      <td>0.001133</td>\n",
       "      <td>...</td>\n",
       "      <td>0.0</td>\n",
       "      <td>0.0</td>\n",
       "      <td>0.0</td>\n",
       "      <td>0.0</td>\n",
       "      <td>0.0</td>\n",
       "      <td>0.0</td>\n",
       "      <td>0.0</td>\n",
       "      <td>0.0</td>\n",
       "      <td>0.0</td>\n",
       "      <td>1.0</td>\n",
       "    </tr>\n",
       "    <tr>\n",
       "      <th>...</th>\n",
       "      <td>...</td>\n",
       "      <td>...</td>\n",
       "      <td>...</td>\n",
       "      <td>...</td>\n",
       "      <td>...</td>\n",
       "      <td>...</td>\n",
       "      <td>...</td>\n",
       "      <td>...</td>\n",
       "      <td>...</td>\n",
       "      <td>...</td>\n",
       "      <td>...</td>\n",
       "      <td>...</td>\n",
       "      <td>...</td>\n",
       "      <td>...</td>\n",
       "      <td>...</td>\n",
       "      <td>...</td>\n",
       "      <td>...</td>\n",
       "      <td>...</td>\n",
       "      <td>...</td>\n",
       "      <td>...</td>\n",
       "      <td>...</td>\n",
       "    </tr>\n",
       "    <tr>\n",
       "      <th>955</th>\n",
       "      <td>0.540773</td>\n",
       "      <td>0.432432</td>\n",
       "      <td>0.006051</td>\n",
       "      <td>0.058626</td>\n",
       "      <td>0.034483</td>\n",
       "      <td>0.352941</td>\n",
       "      <td>0.054065</td>\n",
       "      <td>0.061770</td>\n",
       "      <td>0.052960</td>\n",
       "      <td>0.066574</td>\n",
       "      <td>...</td>\n",
       "      <td>0.0</td>\n",
       "      <td>0.0</td>\n",
       "      <td>0.0</td>\n",
       "      <td>0.0</td>\n",
       "      <td>0.0</td>\n",
       "      <td>0.0</td>\n",
       "      <td>0.0</td>\n",
       "      <td>0.0</td>\n",
       "      <td>0.0</td>\n",
       "      <td>0.0</td>\n",
       "    </tr>\n",
       "    <tr>\n",
       "      <th>958</th>\n",
       "      <td>0.553648</td>\n",
       "      <td>0.675676</td>\n",
       "      <td>0.059084</td>\n",
       "      <td>0.008375</td>\n",
       "      <td>0.051724</td>\n",
       "      <td>0.176471</td>\n",
       "      <td>0.013561</td>\n",
       "      <td>0.015025</td>\n",
       "      <td>0.014798</td>\n",
       "      <td>0.001222</td>\n",
       "      <td>...</td>\n",
       "      <td>0.0</td>\n",
       "      <td>0.0</td>\n",
       "      <td>0.0</td>\n",
       "      <td>0.0</td>\n",
       "      <td>0.0</td>\n",
       "      <td>0.0</td>\n",
       "      <td>0.0</td>\n",
       "      <td>0.0</td>\n",
       "      <td>0.0</td>\n",
       "      <td>1.0</td>\n",
       "    </tr>\n",
       "    <tr>\n",
       "      <th>960</th>\n",
       "      <td>0.570815</td>\n",
       "      <td>0.459459</td>\n",
       "      <td>0.010393</td>\n",
       "      <td>0.000000</td>\n",
       "      <td>0.000000</td>\n",
       "      <td>0.000000</td>\n",
       "      <td>0.000000</td>\n",
       "      <td>0.000000</td>\n",
       "      <td>0.000000</td>\n",
       "      <td>0.000000</td>\n",
       "      <td>...</td>\n",
       "      <td>0.0</td>\n",
       "      <td>0.0</td>\n",
       "      <td>0.0</td>\n",
       "      <td>0.0</td>\n",
       "      <td>0.0</td>\n",
       "      <td>0.0</td>\n",
       "      <td>0.0</td>\n",
       "      <td>0.0</td>\n",
       "      <td>0.0</td>\n",
       "      <td>1.0</td>\n",
       "    </tr>\n",
       "    <tr>\n",
       "      <th>962</th>\n",
       "      <td>0.618026</td>\n",
       "      <td>0.621622</td>\n",
       "      <td>0.056724</td>\n",
       "      <td>0.015913</td>\n",
       "      <td>0.051724</td>\n",
       "      <td>0.411765</td>\n",
       "      <td>0.024058</td>\n",
       "      <td>0.020868</td>\n",
       "      <td>0.017134</td>\n",
       "      <td>0.002180</td>\n",
       "      <td>...</td>\n",
       "      <td>0.0</td>\n",
       "      <td>0.0</td>\n",
       "      <td>0.0</td>\n",
       "      <td>0.0</td>\n",
       "      <td>0.0</td>\n",
       "      <td>0.0</td>\n",
       "      <td>0.0</td>\n",
       "      <td>0.0</td>\n",
       "      <td>0.0</td>\n",
       "      <td>1.0</td>\n",
       "    </tr>\n",
       "    <tr>\n",
       "      <th>966</th>\n",
       "      <td>1.000000</td>\n",
       "      <td>0.918919</td>\n",
       "      <td>0.037635</td>\n",
       "      <td>0.015913</td>\n",
       "      <td>0.103448</td>\n",
       "      <td>0.647059</td>\n",
       "      <td>0.023176</td>\n",
       "      <td>0.020868</td>\n",
       "      <td>0.021807</td>\n",
       "      <td>0.001475</td>\n",
       "      <td>...</td>\n",
       "      <td>0.0</td>\n",
       "      <td>0.0</td>\n",
       "      <td>0.0</td>\n",
       "      <td>0.0</td>\n",
       "      <td>0.0</td>\n",
       "      <td>0.0</td>\n",
       "      <td>0.0</td>\n",
       "      <td>0.0</td>\n",
       "      <td>0.0</td>\n",
       "      <td>1.0</td>\n",
       "    </tr>\n",
       "  </tbody>\n",
       "</table>\n",
       "<p>338 rows × 27 columns</p>\n",
       "</div>"
      ],
      "text/plain": [
       "     URL_LENGTH  NUMBER_SPECIAL_CHARACTERS  CONTENT_LENGTH  \\\n",
       "0      0.000000                   0.027027        0.000405   \n",
       "2      0.000000                   0.000000        0.000499   \n",
       "4      0.004292                   0.000000        0.191201   \n",
       "6      0.012876                   0.000000        0.000499   \n",
       "8      0.017167                   0.027027        0.021125   \n",
       "..          ...                        ...             ...   \n",
       "955    0.540773                   0.432432        0.006051   \n",
       "958    0.553648                   0.675676        0.059084   \n",
       "960    0.570815                   0.459459        0.010393   \n",
       "962    0.618026                   0.621622        0.056724   \n",
       "966    1.000000                   0.918919        0.037635   \n",
       "\n",
       "     TCP_CONVERSATION_EXCHANGE  DIST_REMOTE_TCP_PORT  REMOTE_IPS  APP_BYTES  \\\n",
       "0                     0.005863              0.000000    0.117647   0.007011   \n",
       "2                     0.000000              0.000000    0.000000   0.000000   \n",
       "4                     0.047739              0.034483    0.294118   0.042847   \n",
       "6                     0.000000              0.000000    0.000000   0.000000   \n",
       "8                     0.013400              0.103448    0.470588   0.014943   \n",
       "..                         ...                   ...         ...        ...   \n",
       "955                   0.058626              0.034483    0.352941   0.054065   \n",
       "958                   0.008375              0.051724    0.176471   0.013561   \n",
       "960                   0.000000              0.000000    0.000000   0.000000   \n",
       "962                   0.015913              0.051724    0.411765   0.024058   \n",
       "966                   0.015913              0.103448    0.647059   0.023176   \n",
       "\n",
       "     SOURCE_APP_PACKETS  REMOTE_APP_PACKETS  SOURCE_APP_BYTES  ...  ECD  \\\n",
       "0              0.007513            0.007788          0.000560  ...  0.0   \n",
       "2              0.000000            0.000000          0.000000  ...  0.0   \n",
       "4              0.050918            0.048287          0.063053  ...  0.0   \n",
       "6              0.000000            0.000000          0.000000  ...  0.0   \n",
       "8              0.016694            0.015576          0.001133  ...  0.0   \n",
       "..                  ...                 ...               ...  ...  ...   \n",
       "955            0.061770            0.052960          0.066574  ...  0.0   \n",
       "958            0.015025            0.014798          0.001222  ...  0.0   \n",
       "960            0.000000            0.000000          0.000000  ...  0.0   \n",
       "962            0.020868            0.017134          0.002180  ...  0.0   \n",
       "966            0.020868            0.021807          0.001475  ...  0.0   \n",
       "\n",
       "     SCRATCH  NGINX  MARRAKESH  ZOPE  AERIA  WWW.LEXISNEXIS.COM  BOSTON.COM  \\\n",
       "0        0.0    0.0        0.0   0.0    0.0                 0.0         0.0   \n",
       "2        0.0    0.0        0.0   0.0    0.0                 0.0         0.0   \n",
       "4        0.0    0.0        0.0   0.0    0.0                 0.0         0.0   \n",
       "6        0.0    0.0        0.0   0.0    0.0                 0.0         0.0   \n",
       "8        0.0    0.0        0.0   0.0    0.0                 0.0         0.0   \n",
       "..       ...    ...        ...   ...    ...                 ...         ...   \n",
       "955      0.0    0.0        0.0   0.0    0.0                 0.0         0.0   \n",
       "958      0.0    0.0        0.0   0.0    0.0                 0.0         0.0   \n",
       "960      0.0    0.0        0.0   0.0    0.0                 0.0         0.0   \n",
       "962      0.0    0.0        0.0   0.0    0.0                 0.0         0.0   \n",
       "966      0.0    0.0        0.0   0.0    0.0                 0.0         0.0   \n",
       "\n",
       "      MY  MICROSOFT-IIS  \n",
       "0    0.0            1.0  \n",
       "2    0.0            1.0  \n",
       "4    0.0            1.0  \n",
       "6    0.0            1.0  \n",
       "8    0.0            1.0  \n",
       "..   ...            ...  \n",
       "955  0.0            0.0  \n",
       "958  0.0            1.0  \n",
       "960  0.0            1.0  \n",
       "962  0.0            1.0  \n",
       "966  0.0            1.0  \n",
       "\n",
       "[338 rows x 27 columns]"
      ]
     },
     "execution_count": 4,
     "metadata": {},
     "output_type": "execute_result"
    }
   ],
   "source": [
    "from sklearn.preprocessing import MinMaxScaler\n",
    "\n",
    "mms = MinMaxScaler()\n",
    "\n",
    "def scaleColumns(df, cols_to_scale, scaler):\n",
    "    for col in cols_to_scale: # Нормализуем значения каждого столбца\n",
    "                              # Конструктор DataFrame используется, т.к. MMS возвращает numpy-массив\n",
    "        df[col] = pd.DataFrame(scaler.fit_transform(pd.DataFrame(df[col])),columns=[col])\n",
    "    return df\n",
    "\n",
    "k_neigh_scaled = scaleColumns(k_neigh, list(k_neigh.columns.values), mms).dropna()\n",
    "k_neigh_scaled"
   ]
  },
  {
   "cell_type": "code",
   "execution_count": 5,
   "metadata": {},
   "outputs": [],
   "source": [
    "from sklearn.model_selection import train_test_split\n",
    "from sklearn.neighbors import KNeighborsClassifier\n",
    "from sklearn.preprocessing import StandardScaler\n",
    "\n",
    "# Разделение значений признаков и меток на тренировочные и тестовые\n",
    "train = train_test_split(k_neigh_scaled.drop('Type', 1), k_neigh_scaled['Type'], test_size=.25, random_state=100)\n",
    "x_train, x_test, y_train, y_test = train"
   ]
  },
  {
   "cell_type": "code",
   "execution_count": 6,
   "metadata": {},
   "outputs": [
    {
     "data": {
      "text/plain": [
       "KNeighborsClassifier(metric='euclidean', n_neighbors=50)"
      ]
     },
     "execution_count": 6,
     "metadata": {},
     "output_type": "execute_result"
    }
   ],
   "source": [
    "# Создание и обучение классификатора\n",
    "knn = KNeighborsClassifier(n_neighbors=50, metric='euclidean')\n",
    "knn.fit(x_train, y_train)"
   ]
  },
  {
   "cell_type": "code",
   "execution_count": 7,
   "metadata": {},
   "outputs": [
    {
     "name": "stdout",
     "output_type": "stream",
     "text": [
      "[0. 0. 0. 0. 0. 0. 0. 0. 0. 0. 0. 0. 0. 0. 0. 0. 0. 0. 0. 0. 0. 0. 0. 0.\n",
      " 0. 0. 0. 0. 0. 0. 0. 0. 0. 0. 0. 0. 0. 0. 0. 0. 0. 0. 0. 0. 0. 0. 0. 0.\n",
      " 0. 0. 0. 0. 0. 0. 0. 0. 0. 0. 0. 0. 0. 0. 0. 0. 0. 0. 0. 0. 0. 0. 0. 0.\n",
      " 0. 0. 0. 0. 0. 0. 0. 0. 0. 0. 0. 0. 0.]\n"
     ]
    }
   ],
   "source": [
    "# Прогнозирование значений меток для тестового набора\n",
    "prediction = knn.predict(x_test)\n",
    "print(prediction)"
   ]
  },
  {
   "cell_type": "code",
   "execution_count": 8,
   "metadata": {},
   "outputs": [
    {
     "data": {
      "text/plain": [
       "0.0    85\n",
       "Name: predict, dtype: int64"
      ]
     },
     "execution_count": 8,
     "metadata": {},
     "output_type": "execute_result"
    }
   ],
   "source": [
    "x_test.assign(predict=prediction).predict.value_counts()"
   ]
  },
  {
   "cell_type": "code",
   "execution_count": 9,
   "metadata": {},
   "outputs": [
    {
     "data": {
      "text/plain": [
       "0.9058823529411765"
      ]
     },
     "execution_count": 9,
     "metadata": {},
     "output_type": "execute_result"
    }
   ],
   "source": [
    "knn.score(x_test, y_test) # Видим, что классификатор не переобучен"
   ]
  },
  {
   "cell_type": "code",
   "execution_count": 10,
   "metadata": {
    "scrolled": true
   },
   "outputs": [
    {
     "data": {
      "text/plain": [
       "URL_LENGTH                   0.167649\n",
       "NUMBER_SPECIAL_CHARACTERS    0.127219\n",
       "CONTENT_LENGTH               0.000405\n",
       "TCP_CONVERSATION_EXCHANGE    0.005863\n",
       "DIST_REMOTE_TCP_PORT         0.000000\n",
       "REMOTE_IPS                   0.117647\n",
       "APP_BYTES                    0.007011\n",
       "SOURCE_APP_PACKETS           0.007513\n",
       "REMOTE_APP_PACKETS           0.007788\n",
       "SOURCE_APP_BYTES             0.000560\n",
       "REMOTE_APP_BYTES             0.008307\n",
       "APP_PACKETS                  0.007513\n",
       "DNS_QUERY_TIMES              0.100000\n",
       "APACHE                       0.000000\n",
       "HEPTU                        0.000000\n",
       "PROXY                        0.000000\n",
       "ECD                          0.000000\n",
       "SCRATCH                      0.000000\n",
       "NGINX                        1.000000\n",
       "MARRAKESH                    0.000000\n",
       "ZOPE                         0.000000\n",
       "AERIA                        0.000000\n",
       "WWW.LEXISNEXIS.COM           0.000000\n",
       "BOSTON.COM                   0.000000\n",
       "MY                           0.000000\n",
       "MICROSOFT-IIS                0.000000\n",
       "Name: 0, dtype: float64"
      ]
     },
     "execution_count": 10,
     "metadata": {},
     "output_type": "execute_result"
    }
   ],
   "source": [
    "# Создадим новую запись для эксплуатации классификатора\n",
    "data_new = k_neigh_scaled.drop('Type', 1).iloc[0]\n",
    "data_new.URL_LENGTH = k_neigh_scaled.URL_LENGTH.mean()\n",
    "data_new.NUMBER_SPECIAL_CHARACTERS = k_neigh_scaled.NUMBER_SPECIAL_CHARACTERS.mean()\n",
    "data_new['MICROSOFT-IIS'] = .0\n",
    "data_new['NGINX'] = 1.               \n",
    "data_new"
   ]
  },
  {
   "cell_type": "code",
   "execution_count": 11,
   "metadata": {},
   "outputs": [
    {
     "data": {
      "text/plain": [
       "array([0.])"
      ]
     },
     "execution_count": 11,
     "metadata": {},
     "output_type": "execute_result"
    }
   ],
   "source": [
    "# Прогнозирование значений меток для новых данных [эксплуатация классификатора]:\n",
    "df_new = pd.DataFrame(data_new.to_numpy().reshape(1,-1))\n",
    "knn.predict(df_new)"
   ]
  },
  {
   "cell_type": "code",
   "execution_count": 12,
   "metadata": {},
   "outputs": [
    {
     "data": {
      "text/plain": [
       "[<matplotlib.lines.Line2D at 0x19e512a7e80>]"
      ]
     },
     "execution_count": 12,
     "metadata": {},
     "output_type": "execute_result"
    }
   ],
   "source": [
    "# Проанализируем средние расстояния между точками, чтобы обнаружить аномалии при классификации новых объектов\n",
    "import matplotlib.pyplot as plt\n",
    "distances, labels = knn.kneighbors(x_test)\n",
    "plt.plot(distances.mean(axis=1))"
   ]
  },
  {
   "cell_type": "code",
   "execution_count": 17,
   "metadata": {},
   "outputs": [
    {
     "data": {
      "text/plain": [
       "1.0433598774939268"
      ]
     },
     "execution_count": 17,
     "metadata": {},
     "output_type": "execute_result"
    }
   ],
   "source": [
    "distances.mean(axis=1).max() # Значения выше максимальных средних будут считаться аномальными"
   ]
  },
  {
   "cell_type": "code",
   "execution_count": 14,
   "metadata": {},
   "outputs": [],
   "source": [
    "import numpy as np\n",
    "def out_of_range(reference:pd.DataFrame, objs:pd.DataFrame, knn):\n",
    "    ref_distances, _ = knn.kneighbors(reference)\n",
    "    edge = ref_distances.mean(axis=1).max()\n",
    "\n",
    "    distances, _ = knn.kneighbors(objs)\n",
    "    return objs.iloc[np.where(distances.mean(axis=1) > edge)]"
   ]
  }
 ],
 "metadata": {
  "kernelspec": {
   "display_name": "Python 3",
   "language": "python",
   "name": "python3"
  },
  "language_info": {
   "codemirror_mode": {
    "name": "ipython",
    "version": 3
   },
   "file_extension": ".py",
   "mimetype": "text/x-python",
   "name": "python",
   "nbconvert_exporter": "python",
   "pygments_lexer": "ipython3",
   "version": "3.7.3"
  }
 },
 "nbformat": 4,
 "nbformat_minor": 2
}
