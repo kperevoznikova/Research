{
 "cells": [
  {
   "cell_type": "markdown",
   "metadata": {},
   "source": [
    "## Задание 1"
   ]
  },
  {
   "cell_type": "code",
   "execution_count": 23,
   "metadata": {},
   "outputs": [],
   "source": [
    "from PIL import Image, ImageDraw # Для удобства работы с растровыми изображениями будем использовать библиотеку Pillow \n",
    "\n",
    "image = Image.open('plane.png')  # Открываем изображение\n",
    "draw = ImageDraw.Draw(image)  # Создаем инструмент рисования\n",
    "width = image.size[0]  # Определяем ширину\n",
    "height = image.size[1]  # Определяем высоту\n",
    "pix = image.load() # Получаем объект PixelAccess для взаимодействия с пикселями "
   ]
  },
  {
   "cell_type": "code",
   "execution_count": 21,
   "metadata": {},
   "outputs": [],
   "source": [
    "def get_y(r,g,b):\n",
    "    return int(0.299 * r  + 0.587 * g + 0.114 * b) # Преобразуем по данной формуле и округляем до целого"
   ]
  },
  {
   "cell_type": "code",
   "execution_count": 25,
   "metadata": {},
   "outputs": [],
   "source": [
    "values = list() # В этом списке будем хранить яркость каждого пикселя для дальнейшего анализа\n",
    "for x in range(width):\n",
    "    for y in range(height):\n",
    "        r, g, b = pix[x, y] # Получаем значение для каждого цвета\n",
    "        y_i = get_y(r,g,b) # Получаем яркость пикселя для преобразования\n",
    "        draw.point((x, y), (y_i, y_i, y_i)) # Записываем полученную величину\n",
    "        values.append(y_i)\n",
    "\n",
    "# Сохраним полученное изображение и проверим\n",
    "image.save(\"plane_gray.png\", \"PNG\")\n",
    "image.show()"
   ]
  },
  {
   "cell_type": "code",
   "execution_count": 28,
   "metadata": {},
   "outputs": [
    {
     "data": {
      "text/plain": [
       "<matplotlib.axes._subplots.AxesSubplot at 0x143efa37780>"
      ]
     },
     "execution_count": 28,
     "metadata": {},
     "output_type": "execute_result"
    },
    {
     "data": {
      "image/png": "[encoded data removed]",
      "text/plain": [
       "<Figure size 432x288 with 1 Axes>"
      ]
     },
     "metadata": {
      "needs_background": "light"
     },
     "output_type": "display_data"
    }
   ],
   "source": [
    "import seaborn as sns\n",
    "import matplotlib.pyplot as plt\n",
    "\n",
    "# Наконец, построим гистограмму\n",
    "plt.figure()\n",
    "plt.ylabel('h')\n",
    "sns.distplot(values)"
   ]
  },
  {
   "cell_type": "markdown",
   "metadata": {},
   "source": [
    "Как видно из гистограммы, необходимая область однородности находится на промежутке от 0 до 50-ти."
   ]
  },
  {
   "cell_type": "code",
   "execution_count": 37,
   "metadata": {},
   "outputs": [],
   "source": [
    "image = Image.open('plane.png')\n",
    "draw = ImageDraw.Draw(image)\n",
    "pix = image.load()\n",
    "\n",
    "lines = ['R,G,B,label\\n'] # В этом списке будем хранить строки итогового csv-файла\n",
    "red = (255, 0, 0) # Цвет заливки\n",
    "for x in range(width):\n",
    "    for y in range(height):\n",
    "        r, g, b = pix[x, y]\n",
    "        y_i = get_y(r,g,b)\n",
    "        \n",
    "        if y_i < 50:\n",
    "            label = '1\\n'\n",
    "            draw.point((x, y), red)\n",
    "        else:\n",
    "            label = '2\\n'\n",
    "        lines.append(','.join([str(r),str(g),str(b),label]))\n",
    "\n",
    "image.save(\"plane_colored.png\", \"PNG\")\n",
    "with open('colors.csv', 'w') as f:\n",
    "    f.writelines(lines)"
   ]
  },
  {
   "cell_type": "code",
   "execution_count": null,
   "metadata": {},
   "outputs": [],
   "source": []
  }
 ],
 "metadata": {
  "kernelspec": {
   "display_name": "Python 3",
   "language": "python",
   "name": "python3"
  },
  "language_info": {
   "codemirror_mode": {
    "name": "ipython",
    "version": 3
   },
   "file_extension": ".py",
   "mimetype": "text/x-python",
   "name": "python",
   "nbconvert_exporter": "python",
   "pygments_lexer": "ipython3",
   "version": "3.7.3"
  }
 },
 "nbformat": 4,
 "nbformat_minor": 2
}
