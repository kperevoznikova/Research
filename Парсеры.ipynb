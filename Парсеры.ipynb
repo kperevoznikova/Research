{
 "cells": [
  {
   "cell_type": "markdown",
   "metadata": {},
   "source": [
    "### Вернуть словарь аудиозаписей VK"
   ]
  },
  {
   "cell_type": "code",
   "execution_count": 3,
   "metadata": {},
   "outputs": [],
   "source": [
    "from bs4 import BeautifulSoup as bs"
   ]
  },
  {
   "cell_type": "code",
   "execution_count": 12,
   "metadata": {},
   "outputs": [],
   "source": [
    "from selenium import webdriver\n",
    "from selenium.webdriver.chrome.options import Options\n",
    "from selenium.webdriver.firefox.firefox_binary import FirefoxBinary\n",
    "\n",
    "def audios(url):\n",
    "    driver = webdriver.Firefox(\n",
    "                            firefox_binary=FirefoxBinary('C:\\Program Files\\\\Firefox Developer Edition\\\\firefox.exe'),\n",
    "                            executable_path='C:\\\\Users\\\\xenia\\\\Documents\\\\geckodriver.exe',\n",
    "                            options=Options().add_argument(\"--headless\"))\n",
    "    driver.get(url)\n",
    "    return driver.page_source\n",
    "\n",
    "html = audios('https://vk.com/audios112435967')"
   ]
  },
  {
   "cell_type": "code",
   "execution_count": 27,
   "metadata": {},
   "outputs": [],
   "source": [
    "soup = bs(html, 'html.parser')"
   ]
  },
  {
   "cell_type": "markdown",
   "metadata": {},
   "source": [
    "### Случайное сообщение с smssend"
   ]
  },
  {
   "cell_type": "code",
   "execution_count": 4,
   "metadata": {},
   "outputs": [],
   "source": [
    "import requests\n",
    "from random import randint\n",
    "\n",
    "class Soup:\n",
    "    def __init__(self, url, param_name):\n",
    "        self.url = url\n",
    "        self.param_name = param_name\n",
    "        self.page_count = self.calculate_pages()\n",
    "    \n",
    "    def make_soup(url, params):\n",
    "        req = requests.get(url, params=params,\n",
    "                          headers = {\n",
    "            'User-Agent': 'Mozilla/5.0 (Macintosh;' \\\n",
    "            'Intel Mac OS X 10.9; rv:45.0) ' \\\n",
    "            'Gecko/20100101 Firefox/45.0'\n",
    "        })\n",
    "        return bs(req.text, 'html.parser')\n",
    "    \n",
    "    def calculate_pages(self):\n",
    "        soup = Soup.make_soup(self.url, {self.param_name: 1})\n",
    "        links = soup.find_all('a')\n",
    "        end_n = int(links[6]['href'].split('=')[-1])\n",
    "        return end_n\n",
    "    \n",
    "    def random_page(self) -> list:\n",
    "        divs = Soup.make_soup(\n",
    "            self.url,\n",
    "            {self.param_name: randint(1, self.page_count)}\n",
    "        ).find_all('div', class_='center-col__content-send_mess')\n",
    "        #[(to, text),...]\n",
    "        return [(d.contents[1].text, d.contents[3].text) for d in divs]\n",
    "    \n",
    "    def random_quote(self):\n",
    "        rnd_page = self.random_page()\n",
    "        return rnd_page[randint(0, len(rnd_page))]"
   ]
  },
  {
   "cell_type": "code",
   "execution_count": 5,
   "metadata": {
    "scrolled": true
   },
   "outputs": [
    {
     "data": {
      "text/plain": [
       "('+7 919 742 ... 23', 'Зачем ты так с моей сестрой,она ведь тебе преданна')"
      ]
     },
     "execution_count": 5,
     "metadata": {},
     "output_type": "execute_result"
    }
   ],
   "source": [
    "soup = Soup(\n",
    "    url='https://smsend.ru/sent-sms.php',\n",
    "    param_name='PAGEN_1',\n",
    ")\n",
    "soup.random_quote()"
   ]
  },
  {
   "cell_type": "code",
   "execution_count": 48,
   "metadata": {},
   "outputs": [],
   "source": [
    "import telebot\n",
    "\n",
    "bot = telebot.TeleBot('1314914901:AAHqioOQefwJREFoUp7N8vi1Bc31fvj-KKU')\n",
    "\n",
    "@bot.message_handler(commands=[\"quote\"])\n",
    "def quote(msg):\n",
    "    quote = soup.random_quote()\n",
    "    bot.send_message(\n",
    "        msg.chat.id, \n",
    "        f'*{quote[0]}*\\n{quote[1]}',\n",
    "        parse_mode='markdown',\n",
    "    )"
   ]
  },
  {
   "cell_type": "code",
   "execution_count": 49,
   "metadata": {},
   "outputs": [],
   "source": [
    "bot.polling(none_stop=True)"
   ]
  }
 ],
 "metadata": {
  "kernelspec": {
   "display_name": "Python 3",
   "language": "python",
   "name": "python3"
  },
  "language_info": {
   "codemirror_mode": {
    "name": "ipython",
    "version": 3
   },
   "file_extension": ".py",
   "mimetype": "text/x-python",
   "name": "python",
   "nbconvert_exporter": "python",
   "pygments_lexer": "ipython3",
   "version": "3.7.3"
  }
 },
 "nbformat": 4,
 "nbformat_minor": 2
}
