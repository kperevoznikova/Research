{
 "cells": [
  {
   "cell_type": "code",
   "execution_count": 7,
   "metadata": {},
   "outputs": [],
   "source": [
    "class GF:\n",
    "    def __init__(self, p, m, px, elements):\n",
    "        self.p = p\n",
    "        self.m = m\n",
    "        self.px = px\n",
    "        self.notation = 'α'\n",
    "        self.elements = elements\n",
    "    def __str__(self, n):\n",
    "        if n < 2:\n",
    "            return str(n)\n",
    "        elif n - 1 > 1:\n",
    "            return self.notation + str(n - 1)\n",
    "        return self.notation\n",
    "    def addition_table(self, binary=False):\n",
    "        for i in range(self.p ** self.m):\n",
    "            row = []\n",
    "            for j in range(self.p ** self.m):\n",
    "                seq = int(self.elements[i],2) ^ int(self.elements[j],2)\n",
    "                row.append(eval(\"f'{seq\" + ':>0' f'{self.m}' + \"b}'\"))\n",
    "            if binary:\n",
    "                print(row)\n",
    "            else:\n",
    "                print([self.__str__(self.elements.index(i)) for i in row])\n",
    "    def multiplication_table(self, binary=False):\n",
    "        '''for i in range(self.p ** self.m):\n",
    "            row = []\n",
    "            for j in range(self.p ** self.m):\n",
    "                seq = multiply(int(self.elements[i],2),int(self.elements[j],2))\n",
    "                #row.append(seq)\n",
    "                seq = (seq % int(self.px,2))\n",
    "                row.append(bin(seq))\n",
    "                #row.append(eval(\"f'{seq\" + ':>' f'{self.m}' + \"b}'\"))\n",
    "            print(row)'''"
   ]
  },
  {
   "cell_type": "code",
   "execution_count": 55,
   "metadata": {
    "scrolled": false
   },
   "outputs": [
    {
     "name": "stdout",
     "output_type": "stream",
     "text": [
      "['0', '1', 'α', 'α2', 'α3', 'α4', 'α5', 'α6', 'α7', 'α8', 'α9', 'α10', 'α11', 'α12', 'α13', 'α14']\n",
      "['1', '0', 'α12', 'α9', 'α4', 'α3', 'α10', 'α8', 'α13', 'α6', 'α2', 'α5', 'α14', 'α', 'α7', 'α11']\n",
      "['α', 'α12', '0', 'α13', 'α10', 'α5', 'α4', 'α11', 'α9', 'α14', 'α7', 'α3', 'α6', '1', 'α2', 'α8']\n",
      "['α2', 'α9', 'α13', '0', 'α14', 'α11', 'α6', 'α5', 'α12', 'α10', '1', 'α8', 'α4', 'α7', 'α', 'α3']\n",
      "['α3', 'α4', 'α10', 'α14', '0', '1', 'α12', 'α7', 'α6', 'α13', 'α11', 'α', 'α9', 'α5', 'α8', 'α2']\n",
      "['α4', 'α3', 'α5', 'α11', '1', '0', 'α', 'α13', 'α8', 'α7', 'α14', 'α12', 'α2', 'α10', 'α6', 'α9']\n",
      "['α5', 'α10', 'α4', 'α6', 'α12', 'α', '0', 'α2', 'α14', 'α9', 'α8', '1', 'α13', 'α3', 'α11', 'α7']\n",
      "['α6', 'α8', 'α11', 'α5', 'α7', 'α13', 'α2', '0', 'α3', '1', 'α10', 'α9', 'α', 'α14', 'α4', 'α12']\n",
      "['α7', 'α13', 'α9', 'α12', 'α6', 'α8', 'α14', 'α3', '0', 'α4', 'α', 'α11', 'α10', 'α2', '1', 'α5']\n",
      "['α8', 'α6', 'α14', 'α10', 'α13', 'α7', 'α9', '1', 'α4', '0', 'α5', 'α2', 'α12', 'α11', 'α3', 'α']\n",
      "['α9', 'α2', 'α7', '1', 'α11', 'α14', 'α8', 'α10', 'α', 'α5', '0', 'α6', 'α3', 'α13', 'α12', 'α4']\n",
      "['α10', 'α5', 'α3', 'α8', 'α', 'α12', '1', 'α9', 'α11', 'α2', 'α6', '0', 'α7', 'α4', 'α14', 'α13']\n",
      "['α11', 'α14', 'α6', 'α4', 'α9', 'α2', 'α13', 'α', 'α10', 'α12', 'α3', 'α7', '0', 'α8', 'α5', '1']\n",
      "['α12', 'α', '1', 'α7', 'α5', 'α10', 'α3', 'α14', 'α2', 'α11', 'α13', 'α4', 'α8', '0', 'α9', 'α6']\n",
      "['α13', 'α7', 'α2', 'α', 'α8', 'α6', 'α11', 'α4', '1', 'α3', 'α12', 'α14', 'α5', 'α9', '0', 'α10']\n",
      "['α14', 'α11', 'α8', 'α3', 'α2', 'α9', 'α7', 'α12', 'α5', 'α', 'α4', 'α13', '1', 'α6', 'α10', '0']\n"
     ]
    }
   ],
   "source": [
    "GF(2,4,'1011','0000 1000 0100 0010 0001 1001 1101 1111 1110 0111 1010 0101 1011 1100 0110 0011'.split(' ')).addition_table()"
   ]
  },
  {
   "cell_type": "code",
   "execution_count": 178,
   "metadata": {},
   "outputs": [
    {
     "data": {
      "text/plain": [
       "2"
      ]
     },
     "execution_count": 178,
     "metadata": {},
     "output_type": "execute_result"
    }
   ],
   "source": [
    "9 % int('111', 2)"
   ]
  },
  {
   "cell_type": "code",
   "execution_count": 24,
   "metadata": {},
   "outputs": [
    {
     "data": {
      "text/plain": [
       "'0x19'"
      ]
     },
     "execution_count": 24,
     "metadata": {},
     "output_type": "execute_result"
    }
   ],
   "source": [
    "hex(0b11001)"
   ]
  },
  {
   "cell_type": "code",
   "execution_count": 166,
   "metadata": {},
   "outputs": [],
   "source": [
    "from functools import reduce\n",
    "def multiply(a,b):\n",
    "    bitsa = reversed(\"{0:b}\".format(a))\n",
    "    g = [(b<<i)*int(bit) for i,bit in enumerate(bitsa)]\n",
    "    return reduce(lambda x,y: x+y,g)    "
   ]
  },
  {
   "cell_type": "code",
   "execution_count": 32,
   "metadata": {},
   "outputs": [],
   "source": [
    "def Rcon(i):\n",
    "    if i == 0:\n",
    "        return 1\n",
    "    return (Rcon(i - 1)<<1) ^ (0x19 & -(Rcon(i - 1)>>3))"
   ]
  },
  {
   "cell_type": "code",
   "execution_count": 54,
   "metadata": {},
   "outputs": [
    {
     "data": {
      "text/plain": [
       "'0b1100'"
      ]
     },
     "execution_count": 54,
     "metadata": {},
     "output_type": "execute_result"
    }
   ],
   "source": [
    "bin(Rcon(14))"
   ]
  },
  {
   "cell_type": "code",
   "execution_count": 84,
   "metadata": {},
   "outputs": [
    {
     "data": {
      "text/plain": [
       "16"
      ]
     },
     "execution_count": 84,
     "metadata": {},
     "output_type": "execute_result"
    }
   ],
   "source": [
    "(0b100011) %0b10011"
   ]
  },
  {
   "cell_type": "code",
   "execution_count": 83,
   "metadata": {},
   "outputs": [
    {
     "data": {
      "text/plain": [
       "35"
      ]
     },
     "execution_count": 83,
     "metadata": {},
     "output_type": "execute_result"
    }
   ],
   "source": [
    "0b100011"
   ]
  },
  {
   "cell_type": "code",
   "execution_count": null,
   "metadata": {},
   "outputs": [],
   "source": []
  }
 ],
 "metadata": {
  "kernelspec": {
   "display_name": "Python 3",
   "language": "python",
   "name": "python3"
  },
  "language_info": {
   "codemirror_mode": {
    "name": "ipython",
    "version": 3
   },
   "file_extension": ".py",
   "mimetype": "text/x-python",
   "name": "python",
   "nbconvert_exporter": "python",
   "pygments_lexer": "ipython3",
   "version": "3.7.3"
  }
 },
 "nbformat": 4,
 "nbformat_minor": 2
}
