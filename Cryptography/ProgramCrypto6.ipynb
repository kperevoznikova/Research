{
 "cells": [
  {
   "cell_type": "code",
   "execution_count": 6,
   "metadata": {},
   "outputs": [],
   "source": [
    "from bitarray import bitarray\n",
    "from functools import reduce\n",
    "\n",
    "class Register:\n",
    "    def __init__(self, reg_len, seed, sync : int, feedback_cells : list):\n",
    "        '''\n",
    "        reg_len (int) : длина регистра\n",
    "        seed (str) : вектор инициализации\n",
    "        sync (int): индекс бита синхронизации (слева-направо с единицы)\n",
    "        feedback_cells (list) : список индексов битов отводной последовательности (слева-направо с единицы)\n",
    "        '''\n",
    "        ba = bitarray()\n",
    "        ba.frombytes(seed.encode('utf-8'))\n",
    "        ba += bitarray('0') * (reg_len - len(ba))\n",
    "        self.register = ba\n",
    "        self.sync_cell = sync - 1\n",
    "        self.feedback_cells = list(map(lambda x: x - 1, feedback_cells))\n",
    "    def feedback(self):\n",
    "        return reduce(lambda x, y: x ^ y, [self.register[i] for i in self.feedback_cells])\n",
    "    def sync(self):\n",
    "        return self.register[self.sync_cell]\n",
    "    def bit(self, sync_all):\n",
    "        bit = self.register[0]\n",
    "        if self.sync() == sync_all:\n",
    "            feedback = self.feedback()\n",
    "            self.register <<= 1\n",
    "            self.register[-1] = feedback\n",
    "        return bit"
   ]
  },
  {
   "cell_type": "code",
   "execution_count": 21,
   "metadata": {},
   "outputs": [],
   "source": [
    "def tact(x, y, z):\n",
    "    x, y, z = x.sync(), y.sync(), z.sync()\n",
    "    return ((x and y) or (x and z) or (y and z))\n",
    "\n",
    "def a5_1():\n",
    "    registers = [\n",
    "        Register(19, seed='abcd', sync=11, feedback_cells=[0,1,2,5]),\n",
    "        Register(22, seed='ikj', sync=12, feedback_cells=[0,1]),\n",
    "        Register(23, seed='k', sync=13, feedback_cells=[0,1,2,16]),\n",
    "    ]\n",
    "    for r in registers:\n",
    "        print(r.register)\n",
    "    while True:\n",
    "        sync_all = tact(*registers)\n",
    "        yield reduce(lambda x, y: x ^ y, map(lambda x: x.bit(sync_all), registers))"
   ]
  },
  {
   "cell_type": "code",
   "execution_count": 137,
   "metadata": {},
   "outputs": [
    {
     "data": {
      "text/plain": [
       "672"
      ]
     },
     "execution_count": 137,
     "metadata": {},
     "output_type": "execute_result"
    }
   ],
   "source": [
    "plaintext = 'НЕВСЯКИЙЗПТКТОЧИТАЕТЗПТВЧТЕНИИСИЛУЗНАЕТТЧК'\n",
    "ba = bitarray()\n",
    "ba.frombytes(plaintext.encode('utf-8'))\n",
    "gamma_len = len(ba)\n",
    "gamma_len"
   ]
  },
  {
   "cell_type": "code",
   "execution_count": 144,
   "metadata": {
    "scrolled": true
   },
   "outputs": [
    {
     "data": {
      "text/plain": [
       "(84, 84, 84)"
      ]
     },
     "execution_count": 144,
     "metadata": {},
     "output_type": "execute_result"
    }
   ],
   "source": [
    "gamma_len // 8, len(plaintext.encode('utf-8')), len(plaintext) * 2"
   ]
  },
  {
   "cell_type": "code",
   "execution_count": 19,
   "metadata": {},
   "outputs": [],
   "source": [
    "def a5_1_enc(plaintext):\n",
    "    plain_bits = bitarray()\n",
    "    plain_bits.frombytes(plaintext.encode('utf-8'))\n",
    "    cipher_bits = bitarray()\n",
    "\n",
    "    for i in a5_1():\n",
    "        if plain_bits:\n",
    "            bit = plain_bits.pop()\n",
    "            #print(*[bit, i])\n",
    "            cipher_bits.append(bit ^ i)\n",
    "        else:\n",
    "            break\n",
    "            \n",
    "    cipher_bits.reverse()\n",
    "    return cipher_bits.tobytes()"
   ]
  },
  {
   "cell_type": "code",
   "execution_count": 22,
   "metadata": {},
   "outputs": [
    {
     "name": "stdout",
     "output_type": "stream",
     "text": [
      "bitarray('01100001011000100110001101100100')\n",
      "bitarray('011010010110101101101010')\n",
      "bitarray('01101011000000000000000')\n"
     ]
    },
    {
     "data": {
      "text/plain": [
       "b'V\\x92\\xc1\\xb5\\x13R\\x9a\\x15\\x17\\x04?\\xad\\xaf\\t,\\xd8l\\x19.\\x84M\\xdf[m\\xf8\\xd8\\r\\x038\\xae\\x95c8\\xf3\\xffY\\x88@\\x87\\xab\\xad\\xe18+\\xb1\\x8a\\xa9\\xb4\\xe2K\\xbb\\xff\\x06E\\xe0\\xae\\xdb\\xa0\\x99lT\\xc9\\xd5Q\\x80\\xc7i\\xac\\x17\\xf4{\\x1a\\xb0\\x9e\\x8e\\xee\\xd44\\x98,<\\x8e\\xbf>'"
      ]
     },
     "execution_count": 22,
     "metadata": {},
     "output_type": "execute_result"
    }
   ],
   "source": [
    "a5_1_enc('НЕВСЯКИЙЗПТКТОЧИТАЕТЗПТВЧТЕНИИСИЛУЗНАЕТТЧК')"
   ]
  },
  {
   "cell_type": "code",
   "execution_count": 9,
   "metadata": {},
   "outputs": [],
   "source": [
    "def a5_1_dec(ciphertext):\n",
    "    plain_bits = bitarray()\n",
    "    cipher_bits = bitarray()\n",
    "    cipher_bits.frombytes(ciphertext)\n",
    "\n",
    "    for i in a5_1():\n",
    "        if cipher_bits:\n",
    "            plain_bits.append(cipher_bits.pop() ^ i)\n",
    "        else:\n",
    "            break\n",
    "            \n",
    "    plain_bits.reverse()\n",
    "    return plain_bits.tobytes().decode('utf-8')"
   ]
  },
  {
   "cell_type": "code",
   "execution_count": 203,
   "metadata": {},
   "outputs": [
    {
     "data": {
      "text/plain": [
       "'НЕВСЯКИЙЗПТКТОЧИТАЕТЗПТВЧТЕНИИСИЛУЗНАЕТТЧК'"
      ]
     },
     "execution_count": 203,
     "metadata": {},
     "output_type": "execute_result"
    }
   ],
   "source": [
    "a5_1_dec(a5_1_enc('НЕВСЯКИЙЗПТКТОЧИТАЕТЗПТВЧТЕНИИСИЛУЗНАЕТТЧК'))"
   ]
  },
  {
   "cell_type": "code",
   "execution_count": 1,
   "metadata": {},
   "outputs": [],
   "source": [
    "import requests\n",
    "from bs4 import BeautifulSoup as bs\n",
    "\n",
    "def clear_paragraphs(ps:list, start=14, stop=16):\n",
    "    return ''.join([i.text for i in ps[start:stop]]).replace('\\xad', '').replace('\\xa0', '')\n",
    "\n",
    "def test_text(url='https://spacemorgue.com/matter-matters/'):\n",
    "    '''\n",
    "    Возвращает тестовый текст длиной 2408 символов\n",
    "    '''\n",
    "    soup = bs(requests.get(url).text, 'html.parser')\n",
    "    return clear_paragraphs(soup.select_one('article').find_all('p'))\n",
    "\n",
    "def prepare(text, specials={',':'ЗПТ','.':'ТЧК', ' ':'', '—':'ТИРЕ', '«':'КВЧ', '»':'КВЧ'}):\n",
    "    '''\n",
    "    Возвращает текст, удаляя пробельные символы в тексте и заменяя пунктуацию телеграфными обозначениями\n",
    "    '''\n",
    "    for i in specials.keys():\n",
    "        text = text.replace(i, specials[i])\n",
    "    return text"
   ]
  },
  {
   "cell_type": "code",
   "execution_count": 2,
   "metadata": {},
   "outputs": [],
   "source": [
    "text = test_text()"
   ]
  },
  {
   "cell_type": "code",
   "execution_count": 10,
   "metadata": {},
   "outputs": [
    {
     "data": {
      "text/plain": [
       "b'U \\xe8\\xcde\\xfd[cW\\xb6\\xe6f\\x95\\x03\\xd7\\xcc\\x8d\\xd8\\x1f\\x7f\\xa5\\x03\\x99\\xc7\\xae?\\x97\\xda?d\\xbdx\\x8f\\xa2Vl\\x98vd\\x97\\x0fK\\xec\\x86#\\xd8\\xa5\\x1c0\\x0bt\\x94\\xeb-\\x05\\xea\\xf7\\xbbfG\\xf3\\x1b\\xc7W\\xaftJJ\\xee\\xcdw\\x98\\xa3x)\\xa6\\x1d\\x84\\xe8Q5j\\x01\\x95P7\\xe2\\xbe\\xe5\\xe9f\\x98\\xec\\x7f\\xd9\\xfd`Zz^\\x0e\\xb9\\x0e\\x11\\xde\\xa8c9\\xcf\\xadS\\x04pZhNX6T\\x97\\x0e%\\x02\\xd9\\x90\\x81<\\xc9\\xdc\\xfa\\xed\\xb9G\\xa0\\x84\\xf9\\x95\\x03)\\x9fI\\x80i\\xe3\\xbc\\xf5,t\\xdbL'"
      ]
     },
     "execution_count": 10,
     "metadata": {},
     "output_type": "execute_result"
    }
   ],
   "source": [
    "a5_1_enc(text)[:150]"
   ]
  },
  {
   "cell_type": "code",
   "execution_count": 11,
   "metadata": {},
   "outputs": [
    {
     "data": {
      "text/plain": [
       "'Нелинейная и статистическая причинность снова привносят в философскую концепцию каузальной связи сложность, которая была потеряна с появлением понятия'"
      ]
     },
     "execution_count": 11,
     "metadata": {},
     "output_type": "execute_result"
    }
   ],
   "source": [
    "a5_1_dec(a5_1_enc(text))[:150]"
   ]
  },
  {
   "cell_type": "code",
   "execution_count": null,
   "metadata": {},
   "outputs": [],
   "source": []
  }
 ],
 "metadata": {
  "kernelspec": {
   "display_name": "Python 3",
   "language": "python",
   "name": "python3"
  },
  "language_info": {
   "codemirror_mode": {
    "name": "ipython",
    "version": 3
   },
   "file_extension": ".py",
   "mimetype": "text/x-python",
   "name": "python",
   "nbconvert_exporter": "python",
   "pygments_lexer": "ipython3",
   "version": "3.7.3"
  }
 },
 "nbformat": 4,
 "nbformat_minor": 2
}
