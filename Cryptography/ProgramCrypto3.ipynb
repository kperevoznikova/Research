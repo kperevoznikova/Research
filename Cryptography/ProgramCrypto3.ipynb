{
 "cells": [
  {
   "cell_type": "markdown",
   "metadata": {},
   "source": [
    "### Матричный шифр\n",
    "\n",
    "Предполагается, что буквы алфавита занумерованы и рассматриваются как элементы некоторого алгебраического кольца. Если к n-грамме сообщения применить матрицу $a_{ij}$, то получится n-грамма криптограммы:\n",
    "\\begin{equation}\n",
    "l_i=\\displaystyle\\sum_{j=1}^{n}a_{ij}m_i, i=1...n\n",
    "\\end{equation}\n",
    "\n",
    "Для расшифрования используется обратная матрица\n",
    "\n",
    "\\begin{equation}\n",
    "A^{-1} = \\frac{A^{*}}{\\det(A)}\n",
    "\\end{equation}\n",
    "\n",
    "где $A^{*}$ - присоединенная матрица, каждый элемент $a^{*}_{ij}$ которой является алгебраическим дополнением $a_{ij}$"
   ]
  },
  {
   "cell_type": "code",
   "execution_count": 59,
   "metadata": {
    "scrolled": true
   },
   "outputs": [
    {
     "name": "stdout",
     "output_type": "stream",
     "text": [
      "['А', 'Б', 'В', 'Г', 'Д', 'Е', 'Ж', 'З', 'И', 'Й', 'К', 'Л', 'М', 'Н', 'О', 'П', 'Р', 'С', 'Т', 'У', 'Ф', 'Х', 'Ц', 'Ч', 'Ш', 'Щ', 'Ъ', 'Ы', 'Ь', 'Э', 'Ю', 'Я']\n"
     ]
    }
   ],
   "source": [
    "al = [chr(i) for i in range(ord('А'), ord('Я') + 1) if i is not ord('Ё')]\n",
    "print(al)"
   ]
  },
  {
   "cell_type": "code",
   "execution_count": 2,
   "metadata": {},
   "outputs": [],
   "source": [
    "import numpy as np # для реализации матричных операций будем использовать библиотеку NumPy\n",
    "import numpy.linalg as linalg"
   ]
  },
  {
   "cell_type": "code",
   "execution_count": 4,
   "metadata": {
    "scrolled": false
   },
   "outputs": [
    {
     "name": "stdout",
     "output_type": "stream",
     "text": [
      "[[ 1 -2  3]\n",
      " [ 0  4 -1]\n",
      " [ 5  0  0]]\n"
     ]
    }
   ],
   "source": [
    "A = np.matrix([[1,-2,3],[0,4,-1],[5,0,0]]) # инициализация матрицы\n",
    "print(A)"
   ]
  },
  {
   "cell_type": "markdown",
   "metadata": {},
   "source": [
    "Попробуем зашифровать первый блок:"
   ]
  },
  {
   "cell_type": "code",
   "execution_count": 5,
   "metadata": {},
   "outputs": [
    {
     "data": {
      "text/plain": [
       "-78.0"
      ]
     },
     "execution_count": 5,
     "metadata": {},
     "output_type": "execute_result"
    }
   ],
   "source": [
    "key = np.matrix([[2,2,4,2,0], [1,4,3,4,2], [1,1,4,2,2], [0,3,4,2,4], [2,4,3,0,1]])\n",
    "linalg.det(key) # удостоверимся, что существует обратная матрица"
   ]
  },
  {
   "cell_type": "code",
   "execution_count": 27,
   "metadata": {},
   "outputs": [],
   "source": [
    "block = [13,5,2,17,31] # нумерацию в алфавите ведем с нуля"
   ]
  },
  {
   "cell_type": "code",
   "execution_count": 7,
   "metadata": {
    "scrolled": false
   },
   "outputs": [
    {
     "data": {
      "text/plain": [
       "matrix([[13],\n",
       "        [ 5],\n",
       "        [ 2],\n",
       "        [17],\n",
       "        [31]])"
      ]
     },
     "execution_count": 7,
     "metadata": {},
     "output_type": "execute_result"
    }
   ],
   "source": [
    "np.matrix(block).swapaxes(0,1) # преобразуем список в np-вектор"
   ]
  },
  {
   "cell_type": "code",
   "execution_count": 8,
   "metadata": {},
   "outputs": [
    {
     "data": {
      "text/plain": [
       "matrix([[ 78],\n",
       "        [169],\n",
       "        [122],\n",
       "        [181],\n",
       "        [ 83]])"
      ]
     },
     "execution_count": 8,
     "metadata": {},
     "output_type": "execute_result"
    }
   ],
   "source": [
    "cipher = key * np.matrix(block).swapaxes(0,1)\n",
    "cipher"
   ]
  },
  {
   "cell_type": "code",
   "execution_count": 9,
   "metadata": {},
   "outputs": [
    {
     "data": {
      "text/plain": [
       "[13, 5, 2, 17, 31]"
      ]
     },
     "execution_count": 9,
     "metadata": {},
     "output_type": "execute_result"
    }
   ],
   "source": [
    "res = linalg.inv(key) * cipher # умножим обратную матрицу на блок шифротекста\n",
    "res = np.matrix.round(res,0).astype(int) # приведем результат к целому типу\n",
    "res = res.squeeze().tolist()[0] # преобразуем вектор обратно к списку\n",
    "res"
   ]
  },
  {
   "cell_type": "code",
   "execution_count": 10,
   "metadata": {},
   "outputs": [
    {
     "data": {
      "text/plain": [
       "['Н', 'Е', 'В', 'С', 'Я']"
      ]
     },
     "execution_count": 10,
     "metadata": {},
     "output_type": "execute_result"
    }
   ],
   "source": [
    "[al[i] for i in res] # по индексу символа в алфавите восстановим блок исходного сообщения"
   ]
  },
  {
   "cell_type": "code",
   "execution_count": 37,
   "metadata": {},
   "outputs": [
    {
     "data": {
      "text/plain": [
       "array([[-0.4,  0.2,  0.4],\n",
       "       [ 0.7, -0.6, -0.2],\n",
       "       [ 0.2,  0.4, -0.2]])"
      ]
     },
     "execution_count": 37,
     "metadata": {},
     "output_type": "execute_result"
    }
   ],
   "source": [
    "linalg.inv(key)"
   ]
  },
  {
   "cell_type": "code",
   "execution_count": 38,
   "metadata": {},
   "outputs": [
    {
     "data": {
      "text/plain": [
       "10.000000000000002"
      ]
     },
     "execution_count": 38,
     "metadata": {},
     "output_type": "execute_result"
    }
   ],
   "source": [
    "linalg.det(key)"
   ]
  },
  {
   "cell_type": "markdown",
   "metadata": {},
   "source": [
    "Добавим вспомогательные функции:"
   ]
  },
  {
   "cell_type": "code",
   "execution_count": 3,
   "metadata": {},
   "outputs": [],
   "source": [
    "import requests\n",
    "from bs4 import BeautifulSoup as bs\n",
    "\n",
    "def clear_paragraphs(ps:list, start=14, stop=16):\n",
    "    return ''.join([i.text for i in ps[start:stop]]).replace('\\xad', '').replace('\\xa0', '')\n",
    "\n",
    "def test_text(url='https://spacemorgue.com/matter-matters/'):\n",
    "    '''\n",
    "    Возвращает тестовый текст длиной 2408 символов\n",
    "    '''\n",
    "    soup = bs(requests.get(url).text, 'html.parser')\n",
    "    return clear_paragraphs(soup.select_one('article').find_all('p'))\n",
    "\n",
    "def prepare(text, specials={',':'ЗПТ','.':'ТЧК', ' ':'', '—':'ТИРЕ', '«':'КВЧ', '»':'КВЧ'}):\n",
    "    '''\n",
    "    Возвращает текст, удаляя пробельные символы в тексте и заменяя пунктуацию телеграфными обозначениями\n",
    "    '''\n",
    "    for i in specials.keys():\n",
    "        text = text.replace(i, specials[i])\n",
    "    return text\n",
    "\n",
    "def comp(text, specials={'ЗПТ':',','ТЧК':'.','ТИРЕ':'—','КВЧ':'\"'}):\n",
    "    '''\n",
    "    Возвращает текст, заменяя телеграфные обозначения пунктуацией\n",
    "    '''\n",
    "    for i in specials.keys():\n",
    "        text = text.replace(i, specials[i])\n",
    "    return text"
   ]
  },
  {
   "cell_type": "code",
   "execution_count": 4,
   "metadata": {},
   "outputs": [],
   "source": [
    "def equivalent(text, al):\n",
    "    '''\n",
    "    Возвращает список чисел - индексов символов в данном алфавите\n",
    "    '''\n",
    "    eq = list()\n",
    "    for i in prepare(text):\n",
    "        eq.append(al.index(i))\n",
    "    return eq\n",
    "\n",
    "def separate(text, block_size, void_ch=None):\n",
    "    '''\n",
    "    Делит список числовых эквивалентов на блоки заданной длины. \n",
    "    При наличии неполного блока заполняет его пустыми символами.\n",
    "        \n",
    "        Параметры:\n",
    "            text (list): Список числовых эквивалентов\n",
    "            block_size (int): Размер блока\n",
    "            void_ch (int): Индекс пустого символа на данном алфавите\n",
    "        Возвращает:\n",
    "            vectors (list): Список, состоящий из списков фиксированной длины\n",
    "    '''\n",
    "    vectors = list()\n",
    "    \n",
    "    if len(text) % block_size: # недостает символов для заполнения последнего блока\n",
    "        void_count = block_size - (len(text) % block_size) # количество пустых символов\n",
    "        text = text + [len(al) - 1] * void_count\n",
    "            \n",
    "    for i in range(0, len(text), block_size):\n",
    "        block = text[i:i+block_size]\n",
    "        vectors.append(block)\n",
    "        assert len(vectors[-1]) == block_size, f'Created incomplete block - {vectors[-1]}'\n",
    "    return vectors"
   ]
  },
  {
   "cell_type": "markdown",
   "metadata": {},
   "source": [
    "Инициализируем алфавит:"
   ]
  },
  {
   "cell_type": "code",
   "execution_count": 13,
   "metadata": {},
   "outputs": [
    {
     "name": "stdout",
     "output_type": "stream",
     "text": [
      "['А', 'Б', 'В', 'Г', 'Д', 'Е', 'Ж', 'З', 'И', 'Й', 'К', 'Л', 'М', 'Н', 'О', 'П', 'Р', 'С', 'Т', 'У', 'Ф', 'Х', 'Ц', 'Ч', 'Ш', 'Щ', 'Ъ', 'Ы', 'Ь', 'Э', 'Ю', 'Я', '0']\n"
     ]
    }
   ],
   "source": [
    "al = [chr(i) for i in range(ord('А'), ord('Я') + 1) if i is not ord('Ё')]\n",
    "al.append('0') # добавим пустой символ для заполнения неполных блоков \n",
    "print(al)"
   ]
  },
  {
   "cell_type": "markdown",
   "metadata": {},
   "source": [
    "Наконец, реализуем функцию шифрования:"
   ]
  },
  {
   "cell_type": "code",
   "execution_count": 5,
   "metadata": {},
   "outputs": [],
   "source": [
    "def matrix_encrypt(plaintext, al, key, block_size=5):\n",
    "    assert linalg.det(key) != 0, 'Given key is not an invertible matrix'\n",
    "    ciphertext = list()\n",
    "    for block in separate(equivalent(plaintext, al), block_size):\n",
    "        vector = key * np.matrix(block).swapaxes(0,1)\n",
    "        ciphertext.extend(vector.squeeze().tolist()[0])\n",
    "    return ' '.join([str(i) for i in ciphertext])"
   ]
  },
  {
   "cell_type": "markdown",
   "metadata": {},
   "source": [
    "Проверяем:"
   ]
  },
  {
   "cell_type": "code",
   "execution_count": 15,
   "metadata": {
    "scrolled": false
   },
   "outputs": [
    {
     "name": "stdout",
     "output_type": "stream",
     "text": [
      "Матрица-ключ:\n",
      "\n",
      "[[2 2 4 2 0]\n",
      " [1 4 3 4 2]\n",
      " [1 1 4 2 2]\n",
      " [0 3 4 2 4]\n",
      " [2 4 3 0 1]]\n",
      "\n",
      "Шифротекст:\n"
     ]
    },
    {
     "data": {
      "text/plain": [
       "'78 169 122 181 83 86 127 98 134 94 156 214 174 222 153 62 136 72 136 106 120 175 144 213 151 114 125 107 115 103 132 172 121 134 106 82 136 105 128 59 258 351 289 350 214'"
      ]
     },
     "execution_count": 15,
     "metadata": {},
     "output_type": "execute_result"
    }
   ],
   "source": [
    "print('Матрица-ключ:', end='\\n\\n')\n",
    "key = np.array([[2,2,4,2,0], [1,4,3,4,2], [1,1,4,2,2], [0,3,4,2,4], [2,4,3,0,1]])\n",
    "print(key, end='\\n\\n')\n",
    "print('Шифротекст:')\n",
    "matrix_encrypt('НЕ ВСЯКИЙ, КТО ЧИТАЕТ, В ЧТЕНИИ СИЛУ ЗНАЕТ.', al, key)"
   ]
  },
  {
   "cell_type": "code",
   "execution_count": 11,
   "metadata": {},
   "outputs": [
    {
     "name": "stdout",
     "output_type": "stream",
     "text": [
      "Матрица-ключ:\n",
      "\n",
      "[[2 2 2]\n",
      " [1 0 2]\n",
      " [4 2 1]]\n",
      "\n"
     ]
    }
   ],
   "source": [
    "def clean_void(text:list, al):\n",
    "    return list(filter(lambda x: x != al[-1], text))\n",
    "\n",
    "def matrix_decrypt(ciphertext, al, key, block_size=5):\n",
    "    plaintext = list()\n",
    "    for block in separate(ciphertext.split(), block_size):\n",
    "        vector = np.matrix([int(i) for i in block]).swapaxes(0,1)\n",
    "        res = linalg.inv(key) * vector\n",
    "        res = np.matrix.round(res,0).astype(int)\n",
    "        res = res.squeeze().tolist()[0]\n",
    "        plaintext.extend([al[i] for i in res])\n",
    "    return comp(''.join(clean_void(plaintext, al)))\n",
    "\n",
    "print('Матрица-ключ:', end='\\n\\n')\n",
    "print(key, end='\\n\\n')\n",
    "\n",
    "#matrix_decrypt(matrix_encrypt('НЕ ВСЯКИЙ, КТО ЧИТАЕТ, В ЧТЕНИИ СИЛУ ЗНАЕТ.', al, key),al,key)"
   ]
  },
  {
   "cell_type": "code",
   "execution_count": 36,
   "metadata": {},
   "outputs": [
    {
     "data": {
      "text/plain": [
       "10"
      ]
     },
     "execution_count": 36,
     "metadata": {},
     "output_type": "execute_result"
    }
   ],
   "source": [
    "al.index('К')"
   ]
  },
  {
   "cell_type": "code",
   "execution_count": 9,
   "metadata": {
    "scrolled": false
   },
   "outputs": [
    {
     "name": "stdout",
     "output_type": "stream",
     "text": [
      "Матрица-ключ:\n",
      "\n",
      "[[2 2 2]\n",
      " [1 0 2]\n",
      " [4 2 1]]\n",
      "\n",
      "Шифротекст:\n"
     ]
    },
    {
     "data": {
      "text/plain": [
       "'40 17 64 116 37 140 48 22 57 86 35 106 110 64 123 52 8 68 60 19 63 70 19 98 92 33 133 58 29 76 72 39 95 78 45 103 46 36 28 102 38 128'"
      ]
     },
     "execution_count": 9,
     "metadata": {},
     "output_type": "execute_result"
    }
   ],
   "source": [
    "print('Матрица-ключ:', end='\\n\\n')\n",
    "key = np.array([[2,2,2],[1,0,2],[4,2,1]])\n",
    "print(key, end='\\n\\n')\n",
    "print('Шифротекст:')\n",
    "matrix_encrypt('НЕ ВСЯКИЙ, КТО ЧИТАЕТ, В ЧТЕНИИ СИЛУ ЗНАЕТ.', al, key, block_size=3)"
   ]
  },
  {
   "cell_type": "code",
   "execution_count": 12,
   "metadata": {
    "scrolled": true
   },
   "outputs": [
    {
     "data": {
      "text/plain": [
       "'НЕВСКИЙ,КТОЧИТАЕТ,ВЧТЕНИИСИЛУЗНАЕТ.'"
      ]
     },
     "execution_count": 12,
     "metadata": {},
     "output_type": "execute_result"
    }
   ],
   "source": [
    "matrix_decrypt(matrix_encrypt('НЕ ВСЯКИЙ, КТО ЧИТАЕТ, В ЧТЕНИИ СИЛУ ЗНАЕТ.', al, key, block_size=3),al,key,3)"
   ]
  },
  {
   "cell_type": "code",
   "execution_count": 17,
   "metadata": {},
   "outputs": [
    {
     "name": "stdout",
     "output_type": "stream",
     "text": [
      "Сгенерируем псевдослучайный ключ:\n",
      "\n",
      "[[2 1 3 3 1]\n",
      " [4 0 2 2 3]\n",
      " [1 0 0 4 2]\n",
      " [0 0 1 3 4]\n",
      " [1 3 2 4 4]]\n",
      "\n",
      "Шифротекст:\n",
      "\n",
      "119 183 143 177 224 91 117 68 90 140 165 205 120 152 232 67 96 64 87 154 112 137 61 116 188 112 138 66 69 123 139 149 107 96 167 113 152 121 131 167 280 316 215 256 373\n",
      "\n",
      "\n",
      "Расшифровка:\n",
      "\n",
      "НЕВСЯКИЙ,КТОЧИТАЕТ,ВЧТЕНИИСИЛУЗНАЕТ.\n"
     ]
    }
   ],
   "source": [
    "print('Сгенерируем псевдослучайный ключ:', end='\\n\\n')\n",
    "key = np.matrix(np.random.randint(5, size=(5,5)))\n",
    "print(key, end='\\n\\n')\n",
    "print(f'Шифротекст:\\n\\n{matrix_encrypt(\"НЕ ВСЯКИЙ, КТО ЧИТАЕТ, В ЧТЕНИИ СИЛУ ЗНАЕТ.\", al, key)}\\n\\n')\n",
    "print(f'Расшифровка:\\n\\n{matrix_decrypt(matrix_encrypt(\"НЕ ВСЯКИЙ, КТО ЧИТАЕТ, В ЧТЕНИИ СИЛУ ЗНАЕТ.\", al, key),al,key)}')"
   ]
  },
  {
   "cell_type": "code",
   "execution_count": 39,
   "metadata": {},
   "outputs": [],
   "source": [
    "text = prepare(test_text().upper().replace('-', '—'))\n",
    "ext = al.copy()\n",
    "ext.extend(['X', 'I'])"
   ]
  },
  {
   "cell_type": "code",
   "execution_count": 41,
   "metadata": {},
   "outputs": [
    {
     "name": "stdout",
     "output_type": "stream",
     "text": [
      "Сгенерируем псевдослучайный ключ:\n",
      "\n",
      "[[2 1 4 2 4]\n",
      " [3 1 4 2 0]\n",
      " [0 3 1 3 3]\n",
      " [1 3 4 4 2]\n",
      " [3 0 4 1 0]]\n",
      "\n",
      "Шифротекст:\n",
      "\n",
      "143 104 89 130 91 195 76 133 146 67 177 113 123 167 96 213 129 162 209 104 191 72 154 158 55 156 139 149 203 100 201 142 158 212 112 161 181 112 191 1...\n",
      "\n",
      "\n",
      "Расшифровка:\n",
      "\n",
      "НЕЛИНЕЙНАЯИСТАТИСТИЧЕСКАЯПРИЧИННОСТЬСНОВАПРИВНОСЯТВФИЛОСОФСКУЮКОНЦЕПЦИЮКАУЗАЛЬНОЙСВЯЗИСЛОЖНОСТЬ,КОТОРАЯБЫЛАПОТЕРЯНАСПОЯВЛЕНИЕМПОНЯТИЯПОСТОЯННОЙКОНЪЮНК...\n"
     ]
    }
   ],
   "source": [
    "print('Сгенерируем псевдослучайный ключ:', end='\\n\\n')\n",
    "key = np.matrix(np.random.randint(5, size=(5,5)))\n",
    "print(key, end='\\n\\n')\n",
    "print(f'Шифротекст:\\n\\n{matrix_encrypt(text, ext, key)[:150]}...\\n\\n')\n",
    "print(f'Расшифровка:\\n\\n{matrix_decrypt(matrix_encrypt(text, ext, key),ext,key)[:150]}...')"
   ]
  },
  {
   "cell_type": "markdown",
   "metadata": {},
   "source": [
    "### Шифр Плэйфера\n",
    "\n",
    "Шифр  основан  на лозунговом способе заполнения шифртаблицы. Для создания таблицы нужно заполнить пустые ячейки матрицы буквами ключевого слова, затем по порядку заполнить оставшиеся ячейки матрицы символами алфавита, не встречающимися в ключевом слове.\n",
    "\n",
    "Для того чтобы зашифровать сообщение, необходимо разбить его на биграммы.\n",
    "\n",
    "Переход  от  биграмм  входного  текста  к  биграммам  выходного  текста осуществляется по следующим правилам: \n",
    "\n",
    "1. Если буквы входной биграммы оказались в  одном  столбце  таблицы,  шифрование  происходит  сверху  вниз;  \n",
    "2. Если  же  буквы входной  биграммы  оказались  в  одной  строке таблицы,  то  шифрование осуществляется слева направо, а расшифрование — наоборот. \n",
    "3. Если буквы биграммы совпадают, их  следует  разделить  буквой  с  наименьшей  частотой  встречаемости (например, Ф - для литературных текстов). \n",
    "4. Если буквы входной биграммы оказались в разных столбцах и строках таблицы, то рисуется воображаемый прямоугольник, а выходная биграмма берется как его альтернативные вершины"
   ]
  },
  {
   "cell_type": "code",
   "execution_count": 77,
   "metadata": {},
   "outputs": [],
   "source": [
    "def gen_square(key_phrase, al, size=5):\n",
    "    assert len(set(key_phrase)) == len(key_phrase) # в лозунге отсутствуют повторяющиеся символы\n",
    "    al_plaifair = [i for i in al if i not in key_phrase] # убираем из алфавита символы, встречающиеся в лозунге\n",
    "    key_phrase = list(key_phrase)\n",
    "\n",
    "    square = list()\n",
    "    \n",
    "    for i in range(size):\n",
    "        row = list()\n",
    "        for i in range(size+1):\n",
    "            if key_phrase:\n",
    "                row.append(key_phrase.pop(0))\n",
    "            else:\n",
    "                row.append(al_plaifair.pop(0))\n",
    "        square.append(row)\n",
    "    return np.matrix(square)"
   ]
  },
  {
   "cell_type": "code",
   "execution_count": 80,
   "metadata": {},
   "outputs": [],
   "source": [
    "al_plaifair = al.copy()"
   ]
  },
  {
   "cell_type": "code",
   "execution_count": 81,
   "metadata": {},
   "outputs": [],
   "source": [
    "al_plaifair.remove('Й')\n",
    "al_plaifair.remove('Ь')"
   ]
  },
  {
   "cell_type": "code",
   "execution_count": 95,
   "metadata": {
    "scrolled": false
   },
   "outputs": [
    {
     "data": {
      "text/plain": [
       "matrix([['Б', 'Л', 'И', 'Н', 'Д', 'А'],\n",
       "        ['Ж', 'В', 'Г', 'Е', 'З', 'К'],\n",
       "        ['М', 'О', 'П', 'Р', 'С', 'Т'],\n",
       "        ['У', 'Ф', 'Х', 'Ц', 'Ч', 'Ш'],\n",
       "        ['Щ', 'Ъ', 'Ы', 'Э', 'Ю', 'Я']], dtype='<U1')"
      ]
     },
     "execution_count": 95,
     "metadata": {},
     "output_type": "execute_result"
    }
   ],
   "source": [
    "square = gen_square('БЛИНДАЖ',al_plaifair)\n",
    "square"
   ]
  },
  {
   "cell_type": "markdown",
   "metadata": {},
   "source": [
    "Попробуем найти альтернативные вершины прямоугольника, если буквы находятся в различных частях таблицы:"
   ]
  },
  {
   "cell_type": "code",
   "execution_count": 22,
   "metadata": {
    "scrolled": true
   },
   "outputs": [
    {
     "data": {
      "text/plain": [
       "5"
      ]
     },
     "execution_count": 22,
     "metadata": {},
     "output_type": "execute_result"
    }
   ],
   "source": [
    "np.where(square == 'А')[1][0] # при помощи функции where мы можем получить индексы символа в матрице"
   ]
  },
  {
   "cell_type": "code",
   "execution_count": 23,
   "metadata": {},
   "outputs": [
    {
     "data": {
      "text/plain": [
       "(1, 4, 3, 2)"
      ]
     },
     "execution_count": 23,
     "metadata": {},
     "output_type": "execute_result"
    }
   ],
   "source": [
    "angle_1 = np.where(square == 'Г')\n",
    "angle_2 = np.where(square == 'Ч')\n",
    "\n",
    "angle_1[0][0], angle_2[1][0], angle_2[0][0], angle_1[1][0]"
   ]
  },
  {
   "cell_type": "code",
   "execution_count": 24,
   "metadata": {},
   "outputs": [
    {
     "data": {
      "text/plain": [
       "((array([1], dtype=int64), array([4], dtype=int64)),\n",
       " (array([3], dtype=int64), array([2], dtype=int64)))"
      ]
     },
     "execution_count": 24,
     "metadata": {},
     "output_type": "execute_result"
    }
   ],
   "source": [
    "np.where(square == 'З'), np.where(square == 'Х')"
   ]
  },
  {
   "cell_type": "code",
   "execution_count": 45,
   "metadata": {},
   "outputs": [],
   "source": [
    "def avoid_double(text_l):\n",
    "    '''\n",
    "    Разделяет пары символов символом с наименьшей частотой встречаемости\n",
    "    '''\n",
    "    res = list()\n",
    "    for pair in text_l:\n",
    "        if pair[0] == pair[1]:\n",
    "            pair = 'Ф'.join(pair)\n",
    "        res.append(pair)\n",
    "    return ''.join(res)\n",
    "\n",
    "def separate_with(text, block_size, func=None):\n",
    "    '''\n",
    "    Делит список числовых эквивалентов на блоки заданной длины. \n",
    "    При наличии неполного блока заполняет его пустыми символами.\n",
    "        \n",
    "        Параметры:\n",
    "            text (str): Список числовых эквивалентов\n",
    "            block_size (int): Размер блока\n",
    "            func (function): Функция, которая будет применена к тексту\n",
    "        Возвращает:\n",
    "            vectors (list): Список, состоящий из списков фиксированной длины\n",
    "    '''\n",
    "    vectors = list()\n",
    "    if func:\n",
    "        text = func(separate_with(text, 2))\n",
    "            \n",
    "    for i in range(0, len(text), block_size):\n",
    "        block = text[i:i+block_size]\n",
    "        if len(block) != block_size:\n",
    "            block += 'Ф'\n",
    "        vectors.append(block)\n",
    "    return vectors"
   ]
  },
  {
   "cell_type": "code",
   "execution_count": 100,
   "metadata": {},
   "outputs": [],
   "source": [
    "def plaifair_encrypt(plaintext, al, key_phrase):\n",
    "    ciphertext = list()\n",
    "    plaintext = plaintext.replace('Й', 'И').replace('Ё','Е').replace('Ь','Ъ')\n",
    "    square = gen_square(key_phrase, al_plaifair)\n",
    "    \n",
    "    for bigram in separate_with((prepare(plaintext)), 2, avoid_double):\n",
    "        # первый индекс - номер символа в биграмме, второй - координата, третий - ее значение (всегда 0)\n",
    "        indexes = [np.where(square == bigram[0]), np.where(square == bigram[1])]\n",
    "\n",
    "        assert bigram[0] in square, f'{bigram[0]} not in square'\n",
    "        assert bigram[1] in square, f'{bigram[1]} not in square'\n",
    "        in_a_column = indexes[0][1] == indexes[1][1]\n",
    "        in_a_row = indexes[0][0] == indexes[1][0]\n",
    "\n",
    "        if in_a_row:\n",
    "            # сдвигаем символы слева-направо\n",
    "            indexes_new = [(indexes[0][0][0], (indexes[0][1][0] + 1) % square.shape[1])]\n",
    "            indexes_new.append((indexes[1][0][0], (indexes[1][1][0] + 1) % square.shape[1]))\n",
    "        elif in_a_column:\n",
    "            # сдвигаем символы сверху-вниз\n",
    "            indexes_new = [((indexes[0][0][0] + 1) % square.shape[0], indexes[0][1][0])]\n",
    "            indexes_new.append(((indexes[1][0][0] + 1) % square.shape[0], indexes[1][1][0]))\n",
    "        else:\n",
    "            # находим противоположные углы\n",
    "            indexes_new = [(indexes[0][0][0], indexes[1][1][0])]\n",
    "            indexes_new.append((indexes[1][0][0], indexes[0][1][0]))\n",
    "\n",
    "        bigramm_new = [square.item(indexes_new[0])]\n",
    "        bigramm_new.append(square.item(indexes_new[1]))\n",
    "        ciphertext.append(''.join(bigramm_new))\n",
    "    return ' '.join(ciphertext)"
   ]
  },
  {
   "cell_type": "code",
   "execution_count": 27,
   "metadata": {
    "scrolled": true
   },
   "outputs": [
    {
     "data": {
      "text/plain": [
       "'ЕР ЗО АТ ЛХ ДГ РМ ТШ СФ АП НК СК РМ ЗФ РК ДН ХЛ ПД БФ ЕД НК ОШ СШ ВШ'"
      ]
     },
     "execution_count": 27,
     "metadata": {},
     "output_type": "execute_result"
    }
   ],
   "source": [
    "plaifair_encrypt('НЕ ВСЯКИЙ, КТО ЧИТАЕТ, В ЧТЕНИИ СИЛУ ЗНАЕТ.', al_plaifair,'БЛИНДАЖ')"
   ]
  },
  {
   "cell_type": "code",
   "execution_count": 88,
   "metadata": {},
   "outputs": [],
   "source": [
    "def plaifair_decrypt(ciphertext, al, keyphrase):\n",
    "    plaintext = list()\n",
    "    square = gen_square(keyphrase, al_plaifair)\n",
    "    \n",
    "    for bigram in separate_with((prepare(ciphertext)), 2):\n",
    "        indexes = [np.where(square == bigram[0]), np.where(square == bigram[1])]\n",
    "\n",
    "        in_a_column = indexes[0][1] == indexes[1][1]\n",
    "        in_a_row = indexes[0][0] == indexes[1][0]\n",
    "        if in_a_row:\n",
    "            indexes_new = [(indexes[0][0][0], (indexes[0][1][0] - 1) % square.shape[1])]\n",
    "            indexes_new.append((indexes[1][0][0], (indexes[1][1][0] - 1) % square.shape[1]))\n",
    "        elif in_a_column:\n",
    "\n",
    "            indexes_new = [((indexes[0][0][0] - 1) % square.shape[0], indexes[0][1][0])]\n",
    "            indexes_new.append(((indexes[1][0][0] - 1) % square.shape[0], indexes[1][1][0]))\n",
    "        else:\n",
    "            indexes_new = [(indexes[0][0][0], indexes[1][1][0])]\n",
    "            indexes_new.append((indexes[1][0][0], indexes[0][1][0]))\n",
    "        \n",
    "        bigramm_new = [square.item(indexes_new[0])]\n",
    "        bigramm_new.append(square.item(indexes_new[1]))\n",
    "        plaintext.append(''.join(bigramm_new))\n",
    "    return comp(''.join(plaintext))"
   ]
  },
  {
   "cell_type": "code",
   "execution_count": 89,
   "metadata": {},
   "outputs": [
    {
     "data": {
      "text/plain": [
       "'НЕВСЯКИФИ,КТОЧИТАЕТ,ВЧТЕНИФИСИЛУЗНАЕТФ.Ф'"
      ]
     },
     "execution_count": 89,
     "metadata": {},
     "output_type": "execute_result"
    }
   ],
   "source": [
    "plaifair_decrypt(plaifair_encrypt('НЕ ВСЯКИЙ, КТО ЧИТАЕТ, В ЧТЕНИИ СИЛУ ЗНАЕТ.', al_plaifair,'БЛИНДАЖ'), al_plaifair,'БЛИНДАЖ')"
   ]
  },
  {
   "cell_type": "code",
   "execution_count": 29,
   "metadata": {
    "scrolled": true
   },
   "outputs": [
    {
     "data": {
      "text/plain": [
       "'КТОФОБЖЕГСЯНАСУПЕ,ДУЕТНАХОЛОДНУЮРЫБУ.Ф'"
      ]
     },
     "execution_count": 29,
     "metadata": {},
     "output_type": "execute_result"
    }
   ],
   "source": [
    "plaifair_decrypt('МС КЧ КЖ ОЖ БТ ЮО БЫ ФУ ВО ХВ АЦ ВР ИД ЧМ ЖЗ НЦ ЦЩ ЕС АФ ЕХ ФЪ', al_plaifair,'ВЫСТРЕЛ')"
   ]
  },
  {
   "cell_type": "code",
   "execution_count": 31,
   "metadata": {},
   "outputs": [
    {
     "data": {
      "text/plain": [
       "'ТОТ,КТОХОЧЕТЕСА'"
      ]
     },
     "execution_count": 31,
     "metadata": {},
     "output_type": "execute_result"
    }
   ],
   "source": [
    "'ТОТ,КТОХОЧЕТЕСАТИХЬЦЭНГФМЖБСИНММИВЗСРТЯНМОЬВИЩЬТДНЖЕЯЧХЪ'[:15]"
   ]
  },
  {
   "cell_type": "code",
   "execution_count": 32,
   "metadata": {},
   "outputs": [
    {
     "data": {
      "text/plain": [
       "15"
      ]
     },
     "execution_count": 32,
     "metadata": {},
     "output_type": "execute_result"
    }
   ],
   "source": [
    "len('ТОТ,КТОХОЧЕТЕСА')"
   ]
  },
  {
   "cell_type": "code",
   "execution_count": 35,
   "metadata": {},
   "outputs": [
    {
     "data": {
      "text/plain": [
       "'СФЕКФЕФВПЦЧСНЯН'"
      ]
     },
     "execution_count": 35,
     "metadata": {},
     "output_type": "execute_result"
    }
   ],
   "source": [
    "''.join('СФ ЕК ФЕ ФВ ПЦ ЧС НЯ НЕ ВН ЛУ ДП ЩБ ВХ ЖЗ СЕ УА ЖЖ КА ЖЕ ВС БТ ЖЦ АГ УН ВЕ АБ ЗС СЫ ФЫ'.split())[:15]"
   ]
  },
  {
   "cell_type": "code",
   "execution_count": 47,
   "metadata": {},
   "outputs": [
    {
     "data": {
      "text/plain": [
       "matrix([['С', 'Е', 'Н', 'Т', 'Я', 'Б'],\n",
       "        ['Р', 'Ь', 'А', 'В', 'Г', 'Д'],\n",
       "        ['Ж', 'З', 'И', 'К', 'Л', 'М'],\n",
       "        ['О', 'П', 'У', 'Ф', 'Х', 'Ц'],\n",
       "        ['Ч', 'Ш', 'Щ', 'Ъ', 'Ы', 'Э']], dtype='<U1')"
      ]
     },
     "execution_count": 47,
     "metadata": {},
     "output_type": "execute_result"
    }
   ],
   "source": [
    "gen_square('СЕНТЯБРЬ', al_plaifair)"
   ]
  },
  {
   "cell_type": "code",
   "execution_count": 64,
   "metadata": {},
   "outputs": [
    {
     "data": {
      "text/plain": [
       "'СФ ЕК ФЕ ФВ ПЦ ЧС НЯ НЕ ЕВ НЛ УД ПШ БВ ХЖ ЗС ЕУ АЖ ЖК АЖ ЕВ ЕБ ТЖ ЦА ГУ НВ ЕА БЗ СЪ ФЪ'"
      ]
     },
     "execution_count": 64,
     "metadata": {},
     "output_type": "execute_result"
    }
   ],
   "source": [
    "plaifair_encrypt('ТОТ, КТО ХОЧЕТ ЕСТЬ ЯЙЦА, ДОЛЖЕН ПРИМИРИТЬСЯ С КУДАХТАНЬЕМ.', al_plaifair,'СЕНТЯБРЬ')"
   ]
  },
  {
   "cell_type": "code",
   "execution_count": 90,
   "metadata": {},
   "outputs": [],
   "source": [
    "text = prepare(test_text().upper().replace('-', '—').replace('X', '').replace('I', ''))"
   ]
  },
  {
   "cell_type": "code",
   "execution_count": 103,
   "metadata": {
    "scrolled": true
   },
   "outputs": [
    {
     "data": {
      "text/plain": [
       "'ЕР ИН ЕР НД КА ДП ШК ПА ТМ ДХ ЗР ТК ЫТ ПН ХД ЛЦ ЛР ТМ ЮО ЛР КЛ РС ЛГ ЛР ТЮ ОК ХЛ ВФ ТП ЧО ЖШ ЯЗ РЛ ЭР РХ ДЫ ТК ЧЖ БИ ЭЛ ПЛ ОЗ ЮК ДП ВФ ЕБ ПТ ОЯ ГС ШТ '"
      ]
     },
     "execution_count": 103,
     "metadata": {},
     "output_type": "execute_result"
    }
   ],
   "source": [
    "plaifair_encrypt(text, al_plaifair,'БЛИНДАЖ')[:150]"
   ]
  },
  {
   "cell_type": "code",
   "execution_count": 102,
   "metadata": {},
   "outputs": [
    {
     "data": {
      "text/plain": [
       "'НЕЛИНЕИНАЯИСТАТИСТИЧЕСКАЯПРИЧИНФНОСТЪСНОВАПРИВНОСЯТВФИЛОСОФСКУЮКОНЦЕПЦИЮКАУЗАЛЪНОИСВЯЗИСЛОЖНОСТЪ,КОТОРАЯБЫЛАПОТЕРЯНАСПОЯВЛЕНИЕМПОНЯТИЯПОСТОЯННОИКОНЪЮН'"
      ]
     },
     "execution_count": 102,
     "metadata": {},
     "output_type": "execute_result"
    }
   ],
   "source": [
    "plaifair_decrypt(plaifair_encrypt(text, al_plaifair,'БЛИНДАЖ'), al_plaifair,'БЛИНДАЖ')[:150]"
   ]
  },
  {
   "cell_type": "code",
   "execution_count": null,
   "metadata": {},
   "outputs": [],
   "source": []
  }
 ],
 "metadata": {
  "kernelspec": {
   "display_name": "Python 3",
   "language": "python",
   "name": "python3"
  },
  "language_info": {
   "codemirror_mode": {
    "name": "ipython",
    "version": 3
   },
   "file_extension": ".py",
   "mimetype": "text/x-python",
   "name": "python",
   "nbconvert_exporter": "python",
   "pygments_lexer": "ipython3",
   "version": "3.7.3"
  }
 },
 "nbformat": 4,
 "nbformat_minor": 2
}
