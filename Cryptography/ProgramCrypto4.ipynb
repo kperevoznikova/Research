{
 "cells": [
  {
   "cell_type": "markdown",
   "metadata": {},
   "source": [
    "### Вертикальная перестановка\n",
    "\n",
    "В  шифре вертикальной перестановки реализуется перестановка  считываемых  столбцов  матрицы текста в  соответствии  с  ключом. Если ключ - это слово, то используется расположение букв ключа в алфавите."
   ]
  },
  {
   "cell_type": "code",
   "execution_count": 1,
   "metadata": {},
   "outputs": [],
   "source": [
    "import numpy as np\n",
    "import requests\n",
    "from bs4 import BeautifulSoup as bs\n",
    "from random import randint\n",
    "\n",
    "def clear_paragraphs(ps:list, start=14, stop=16):\n",
    "    return ''.join([i.text for i in ps[start:stop]]).replace('\\xad', '').replace('\\xa0', '')\n",
    "\n",
    "def test_text(url='https://spacemorgue.com/matter-matters/'):\n",
    "    '''\n",
    "    Возвращает тестовый текст длиной 2408 символов\n",
    "    '''\n",
    "    soup = bs(requests.get(url).text, 'html.parser')\n",
    "    return clear_paragraphs(soup.select_one('article').find_all('p'))\n",
    "\n",
    "def prepare(text, specials={',':'ЗПТ','.':'ТЧК', ' ':'', '—':'ТИРЕ', '«':'КВЧ', '»':'КВЧ'}):\n",
    "    '''\n",
    "    Возвращает текст, удаляя пробельные символы в тексте и заменяя пунктуацию телеграфными обозначениями\n",
    "    '''\n",
    "    for i in specials.keys():\n",
    "        text = text.replace(i, specials[i])\n",
    "    return text\n",
    "\n",
    "def comp(text, specials={'ЗПТ':',','ТЧК':'.','ТИРЕ':'—','КВЧ':'\"'}):\n",
    "    '''\n",
    "    Возвращает текст, заменяя телеграфные обозначения пунктуацией\n",
    "    '''\n",
    "    for i in specials.keys():\n",
    "        text = text.replace(i, specials[i])\n",
    "    return text\n",
    "\n",
    "al = [chr(i) for i in range(ord('А'), ord('Я') + 1) if i is not ord('Ё')]"
   ]
  },
  {
   "cell_type": "code",
   "execution_count": 2,
   "metadata": {},
   "outputs": [],
   "source": [
    "def order(key):\n",
    "    for i, ch in zip(range(len(key)), sorted(list(key))): # нумеруем сортированный по алфавиту список символов\n",
    "        key = key.replace(ch, str(i)) # заменяем символ его номером\n",
    "    return [int(i) for i in key]"
   ]
  },
  {
   "cell_type": "code",
   "execution_count": 71,
   "metadata": {},
   "outputs": [],
   "source": [
    "def vertical_encrypt(plaintext, al, key):\n",
    "    assert len(key) == len(set(key)), 'The key contains not unique symbols'\n",
    "    al_internal = al.copy()\n",
    "    al_internal.append('0')\n",
    "    shape = [len(plaintext) // len(key), len(key)]\n",
    "    #if len(plaintext) // len(key) > len(key):\n",
    "    #    shape = [len(plaintext) // len(key), len(key)]\n",
    "    #else:\n",
    "    #    shape = [len(key), len(plaintext) // len(key)]\n",
    "    if shape[0] * shape[1] < len(plaintext):\n",
    "        shape[0] += shape[1] # добавить строку\n",
    "\n",
    "    # дополняем текст пустыми символами для создания таблицы с требуемым числом столбцов\n",
    "    if len(plaintext) % len(key):\n",
    "        plaintext += al_internal[-1] * ((shape[0] * shape[1]) % len(plaintext))\n",
    "        \n",
    "    # создаем таблицу в виде матрицы и транспонируем для простоты обращения к столбцам:\n",
    "    shape = (len(plaintext) // len(key), len(key))\n",
    "    table = np.matrix(list(prepare(plaintext))).reshape(shape).T\n",
    "    ciphertext = list()\n",
    "    \n",
    "    for i in order(key):\n",
    "        ciphertext.append(table[i].tolist()[0])\n",
    "    # преобразуем матрицу с переставленными столбцами в исходное положение и уберем пустой символ\n",
    "    return ''.join(np.matrix(ciphertext).T.flatten().tolist()[0]).replace(al_internal[-1], '')"
   ]
  },
  {
   "cell_type": "code",
   "execution_count": 72,
   "metadata": {
    "scrolled": true
   },
   "outputs": [
    {
     "data": {
      "text/plain": [
       "'ЕКЯИВНСЗТКОПЙТИТЕЗТЧАТЕТНВПЧИУЛЗСИИАЧТКЕНТ'"
      ]
     },
     "execution_count": 72,
     "metadata": {},
     "output_type": "execute_result"
    }
   ],
   "source": [
    "vertical_encrypt('НЕ ВСЯКИЙ, КТО ЧИТАЕТ, В ЧТЕНИИ СИЛУ ЗНАЕТ.', al, 'БЛИНДАЖ')"
   ]
  },
  {
   "cell_type": "code",
   "execution_count": 75,
   "metadata": {},
   "outputs": [],
   "source": [
    "def vertical_decrypt(ciphertext, al, key):\n",
    "    al_internal = al.copy()\n",
    "    al_internal.append('0')\n",
    "    shape = [len(ciphertext) // len(key), len(key)]\n",
    "    #if len(ciphertext) // len(key) > len(key):\n",
    "    #    shape = [len(ciphertext) // len(key), len(key)]\n",
    "    #else:\n",
    "    #    shape = [len(key), len(ciphertext) // len(key)]\n",
    "\n",
    "    if shape[0] * shape[1] < len(ciphertext):\n",
    "        shape[0] += shape[1]\n",
    "    if len(ciphertext) % len(key):\n",
    "        ciphertext += al_internal[-1] * ((shape[0] * shape[1]) % len(ciphertext))\n",
    "    table = np.matrix(list(ciphertext)).reshape(shape).T\n",
    "\n",
    "    plaintext = list()\n",
    "    key_l = order(key)\n",
    "    for i in range(len(key)):\n",
    "        j = key_l.index(i)\n",
    "        plaintext.append(table[j].tolist()[0])\n",
    "    return comp(''.join(np.matrix(plaintext).T.flatten().tolist()[0]).replace(al_internal[-1], ''))"
   ]
  },
  {
   "cell_type": "code",
   "execution_count": 76,
   "metadata": {},
   "outputs": [
    {
     "ename": "IndexError",
     "evalue": "index 6 is out of bounds for axis 0 with size 6",
     "output_type": "error",
     "traceback": [
      "\u001b[1;31m---------------------------------------------------------------------------\u001b[0m",
      "\u001b[1;31mIndexError\u001b[0m                                Traceback (most recent call last)",
      "\u001b[1;32m<ipython-input-76-edcef6a136df>\u001b[0m in \u001b[0;36m<module>\u001b[1;34m\u001b[0m\n\u001b[1;32m----> 1\u001b[1;33m \u001b[0mvertical_decrypt\u001b[0m\u001b[1;33m(\u001b[0m\u001b[1;34m'ЕКЯИВНСЗТКОПЙТИТЕЗТЧАТЕТНВПЧИУЛЗСИИАЧТКЕНТ'\u001b[0m\u001b[1;33m,\u001b[0m \u001b[0mal\u001b[0m\u001b[1;33m,\u001b[0m \u001b[1;34m'БЛИНДАЖ'\u001b[0m\u001b[1;33m)\u001b[0m\u001b[1;33m\u001b[0m\u001b[1;33m\u001b[0m\u001b[0m\n\u001b[0m",
      "\u001b[1;32m<ipython-input-75-e53649e4febc>\u001b[0m in \u001b[0;36mvertical_decrypt\u001b[1;34m(ciphertext, al, key)\u001b[0m\n\u001b[0;32m     19\u001b[0m     \u001b[1;32mfor\u001b[0m \u001b[0mi\u001b[0m \u001b[1;32min\u001b[0m \u001b[0mrange\u001b[0m\u001b[1;33m(\u001b[0m\u001b[0mlen\u001b[0m\u001b[1;33m(\u001b[0m\u001b[0mkey\u001b[0m\u001b[1;33m)\u001b[0m\u001b[1;33m)\u001b[0m\u001b[1;33m:\u001b[0m\u001b[1;33m\u001b[0m\u001b[1;33m\u001b[0m\u001b[0m\n\u001b[0;32m     20\u001b[0m         \u001b[0mj\u001b[0m \u001b[1;33m=\u001b[0m \u001b[0mkey_l\u001b[0m\u001b[1;33m.\u001b[0m\u001b[0mindex\u001b[0m\u001b[1;33m(\u001b[0m\u001b[0mi\u001b[0m\u001b[1;33m)\u001b[0m\u001b[1;33m\u001b[0m\u001b[1;33m\u001b[0m\u001b[0m\n\u001b[1;32m---> 21\u001b[1;33m         \u001b[0mplaintext\u001b[0m\u001b[1;33m.\u001b[0m\u001b[0mappend\u001b[0m\u001b[1;33m(\u001b[0m\u001b[0mtable\u001b[0m\u001b[1;33m[\u001b[0m\u001b[0mj\u001b[0m\u001b[1;33m]\u001b[0m\u001b[1;33m.\u001b[0m\u001b[0mtolist\u001b[0m\u001b[1;33m(\u001b[0m\u001b[1;33m)\u001b[0m\u001b[1;33m[\u001b[0m\u001b[1;36m0\u001b[0m\u001b[1;33m]\u001b[0m\u001b[1;33m)\u001b[0m\u001b[1;33m\u001b[0m\u001b[1;33m\u001b[0m\u001b[0m\n\u001b[0m\u001b[0;32m     22\u001b[0m     \u001b[1;32mreturn\u001b[0m \u001b[0mcomp\u001b[0m\u001b[1;33m(\u001b[0m\u001b[1;34m''\u001b[0m\u001b[1;33m.\u001b[0m\u001b[0mjoin\u001b[0m\u001b[1;33m(\u001b[0m\u001b[0mnp\u001b[0m\u001b[1;33m.\u001b[0m\u001b[0mmatrix\u001b[0m\u001b[1;33m(\u001b[0m\u001b[0mplaintext\u001b[0m\u001b[1;33m)\u001b[0m\u001b[1;33m.\u001b[0m\u001b[0mT\u001b[0m\u001b[1;33m.\u001b[0m\u001b[0mflatten\u001b[0m\u001b[1;33m(\u001b[0m\u001b[1;33m)\u001b[0m\u001b[1;33m.\u001b[0m\u001b[0mtolist\u001b[0m\u001b[1;33m(\u001b[0m\u001b[1;33m)\u001b[0m\u001b[1;33m[\u001b[0m\u001b[1;36m0\u001b[0m\u001b[1;33m]\u001b[0m\u001b[1;33m)\u001b[0m\u001b[1;33m.\u001b[0m\u001b[0mreplace\u001b[0m\u001b[1;33m(\u001b[0m\u001b[0mal_internal\u001b[0m\u001b[1;33m[\u001b[0m\u001b[1;33m-\u001b[0m\u001b[1;36m1\u001b[0m\u001b[1;33m]\u001b[0m\u001b[1;33m,\u001b[0m \u001b[1;34m''\u001b[0m\u001b[1;33m)\u001b[0m\u001b[1;33m)\u001b[0m\u001b[1;33m\u001b[0m\u001b[1;33m\u001b[0m\u001b[0m\n",
      "\u001b[1;32m~\\Anaconda3\\lib\\site-packages\\numpy\\matrixlib\\defmatrix.py\u001b[0m in \u001b[0;36m__getitem__\u001b[1;34m(self, index)\u001b[0m\n\u001b[0;32m    191\u001b[0m \u001b[1;33m\u001b[0m\u001b[0m\n\u001b[0;32m    192\u001b[0m         \u001b[1;32mtry\u001b[0m\u001b[1;33m:\u001b[0m\u001b[1;33m\u001b[0m\u001b[1;33m\u001b[0m\u001b[0m\n\u001b[1;32m--> 193\u001b[1;33m             \u001b[0mout\u001b[0m \u001b[1;33m=\u001b[0m \u001b[0mN\u001b[0m\u001b[1;33m.\u001b[0m\u001b[0mndarray\u001b[0m\u001b[1;33m.\u001b[0m\u001b[0m__getitem__\u001b[0m\u001b[1;33m(\u001b[0m\u001b[0mself\u001b[0m\u001b[1;33m,\u001b[0m \u001b[0mindex\u001b[0m\u001b[1;33m)\u001b[0m\u001b[1;33m\u001b[0m\u001b[1;33m\u001b[0m\u001b[0m\n\u001b[0m\u001b[0;32m    194\u001b[0m         \u001b[1;32mfinally\u001b[0m\u001b[1;33m:\u001b[0m\u001b[1;33m\u001b[0m\u001b[1;33m\u001b[0m\u001b[0m\n\u001b[0;32m    195\u001b[0m             \u001b[0mself\u001b[0m\u001b[1;33m.\u001b[0m\u001b[0m_getitem\u001b[0m \u001b[1;33m=\u001b[0m \u001b[1;32mFalse\u001b[0m\u001b[1;33m\u001b[0m\u001b[1;33m\u001b[0m\u001b[0m\n",
      "\u001b[1;31mIndexError\u001b[0m: index 6 is out of bounds for axis 0 with size 6"
     ]
    }
   ],
   "source": [
    "vertical_decrypt('ЕКЯИВНСЗТКОПЙТИТЕЗТЧАТЕТНВПЧИУЛЗСИИАЧТКЕНТ', al, 'БЛИНДАЖ')"
   ]
  },
  {
   "cell_type": "code",
   "execution_count": 7,
   "metadata": {},
   "outputs": [],
   "source": [
    "text = prepare(test_text().upper().replace('-', '—').replace('X', '').replace('I', ''))"
   ]
  },
  {
   "cell_type": "code",
   "execution_count": 78,
   "metadata": {},
   "outputs": [
    {
     "data": {
      "text/plain": [
       "'НЕЛЕННИЙТЯИАИАСТЕТИСАСЧКЧПРИНЯИНССТНВОЬОВПРНСАИОИТВЛСЯФОУФСЮООККЦЦЕИКНПЮЛУЗЬОААНЗСВИЛЙЯССЖНТЗООЬТТКОАПОРАБЫПТЯЛОАРЯСОЕНПНВЛИМЯЕЕТОНИППЯЯЯСТНОООНЪКОЮКЙННЧИИКОЦТДИОЛТЛПНЕСНАЛЖЬЯОЬОСМЖНТОЗТВНКЕОИПУТРАНЬИЗАЛЕАНИКЗАЛАОТИТВОВОНРИЗВКНЕИИОНТЭКРМИСЕОЛЬЙОАНФЕМЫЛНРНИЙЙНПИЕОРОИНСИЧНТКПТООЗВТНОЙЕНРВШИЯПЧНЯРИОПОЖААРДБТСЫИЕОТЧЗПЬРЕТЯАЛЬКЮОЗЛСАЕЯИЧТЛАЬВПСШЗУЛЕЦОПКЕЙДСЛОАОЕВНЕЛОТТЬСЬДАНЙИЛЕОИХБТШСЫКЙТПВИЧОООРЕБТНОЕГАНЕОЩИААУЛНКЗЬЯХСЗЙЫВЕВПООЯИЗЛХТСПМЕИОЛЩЬУШОЮЧЯОБСИЕЪНОЬСЖОТЛНЕПОДНЕВЕТЕМЕИИАРЗЛОПНАВТЖВТЕРООВОМЯЗОЕВРИДЕЕХЖНИКБЪТВОЕИИОСПВНТОТЕЧЗСЛЕАСБОЕЬОЙРЕЗНФЛЕЫИССОКЕОФИЕОСДТПЛСИИЯРМВТЕИТЕАЬАРЛОЫЕБТНСЫТЯЗПРИПОЮЖДЩЕОАИИРУЕАДГМАЕРЛНТИЬБЕСЫИЫОТДВВЕОЯИБЛЕЕОНЛСЖРХСИСЫЕЙИБЫЙПОТЗЭПРТМТИОЕОВМЕССНОАЖЗТВНПУМОТИСГЛНЮДАЛЛИБЬДАИТЮТХРКХООЧОШСЗВТОИЕНТПТОУЗЧЛОБЕГСЧЛОСЕТОТВАСЗИТКМОИОНОНТВПЕОЕНОСВМЖТТЧИЫЦАСХВЕТИИВОЛВЛИОНДНЛТЧКОУТКМТЕЗРЗЖПАВЫЕЕОНЦТОЫЕМОВКПЫЕНЗТНТПБОДНТПООМНАУЫОМЗНАЛЫЗКЬХВУКЗТВОПТМЕСОИЮВССОТЕЙБВТНЫЕПНЙМАИБЦИВРИЧИРАТТЕСЧТУКЛОТБАГОРЭАДЯВИМУХТДМТРАЕИАКРАТИМВСКСВТИУМЕЗКОГУКЗОТАЬВАРЗЫТАМИЧЫЭЛИЕТФЕЫАФКНЖОЗИОМГВИНЫЧЛТХЕАВЕТРОКИЕЭФКЫЕФТОПТТРЗКОГЕМУИЫОТЬПОЗВСЛОЯТЬВААСКВЕСЕЫЧТВТАЗЕЬРИЛРЫХЕСНСДДВЛЬИТЮМАИРРИТЕТИТАИИСМЖЫОТМЗВНИЕТИЮИПМЩОИСЮЕМВТОРИРЮРТИДЧКНКТОАВНЕНЯОРАЕИСМНСТАЯЯВЕСЕЛТЗОБАЕЯЯТЙЬНДЯЛОЛЛСПЬОИОЗЯАНЦЕВИВВАИУАТЗКАВЫЗТВРИЫЛЬХЕЕНЦЧЯХКОЛТСОВЕМЛСТИГДРИИИУМАОРМЭФМИРЕКОАЛТМННИОЭГТЙИЕРИОНГМЗУТАМГВИСДЕТООЙВДАТАЕВЬЖЧЕЛАШМЬЙОЕАМТИТЫЯКДЭОЧЛТИООИПГНСУЛЬЮСОЗТТЕДВЗРСАТТКОЫПОРОЯВВРЕНЫТЖАИСАЮХСЩНТТУОЬККТЗТЧАПЫТОГЗАМАБЗПУУАТДЕИЭРЕЧНГСИЧКВТЕИЖЗБДНОУЕЗЫМПИНИТКПУАТССЮЕРКПРЯИАЛЛЛЬЫАЕНИЛИИВЕНСПТАТРЕЗПКЧЕАДИМЖНЯЛИСАИЯЕОТТТОВСОУЕДОВТНТЧАОЕЙСТИПОЦОИЗИЕИРТЯНУССТНИЕООТДЬНРГЛОУАЙВВСОЗИТМОИТИСОЫЛИВЛДНОКЫТКЖНЧАТАЯОНДАМСЯЧТЦААИВЗПТМАТОЕИСВДЧЛОЗРОПКОДТРСЛОЗИОДЛТУЕОПГРТИПЧЗДРКЕТИЕХПМТТРАЕНАКРТЙПТРЫАЕИЛИЙИННТОЕСЕБРВОЫАЗЙВРНКЕОТЧТЧПАЧККТКОВЧБОДННПООЯСТЩМАОИЧТПАКОЕТЛМПЬЕААЦКЗПООВТТОЫЕГТРМУЧОМЬРПОПАУСНВИТОИЕНЛЧЛИИИОСЧЛНТЕАВЕЗТОКПАТИТЕЭПТИНЫНЙРЛИЛСПЬУИОЗСТСПКЮЯЕКРООИТСПИТАДЯСМЛДПРЕЕОЕЛИИЯМЧНХИЙСКПИЕОРЕАДЖОНЛНПТИРДСОЕНЛЕООЕНГРАТИЛМЕАСТЧПКАКЕКРООИТСПОЗАДЛЯРИВСЬЕЕАВКХСТПРИЕОИНАТЛЗЧЕСНОЛЖЬУОСИЛЬИНАТЕЕВАСРЕРЕНАПЯЕЛОСИЛЬНВОМТЖЕВМОСООТОВУЕДИЙТРСВСОТЗЛЯВЕДИЛЯЕНОПЧИТКЧАОМЕТВИТЕАОАРЛНЗПОКВТВННЕОИОЧМЭОГТНТЕАЗУКАИААВТИТСОСОПООБСЕСНТМАТОСЙОВТМООТАСЯОЛЬПОЕНРДЗВИЬИОТЗЫРИЕВАТЕЬНПТЛЫАЫЕРПСТНОТЕДВМРСОЧЗЛЕИИУНПЗПОЛЯТГИЩЕЯДОНИХУГПОРИРОЕСВЧЦСТК'"
      ]
     },
     "execution_count": 78,
     "metadata": {},
     "output_type": "execute_result"
    }
   ],
   "source": [
    "vertical_encrypt(text, al, 'СЕНТЯБРЬ')"
   ]
  },
  {
   "cell_type": "code",
   "execution_count": 77,
   "metadata": {},
   "outputs": [
    {
     "data": {
      "text/plain": [
       "'НЕЛИНЕЙНАЯИСТАТИСТИЧЕСКАЯПРИЧИННОСТЬСНОВАПРИВНОСЯТВФИЛОСОФСКУЮКОНЦЕПЦИЮКАУЗАЛЬНОЙСВЯЗИСЛОЖНОСТЬ,КОТОРАЯБЫЛАПОТЕРЯНАСПОЯВЛЕНИЕМПОНЯТИЯПОСТОЯННОЙКОНЪЮНКЦИИ.ДОПОЛНИТЕЛЬНАЯСЛОЖНОСТЬМОЖЕТВОЗНИКНУТЬПРИАНАЛИЗЕКАТАЛИЗАТОРОВИВОЗНИКНОВЕНИИЭКСТРЕМАЛЬНОЙФОРМЫНЕЛИНЕЙНОЙПРИЧИННОСТИ,ВКОТОРОЙВНЕШНЯЯПРИЧИНАПОРОЖДАЕТСОБЫТИЕ,ЧЬЯРОЛЬЗАКЛЮЧАЕТСЯЛИШЬВЗАПУСКЕЦЕЛОЙПОСЛЕДОВАТЕЛЬНОСТИДАЛЬНЕЙШИХСОБЫТИЙ.ПОВТОРНОЕОБОГАЩЕНИЕКАУЗАЛЬНЫХСВЯЗЕЙИПОЗВОЛЯЕТСИХПОМОЩЬЮЛУЧШЕОБЪЯСНИТЬСЛОЖНОЕПОВЕДЕНИЕМАТЕРИАЛОВ,НОВТОЖЕВРЕМЯВОЗРОЖДЕНИЕИХОБЪЕКТИВНОСТИПОВЛЕЧЕТЗАСОБОЙСЕРЬЕЗНЫЕФИЛОСОФСКИЕПОСЛЕДСТВИЯ—МАТЕРИАЛЬНЫЕСОБЫТИЯ,ПОРОЖДАЮЩИЕДРУГИЕМАТЕРИАЛЬНЫЕСОБЫТИЯВВИДЕБОЛЕЕСЛОЖНЫХСЕРИЙСОБЫТИЙ,ПРИЭТОМСОВСЕМНЕВАЖНО,СМОГУТЛИЛЮДИНАБЛЮДАТЬИХ.ХОРОШОИЗВЕСТНО,ЧТОЛУЧБЕЛОГОСВЕТАСОСТОИТИЗКОМПОНЕНТОВМНОЖЕСТВАЧИСТЫХЦВЕТОВИЛИДЛИНВОЛН.КТОМУЖЕ,РАЗНЫЕЦВЕТОВЫЕКОМПОНЕНТЫ,ПОДОБНОТОНАММУЗЫКАЛЬНЫХЗВУКОВ,ИМЕЮТСВОЙСОБСТВЕННЫЙТЕМПВИБРАЦИИ—ЧАСТОТУ.БЛАГОДАРЯЭТИМДВУМХАРАКТЕРИСТИКАМСВЕТИЗВУКМОГУТОКАЗЫВАТЬРАЗЛИЧИМЫЕЭФФЕКТЫНАМОЗГЖИВОТНЫХИЧЕЛОВЕКА—ЭФФЕКТЫ,КОТОРЫЕМОГУТИСПОЛЬЗОВАТЬСЯВКАЧЕСТВЕВЫРАЗИТЕЛЬНЫХСРЕДСТВЛЮДЬМИ—АРТИСТАМИИЖИВОТНЫМИ,ИМЕЮЩИМИСВОЮТЕРРИТОРИЮ.ОДНАКОНЕРВНАЯСИСТЕМАНЕЯВЛЯЕТСЯОБЯЗАТЕЛЬНОЙДЛЯИСПОЛЬЗОВАНИЯЦВЕТАИЗВУКАВВЫРАЗИТЕЛЬНЫХЦЕЛЯХ.СОСВЕТОМИЛИДРУГИМИФОРМАМИЭЛЕКТРОМАГНИТНОЙЭНЕРГИИМОГУТВЗАИМОДЕЙСТВОВАТЬДАЖЕМЕЛЬЧАЙШИЕАТОМЫ.ДЛЯЭТОГООНИИСПОЛЬЗУЮТСРЕДСТВА,КОТОРЫЕЯВНОВЫРАЖАЮТИХСУЩНОСТЬ.ТАК,АТОМЫГАЗА,БУДУЧИЭНЕРГЕТИЧЕСКИВОЗБУЖДЕННЫМИ,ИСПУСКАЮТЯРКИЕПАРАЛЛЕЛЬНЫЕЛИНИИСВЕТА,ПРИЧЕМКАЖДАЯЛИНИЯСООТВЕТСТВУЕТОДНОЙЧАСТОТЕИПОЗИЦИОНИРУЕТСЯОТНОСИТЕЛЬНОДРУГОЙВЗАВИСИМОСТИОТДЛИНЫВОЛНЫ.КАЖДАЯАТОМНАЯЧАСТИЦА,ВТОМЧИСЛЕВОДОРОД,КИСЛОРОД,УГЛЕРОДИПР.,ИМЕЕТХАРАКТЕРНЫЙПАТТЕРНЛИНИЙ—СВОЕОБРАЗНЫЙ\"ОТПЕЧАТОК\".ПОДОБНОНАСТОЯЩИМОТПЕЧАТКАМПАЛЬЦЕВ,КОТОРЫЕМОГУТПОМОЧЬПРИУСТАНОВЛЕНИИЛИЧНОСТИЧЕЛОВЕКА,ЭТИПАТТЕРНЫЛИНИЙИСПОЛЬЗУЮТСЯСПЕКТРОСКОПИСТАМИДЛЯОПРЕДЕЛЕНИЯХИМИЧЕСКОЙПРИНАДЛЕЖНОСТИОПРЕДЕЛЕННОГОМАТЕРИАЛА.СПЕКТРОСКОПИЯЗАРОДИЛАСЬВВЕКЕИСТЕХПОРЗНАЧИТЕЛЬНОУСЛОЖНИЛАСЬ—ВЕЕАРСЕНАЛЕПОЯВИЛОСЬМНОЖЕСТВОМЕТОДОВИУСТРОЙСТВДЛЯИЗВЛЕЧЕНИЯОТПЕЧАТКОВМАТЕРИАЛОВ,НОВКОНЕЧНОМИТОГЕЭТАНАУКАЗАВИСИТОТСПОСОБНОСТЕЙАТОМОВСАМОСТОЯТЕЛЬНОПРОИЗВОДИТЬВЫРАЗИТЕЛЬНЫЕПАТТЕРНЫПОСРЕДСТВОМИЗЛУЧЕНИЯ,ПОГЛОЩЕНИЯИДРУГИХПРОЦЕССОВ.'"
      ]
     },
     "execution_count": 77,
     "metadata": {},
     "output_type": "execute_result"
    }
   ],
   "source": [
    "vertical_decrypt(vertical_encrypt(text, al, 'СЕНТЯБРЬ'), al, 'СЕНТЯБРЬ')"
   ]
  },
  {
   "cell_type": "markdown",
   "metadata": {},
   "source": [
    "### Решетка Кардано\n",
    "\n",
    "Используется  трафарет  из  прямоугольного  листа  клетчатой  бумаги  размером $2m*2k$ клеток. \n",
    "\n",
    "В трафарете вырезано  $m*k$ клеток так, что при наложении его на чистый лист бумаги того же размера четырьмя возможными способами его вырезы полностью покрывают всю площадь листа. Буквы  сообщения  последовательно  вписываются  в  вырезы  трафарета  (по строкам,  в  каждой  строке  слева  направо)  при  каждом  из  четырех  его  возможных положений в заранее установленном порядке.\n",
    "\n",
    "Пустые клетки заполняются случайными символами."
   ]
  },
  {
   "cell_type": "markdown",
   "metadata": {},
   "source": [
    "Решетку представим в виде матрицы, состоящей из нулей (пропуски) и единиц (вырезанные клетки):"
   ]
  },
  {
   "cell_type": "code",
   "execution_count": 291,
   "metadata": {},
   "outputs": [
    {
     "data": {
      "text/plain": [
       "matrix([[0, 0, 1, 0, 0, 1, 1, 0, 0, 1],\n",
       "        [0, 1, 0, 0, 0, 0, 0, 0, 0, 0],\n",
       "        [0, 0, 0, 1, 0, 0, 0, 1, 0, 0],\n",
       "        [0, 1, 0, 0, 0, 1, 0, 0, 0, 1],\n",
       "        [1, 0, 0, 0, 1, 0, 1, 1, 0, 0],\n",
       "        [0, 1, 0, 0, 0, 0, 0, 0, 0, 0]])"
      ]
     },
     "execution_count": 291,
     "metadata": {},
     "output_type": "execute_result"
    }
   ],
   "source": [
    "key = np.matrix([\n",
    "    [0,0,1,0,0,1,1,0,0,1],\n",
    "    [0,1,0,0,0,0,0,0,0,0],\n",
    "    [0,0,0,1,0,0,0,1,0,0],\n",
    "    [0,1,0,0,0,1,0,0,0,1],\n",
    "    [1,0,0,0,1,0,1,1,0,0],\n",
    "    [0,1,0,0,0,0,0,0,0,0],\n",
    "      ])\n",
    "key"
   ]
  },
  {
   "cell_type": "code",
   "execution_count": 392,
   "metadata": {},
   "outputs": [],
   "source": [
    "def cardano_encrypt(plaintext, al, key : np.matrix):\n",
    "    size = key.shape[0] * key.shape[1]\n",
    "    assert size == 4 * len(np.where(key == 1)[0]), 'Cage is not cover all cells'\n",
    "    \n",
    "    plaintext = prepare(plaintext)\n",
    "    # заполним пустые клетки псевднослучайными символами\n",
    "    while len(plaintext) <= size:\n",
    "        plaintext = plaintext + al[randint(0, len(al) - 1)]\n",
    "    plaintext = list(plaintext)[::-1]\n",
    "    # заполним таблицу по трафарету\n",
    "    flip_results = list()\n",
    "    for flip in [\n",
    "        key,\n",
    "        np.fliplr(key), # отражение трафарета слева-направо\n",
    "        np.flipud(key), # отражение сверху-вниз\n",
    "        np.flipud(np.fliplr(key))\n",
    "    ]:\n",
    "        flip_result = list()\n",
    "        for row in flip.A:\n",
    "            new_row = list()\n",
    "            for cell in row:\n",
    "                if cell:\n",
    "                    cell = plaintext.pop()\n",
    "                new_row.append(cell)\n",
    "            flip_result.append(new_row)\n",
    "        flip_results.append(np.matrix(flip_result))\n",
    "    # соединим кусочки таблицы в строку шифротекста\n",
    "    ciphertext = list()\n",
    "    for i in range(key.shape[0]):\n",
    "        for j in range(key.shape[1]):\n",
    "            for flip in flip_results:\n",
    "                if flip[i,j] != '0':\n",
    "                    ciphertext.append(flip[i,j])\n",
    "                    break\n",
    "    return ''.join(ciphertext)"
   ]
  },
  {
   "cell_type": "code",
   "execution_count": 393,
   "metadata": {},
   "outputs": [
    {
     "data": {
      "text/plain": [
       "'ИСНТАЕВЕГСИЯЬФЛЕУЗТФЯНЗКЩАПИТЕТЙЮТВЗПТЧПТЧТЕКНТОФИДЧКВТАЮНИК'"
      ]
     },
     "execution_count": 393,
     "metadata": {},
     "output_type": "execute_result"
    }
   ],
   "source": [
    "cardano_encrypt('НЕ ВСЯКИЙ, КТО ЧИТАЕТ, В ЧТЕНИИ СИЛУ ЗНАЕТ.', al, key)"
   ]
  },
  {
   "cell_type": "code",
   "execution_count": 395,
   "metadata": {
    "scrolled": true
   },
   "outputs": [],
   "source": [
    "def cardano_decrypt(ciphertext, al, key : np.matrix):\n",
    "    ciphertext = np.matrix(list(ciphertext)).reshape(key.shape)\n",
    "    plaintext = list()\n",
    "    for flip in [\n",
    "        key,\n",
    "        np.fliplr(key),\n",
    "        np.flipud(key),\n",
    "        np.flipud(np.fliplr(key))\n",
    "    ]:\n",
    "        plaintext.extend(ciphertext[np.nonzero(flip)].A[0].tolist())\n",
    "    return comp(''.join(plaintext).rsplit('ТЧК')[0] + 'ТЧК')"
   ]
  },
  {
   "cell_type": "code",
   "execution_count": 396,
   "metadata": {},
   "outputs": [
    {
     "data": {
      "text/plain": [
       "'НЕВСЯКИЙ,КТОЧИТАЕТ,ВЧТЕНИИСИЛУЗНАЕТ.'"
      ]
     },
     "execution_count": 396,
     "metadata": {},
     "output_type": "execute_result"
    }
   ],
   "source": [
    "cardano_decrypt('ИСНТАЕВЕГСИЯЬФЛЕУЗТФЯНЗКЩАПИТЕТЙЮТВЗПТЧПТЧТЕКНТОФИДЧКВТАЮНИК', al, key)"
   ]
  }
 ],
 "metadata": {
  "kernelspec": {
   "display_name": "Python 3",
   "language": "python",
   "name": "python3"
  },
  "language_info": {
   "codemirror_mode": {
    "name": "ipython",
    "version": 3
   },
   "file_extension": ".py",
   "mimetype": "text/x-python",
   "name": "python",
   "nbconvert_exporter": "python",
   "pygments_lexer": "ipython3",
   "version": "3.7.3"
  }
 },
 "nbformat": 4,
 "nbformat_minor": 2
}
