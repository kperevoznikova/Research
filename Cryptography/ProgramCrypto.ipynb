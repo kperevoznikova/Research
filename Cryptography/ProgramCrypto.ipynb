{
 "cells": [
  {
   "cell_type": "markdown",
   "metadata": {},
   "source": [
    "### Атбаш\n",
    "\n",
    "Шифр простой замены\n",
    "\n",
    "$Y_i = X_{(n-i+1)}$, где $X$ - исходный текст, $Y$ - зашифрованный текст, $i$ - порядковый номер буквы в алфавите, $n$ - длина алфавита"
   ]
  },
  {
   "cell_type": "markdown",
   "metadata": {},
   "source": [
    "Создадим список с буквами открытого алфавита:"
   ]
  },
  {
   "cell_type": "code",
   "execution_count": 7,
   "metadata": {
    "scrolled": true
   },
   "outputs": [
    {
     "name": "stdout",
     "output_type": "stream",
     "text": [
      "АБВГДЕЖЗИЙКЛМНОПРСТУФХЦЧШЩЪЫЬЭЮЯ\n"
     ]
    }
   ],
   "source": [
    "al = [chr(i) for i in range(ord('А'), ord('Я') + 1) if i is not ord('Ё')]\n",
    "print(''.join(al))"
   ]
  },
  {
   "cell_type": "markdown",
   "metadata": {},
   "source": [
    "Попробуем получить $Y_i$, $a$ для каждого $X_i$ в сообщении:"
   ]
  },
  {
   "cell_type": "code",
   "execution_count": 2,
   "metadata": {},
   "outputs": [
    {
     "name": "stdout",
     "output_type": "stream",
     "text": [
      "А Я 0\n",
      "Б Ю 1\n",
      "В Э 2\n",
      "Г Ь 3\n",
      "Д Ы 4\n"
     ]
    }
   ],
   "source": [
    "for i, ch in enumerate('АБВГД'):\n",
    "    print(*[ch, al[len(al) - al.index(ch) - 1], i ])"
   ]
  },
  {
   "cell_type": "markdown",
   "metadata": {},
   "source": [
    "Зафиксируем получившийся алгоритм в функции, знаки препинания заменяя [буквенным сокращением](https://laws.studio/knigi-deloproizvodstvo_860/telegramma.html):"
   ]
  },
  {
   "cell_type": "code",
   "execution_count": 10,
   "metadata": {
    "scrolled": false
   },
   "outputs": [],
   "source": [
    "def prepare(text, specials={',':'ЗПТ','.':'ТЧК', ' ':'', '—':'ТИРЕ', '«':'КВЧ', '»':'КВЧ'}):\n",
    "    for i in specials.keys():\n",
    "        text = text.replace(i, specials[i])\n",
    "    return text\n",
    "\n",
    "def atbash(plaintext, alphabet):\n",
    "    ciphertext = list() #создаем список для хранения символов шифротекста\n",
    "    for ch in prepare(plaintext): #заменим в исходном тексте знаки пунктуации и уберем пробелы\n",
    "        ciphertext.append(alphabet[len(alphabet) - alphabet.index(ch) - 1]) #получим n-i+1 символ\n",
    "    return ''.join(ciphertext) #объединим список символов в строку"
   ]
  },
  {
   "cell_type": "markdown",
   "metadata": {},
   "source": [
    "Протестируем функцию:"
   ]
  },
  {
   "cell_type": "code",
   "execution_count": 11,
   "metadata": {},
   "outputs": [
    {
     "data": {
      "text/plain": [
       "'ТЪЭОАХЧЦШРНХНСИЧНЯЪНШРНЭИНЪТЧЧОЧФМШТЯЪННИХ'"
      ]
     },
     "execution_count": 11,
     "metadata": {},
     "output_type": "execute_result"
    }
   ],
   "source": [
    "ru = al.copy()\n",
    "atbash('НЕ ВСЯКИЙ, КТО ЧИТАЕТ, В ЧТЕНИИ СИЛУ ЗНАЕТ.', ru)"
   ]
  },
  {
   "cell_type": "markdown",
   "metadata": {},
   "source": [
    "Создадим функцию расшифровки:"
   ]
  },
  {
   "cell_type": "code",
   "execution_count": 17,
   "metadata": {},
   "outputs": [],
   "source": [
    "def comp(text, specials={'ЗПТ':',','ТЧК':'.','ТИРЕ':'—','КВЧ':'\"'}):\n",
    "    for i in specials.keys():\n",
    "        text = text.replace(i, specials[i])\n",
    "    return text\n",
    "\n",
    "def decrypt_atbash(ciphertext, alphabet):\n",
    "    plaintext = list()\n",
    "    for ch in ciphertext: \n",
    "        plaintext.append(alphabet[len(alphabet) - alphabet.index(ch) - 1])\n",
    "    return comp(''.join(plaintext))"
   ]
  },
  {
   "cell_type": "code",
   "execution_count": 6,
   "metadata": {},
   "outputs": [
    {
     "data": {
      "text/plain": [
       "'НЕВСЯКИЙ,КТОЧИТАЕТ,ВЧТЕНИИСИЛУЗНАЕТ.'"
      ]
     },
     "execution_count": 6,
     "metadata": {},
     "output_type": "execute_result"
    }
   ],
   "source": [
    "decrypt_atbash(atbash('НЕ ВСЯКИЙ, КТО ЧИТАЕТ, В ЧТЕНИИ СИЛУ ЗНАЕТ.', ru), ru)"
   ]
  },
  {
   "cell_type": "markdown",
   "metadata": {},
   "source": [
    "В качестве проверочного текста будем использовать отрывок из перевода статьи Мануэля Деланда \"Matter Matters\" от проекта SpaceMorgue:"
   ]
  },
  {
   "cell_type": "code",
   "execution_count": 7,
   "metadata": {},
   "outputs": [],
   "source": [
    "import requests\n",
    "from bs4 import BeautifulSoup as bs\n",
    "\n",
    "def clear_paragraphs(ps:list, start=14, stop=16):\n",
    "    return ''.join([i.text for i in ps[start:stop]]).replace('\\xad', '').replace('\\xa0', '')\n",
    "\n",
    "def test_text(url='https://spacemorgue.com/matter-matters/'):\n",
    "    soup = bs(requests.get(url).text, 'html.parser')\n",
    "    return clear_paragraphs(soup.select_one('article').find_all('p'))"
   ]
  },
  {
   "cell_type": "code",
   "execution_count": 8,
   "metadata": {},
   "outputs": [
    {
     "data": {
      "text/plain": [
       "('Нелинейная и статистическая причинность снова привносят в философскую концепцию каузальной связи сложность, которая была потеряна с появлением понятия постоянной конъюнкции. Дополнительная сложность может возникнуть при анализе катализаторов и возникновении экстремальной формы нелинейной причинности, в которой внешняя причина порождает событие, чья роль заключается лишь в запуске целой последовательности дальнейших событий. Повторное обогащение каузальных связей и позволяет с их помощью лучше объяснить сложное поведение материалов, но в то же время возрождение их объективности повлечет за собой серьезные философские последствия — материальные события, порождающие другие материальные события в виде более сложных серий событий, при этом совсем не важно, смогут ли люди наблюдатьих.Хорошо известно, что луч белого света состоит из компонентов множества чистых цветов или длин волн. К тому же, разные цветовые компоненты, подобно тонам музыкальных звуков, имеют свой собственный темп вибрации — частоту. Благодаря этим двум характеристикам свет и звук могут оказывать различимые эффекты на мозг животных и человека — эффекты, которые могут использоваться в качестве выразительных средств людьми-артистами и животными, имеющими свою территорию. Однако нервная система не является обязательной для использования цвета и звука в выразительных целях. Со светом или другими формами электромагнитной энергии могут взаимодействовать даже мельчайшие атомы. Для этого они используют средства, которые явно выражают их сущность. Так, атомы газа, будучи энергетически возбужденными, испускают яркие параллельные линии света, причем каждая линия соответствует одной частоте и позиционируется относительно другой в зависимости от длины волны. Каждая атомная частица, в том числе водород, кислород, углерод и пр., имеет характерный паттерн линий — своеобразный «отпечаток». Подобно настоящим отпечаткам пальцев, которые могут помочь при установлении личности человека, эти паттерны линий используются спектроскопистами для определения химической принадлежности определенного материала. Спектроскопия зародилась в XIX веке и с тех пор значительно усложнилась — в ее арсенале появилось множество методов и устройств для извлечения отпечатков материалов, но в конечном итоге эта наука зависит от способностей атомов самостоятельно производить выразительные паттерны посредством излучения, поглощения и других процессов.',\n",
       " 'Символов: 2408')"
      ]
     },
     "execution_count": 8,
     "metadata": {},
     "output_type": "execute_result"
    }
   ],
   "source": [
    "test_text(), f'Символов: {len(test_text())}'"
   ]
  },
  {
   "cell_type": "code",
   "execution_count": 9,
   "metadata": {},
   "outputs": [],
   "source": [
    "text = test_text().upper().replace('-', '—') # унифицируем тире и регистр символов\n",
    "al.extend(['X', 'I']) # дополняем русский алфавит английскими литералами, для обработки буквенной нотации века"
   ]
  },
  {
   "cell_type": "code",
   "execution_count": 10,
   "metadata": {},
   "outputs": [
    {
     "data": {
      "text/plain": [
       "'ФЬЦЩФЬШФIВЩРПIПЩРПЩКЬРЧIВТСЩКЩФФУРПЕРФУЯIТСЩЯФУРВПЯНЩЦУРУНРЧОГЧУФЛЬТЛЩГЧIОЪIЦЕФУШРЯВЪЩРЦУЫФУРПЕЪТПЧУПУСIВXЖЦIТУПЬСВФIРТУВЯЦЬФЩЬХТУФВПЩВТУРПУВФФУШЧУФЗГФЧЛЩЩПКЧЭУТУЦФЩПЬЦЕФIВРЦУЫФУРПЕХУЫЬПЯУЪФЩЧФОПЕТСЩIФIЦЩЪЬЧIПIЦЩЪIПУСУЯЩЯУЪФЩЧФУЯЬФЩЩДЧРПСЬХIЦЕФУШНУСХЖФЬЦЩФЬШФУШТСЩКЩФФУРПЩЪТПЯЧУПУСУШЯФЬЙФВВТСЩКЩФIТУСУЫЭIЬПРУXЖПЩЬЪТПКЕВСУЦЕЪIЧЦГКIЬПРВЦЩЙЕЯЪIТОРЧЬЛЬЦУШТУРЦЬЭУЯIПЬЦЕФУРПЩЭIЦЕФЬШЙЩМРУXЖПЩШПКЧТУЯПУСФУЬУXУЮIИЬФЩЬЧIОЪIЦЕФЖМРЯВЪЬШЩТУЪЯУЦВЬПРЩМТУХУИЕГЦОКЙЬУXЗВРФЩПЕРЦУЫФУЬТУЯЬЭЬФЩЬХIПЬСЩIЦУЯЪТПФУЯПУЫЬЯСЬХВЯУЪСУЫЭЬФЩЬЩМУXЗЬЧПЩЯФУРПЩТУЯЦЬКЬПЪIРУXУШРЬСЕЬЪФЖЬНЩЦУРУНРЧЩЬТУРЦЬЭРПЯЩВПЩСЬХIПЬСЩIЦЕФЖЬРУXЖПЩВЪТПТУСУЫЭIГИЩЬЭСОЮЩЬХIПЬСЩIЦЕФЖЬРУXЖПЩВЯЯЩЭЬXУЦЬЬРЦУЫФЖМРЬСЩШРУXЖПЩШЪТПТСЩДПУХРУЯРЬХФЬЯIЫФУЪТПРХУЮОПЦЩЦГЭЩФIXЦГЭIПЕЩМПКЧМУСУЙУЩЪЯЬРПФУЪТПКПУЦОКXЬЦУЮУРЯЬПIРУРПУЩПЩЪЧУХТУФЬФПУЯХФУЫЬРПЯIКЩРПЖМЛЯЬПУЯЩЦЩЭЦЩФЯУЦФПКЧЧПУХОЫЬЪТПСIЪФЖЬЛЯЬПУЯЖЬЧУХТУФЬФПЖЪТПТУЭУXФУПУФIХХОЪЖЧIЦЕФЖМЪЯОЧУЯЪТПЩХЬГПРЯУШРУXРПЯЬФФЖШПЬХТЯЩXСIЛЩЩПЩСЬКIРПУПОПКЧXЦIЮУЭIСВДПЩХЭЯОХМIСIЧПЬСЩРПЩЧIХРЯЬПЩЪЯОЧХУЮОПУЧIЪЖЯIПЕСIЪЦЩКЩХЖЬДННЬЧПЖФIХУЪЮЫЩЯУПФЖМЩКЬЦУЯЬЧIПЩСЬДННЬЧПЖЪТПЧУПУСЖЬХУЮОПЩРТУЦЕЪУЯIПЕРВЯЧIКЬРПЯЬЯЖСIЪЩПЬЦЕФЖМРСЬЭРПЯЦГЭЕХЩПЩСЬIСПЩРПIХЩЩЫЩЯУПФЖХЩЪТПЩХЬГИЩХЩРЯУГПЬССЩПУСЩГПКЧУЭФIЧУФЬСЯФIВРЩРПЬХIФЬВЯЦВЬПРВУXВЪIПЬЦЕФУШЭЦВЩРТУЦЕЪУЯIФЩВЛЯЬПIЩЪЯОЧIЯЯЖСIЪЩПЬЦЕФЖМЛЬЦВМПКЧРУРЯЬПУХЩЦЩЭСОЮЩХЩНУСХIХЩДЦЬЧПСУХIЮФЩПФУШДФЬСЮЩЩХУЮОПЯЪIЩХУЭЬШРПЯУЯIПЕЭIЫЬХЬЦЕКIШЙЩЬIПУХЖПКЧЭЦВДПУЮУУФЩЩРТУЦЕЪОГПРСЬЭРПЯIЪТПЧУПУСЖЬВЯФУЯЖСIЫIГПЩМРОИФУРПЕПКЧПIЧЪТПIПУХЖЮIЪIЪТПXОЭОКЩДФЬСЮЬПЩКЬРЧЩЯУЪXОЫЭЬФФЖХЩЪТПЩРТОРЧIГПВСЧЩЬТIСIЦЦЬЦЕФЖЬЦЩФЩЩРЯЬПIЪТПТСЩКЬХЧIЫЭIВЦЩФЩВРУУПЯЬПРПЯОЬПУЭФУШКIРПУПЬЩТУЪЩЛЩУФЩСОЬПРВУПФУРЩПЬЦЕФУЭСОЮУШЯЪIЯЩРЩХУРПЩУПЭЦЩФЖЯУЦФЖПКЧЧIЫЭIВIПУХФIВКIРПЩЛIЪТПЯПУХКЩРЦЬЯУЭУСУЭЪТПЧЩРЦУСУЭЪТПОЮЦЬСУЭЩТСПКЧЪТПЩХЬЬПМIСIЧПЬСФЖШТIППЬСФЦЩФЩШПЩСЬРЯУЬУXСIЪФЖШЧЯКУПТЬКIПУЧЧЯКПКЧТУЭУXФУФIРПУВИЩХУПТЬКIПЧIХТIЦЕЛЬЯЪТПЧУПУСЖЬХУЮОПТУХУКЕТСЩОРПIФУЯЦЬФЩЩЦЩКФУРПЩКЬЦУЯЬЧIЪТПДПЩТIППЬСФЖЦЩФЩШЩРТУЦЕЪОГПРВРТЬЧПСУРЧУТЩРПIХЩЭЦВУТСЬЭЬЦЬФЩВМЩХЩКЬРЧУШТСЩФIЭЦЬЫФУРПЩУТСЬЭЬЦЬФФУЮУХIПЬСЩIЦIПКЧРТЬЧПСУРЧУТЩВЪIСУЭЩЦIРЕЯБАБЯЬЧЬЩРПЬМТУСЪФIКЩПЬЦЕФУОРЦУЫФЩЦIРЕПЩСЬЯЬЬIСРЬФIЦЬТУВЯЩЦУРЕХФУЫЬРПЯУХЬПУЭУЯЩОРПСУШРПЯЭЦВЩЪЯЦЬКЬФЩВУПТЬКIПЧУЯХIПЬСЩIЦУЯЪТПФУЯЧУФЬКФУХЩПУЮЬДПIФIОЧIЪIЯЩРЩПУПРТУРУXФУРПЬШIПУХУЯРIХУРПУВПЬЦЕФУТСУЩЪЯУЭЩПЕЯЖСIЪЩПЬЦЕФЖЬТIППЬСФЖТУРСЬЭРПЯУХЩЪЦОКЬФЩВЪТПТУЮЦУИЬФЩВЩЭСОЮЩМТСУЛЬРРУЯПКЧ'"
      ]
     },
     "execution_count": 10,
     "metadata": {},
     "output_type": "execute_result"
    }
   ],
   "source": [
    "atbash(text, al)"
   ]
  },
  {
   "cell_type": "code",
   "execution_count": 11,
   "metadata": {},
   "outputs": [
    {
     "data": {
      "text/plain": [
       "'НЕЛИНЕЙНАЯИСТАТИСТИЧЕСКАЯПРИЧИННОСТЬСНОВАПРИВНОСЯТВФИЛОСОФСКУЮКОНЦЕПЦИЮКАУЗАЛЬНОЙСВЯЗИСЛОЖНОСТЬ,КОТОРАЯБЫЛАПОТЕРЯНАСПОЯВЛЕНИЕМПОНЯТИЯПОСТОЯННОЙКОНЪЮНКЦИИ.ДОПОЛНИТЕЛЬНАЯСЛОЖНОСТЬМОЖЕТВОЗНИКНУТЬПРИАНАЛИЗЕКАТАЛИЗАТОРОВИВОЗНИКНОВЕНИИЭКСТРЕМАЛЬНОЙФОРМЫНЕЛИНЕЙНОЙПРИЧИННОСТИ,ВКОТОРОЙВНЕШНЯЯПРИЧИНАПОРОЖДАЕТСОБЫТИЕ,ЧЬЯРОЛЬЗАКЛЮЧАЕТСЯЛИШЬВЗАПУСКЕЦЕЛОЙПОСЛЕДОВАТЕЛЬНОСТИДАЛЬНЕЙШИХСОБЫТИЙ.ПОВТОРНОЕОБОГАЩЕНИЕКАУЗАЛЬНЫХСВЯЗЕЙИПОЗВОЛЯЕТСИХПОМОЩЬЮЛУЧШЕОБЪЯСНИТЬСЛОЖНОЕПОВЕДЕНИЕМАТЕРИАЛОВ,НОВТОЖЕВРЕМЯВОЗРОЖДЕНИЕИХОБЪЕКТИВНОСТИПОВЛЕЧЕТЗАСОБОЙСЕРЬЕЗНЫЕФИЛОСОФСКИЕПОСЛЕДСТВИЯ—МАТЕРИАЛЬНЫЕСОБЫТИЯ,ПОРОЖДАЮЩИЕДРУГИЕМАТЕРИАЛЬНЫЕСОБЫТИЯВВИДЕБОЛЕЕСЛОЖНЫХСЕРИЙСОБЫТИЙ,ПРИЭТОМСОВСЕМНЕВАЖНО,СМОГУТЛИЛЮДИНАБЛЮДАТЬИХ.ХОРОШОИЗВЕСТНО,ЧТОЛУЧБЕЛОГОСВЕТАСОСТОИТИЗКОМПОНЕНТОВМНОЖЕСТВАЧИСТЫХЦВЕТОВИЛИДЛИНВОЛН.КТОМУЖЕ,РАЗНЫЕЦВЕТОВЫЕКОМПОНЕНТЫ,ПОДОБНОТОНАММУЗЫКАЛЬНЫХЗВУКОВ,ИМЕЮТСВОЙСОБСТВЕННЫЙТЕМПВИБРАЦИИ—ЧАСТОТУ.БЛАГОДАРЯЭТИМДВУМХАРАКТЕРИСТИКАМСВЕТИЗВУКМОГУТОКАЗЫВАТЬРАЗЛИЧИМЫЕЭФФЕКТЫНАМОЗГЖИВОТНЫХИЧЕЛОВЕКА—ЭФФЕКТЫ,КОТОРЫЕМОГУТИСПОЛЬЗОВАТЬСЯВКАЧЕСТВЕВЫРАЗИТЕЛЬНЫХСРЕДСТВЛЮДЬМИ—АРТИСТАМИИЖИВОТНЫМИ,ИМЕЮЩИМИСВОЮТЕРРИТОРИЮ.ОДНАКОНЕРВНАЯСИСТЕМАНЕЯВЛЯЕТСЯОБЯЗАТЕЛЬНОЙДЛЯИСПОЛЬЗОВАНИЯЦВЕТАИЗВУКАВВЫРАЗИТЕЛЬНЫХЦЕЛЯХ.СОСВЕТОМИЛИДРУГИМИФОРМАМИЭЛЕКТРОМАГНИТНОЙЭНЕРГИИМОГУТВЗАИМОДЕЙСТВОВАТЬДАЖЕМЕЛЬЧАЙШИЕАТОМЫ.ДЛЯЭТОГООНИИСПОЛЬЗУЮТСРЕДСТВА,КОТОРЫЕЯВНОВЫРАЖАЮТИХСУЩНОСТЬ.ТАК,АТОМЫГАЗА,БУДУЧИЭНЕРГЕТИЧЕСКИВОЗБУЖДЕННЫМИ,ИСПУСКАЮТЯРКИЕПАРАЛЛЕЛЬНЫЕЛИНИИСВЕТА,ПРИЧЕМКАЖДАЯЛИНИЯСООТВЕТСТВУЕТОДНОЙЧАСТОТЕИПОЗИЦИОНИРУЕТСЯОТНОСИТЕЛЬНОДРУГОЙВЗАВИСИМОСТИОТДЛИНЫВОЛНЫ.КАЖДАЯАТОМНАЯЧАСТИЦА,ВТОМЧИСЛЕВОДОРОД,КИСЛОРОД,УГЛЕРОДИПР.,ИМЕЕТХАРАКТЕРНЫЙПАТТЕРНЛИНИЙ—СВОЕОБРАЗНЫЙ\"ОТПЕЧАТОК\".ПОДОБНОНАСТОЯЩИМОТПЕЧАТКАМПАЛЬЦЕВ,КОТОРЫЕМОГУТПОМОЧЬПРИУСТАНОВЛЕНИИЛИЧНОСТИЧЕЛОВЕКА,ЭТИПАТТЕРНЫЛИНИЙИСПОЛЬЗУЮТСЯСПЕКТРОСКОПИСТАМИДЛЯОПРЕДЕЛЕНИЯХИМИЧЕСКОЙПРИНАДЛЕЖНОСТИОПРЕДЕЛЕННОГОМАТЕРИАЛА.СПЕКТРОСКОПИЯЗАРОДИЛАСЬВXIXВЕКЕИСТЕХПОРЗНАЧИТЕЛЬНОУСЛОЖНИЛАСЬ—ВЕЕАРСЕНАЛЕПОЯВИЛОСЬМНОЖЕСТВОМЕТОДОВИУСТРОЙСТВДЛЯИЗВЛЕЧЕНИЯОТПЕЧАТКОВМАТЕРИАЛОВ,НОВКОНЕЧНОМИТОГЕЭТАНАУКАЗАВИСИТОТСПОСОБНОСТЕЙАТОМОВСАМОСТОЯТЕЛЬНОПРОИЗВОДИТЬВЫРАЗИТЕЛЬНЫЕПАТТЕРНЫПОСРЕДСТВОМИЗЛУЧЕНИЯ,ПОГЛОЩЕНИЯИДРУГИХПРОЦЕССОВ.'"
      ]
     },
     "execution_count": 11,
     "metadata": {},
     "output_type": "execute_result"
    }
   ],
   "source": [
    "decrypt_atbash(atbash(text, al), al)"
   ]
  },
  {
   "cell_type": "markdown",
   "metadata": {},
   "source": [
    "### Шифр Цезаря\n",
    "\n",
    "$Y_i = X_{i+3}\\mod n$, где $X$ - исходный текст, $Y$ - зашифрованный текст, $i$ - порядковый номер буквы в алфавите, $n$ - длина алфавита"
   ]
  },
  {
   "cell_type": "code",
   "execution_count": 12,
   "metadata": {},
   "outputs": [],
   "source": [
    "def caesar(plaintext, alphabet, i=3):\n",
    "    ciphertext = list()\n",
    "    for ch in prepare(plaintext):\n",
    "        ciphertext.append(alphabet[(alphabet.index(ch) + i) % len(alphabet)])\n",
    "    return ''.join(ciphertext)"
   ]
  },
  {
   "cell_type": "code",
   "execution_count": 13,
   "metadata": {},
   "outputs": [
    {
     "data": {
      "text/plain": [
       "'РИЕФВНЛМКТХНХСЪЛХГИХКТХЕЪХИРЛЛФЛОЦКРГИХХЪН'"
      ]
     },
     "execution_count": 13,
     "metadata": {},
     "output_type": "execute_result"
    }
   ],
   "source": [
    "caesar('НЕ ВСЯКИЙ, КТО ЧИТАЕТ, В ЧТЕНИИ СИЛУ ЗНАЕТ.', ru)"
   ]
  },
  {
   "cell_type": "code",
   "execution_count": 14,
   "metadata": {},
   "outputs": [],
   "source": [
    "def decrypt_caesar(ciphertext, alphabet, i=3):\n",
    "    plaintext = list()\n",
    "    for ch in ciphertext: \n",
    "        plaintext.append(alphabet[(alphabet.index(ch) - i) % len(alphabet)])\n",
    "    return comp(''.join(plaintext))"
   ]
  },
  {
   "cell_type": "code",
   "execution_count": 15,
   "metadata": {},
   "outputs": [
    {
     "data": {
      "text/plain": [
       "'НЕВСЯКИЙ,КТОЧИТАЕТ,ВЧТЕНИИСИЛУЗНАЕТ.'"
      ]
     },
     "execution_count": 15,
     "metadata": {},
     "output_type": "execute_result"
    }
   ],
   "source": [
    "decrypt_caesar('РИЕФВНЛМКТХНХСЪЛХГИХКТХЕЪХИРЛЛФЛОЦКРГИХХЪН', ru)"
   ]
  },
  {
   "cell_type": "code",
   "execution_count": 19,
   "metadata": {},
   "outputs": [
    {
     "data": {
      "text/plain": [
       "'ЭХТБПЪШЩЧЯВЪВЮЗШВРХВЧЯВТЗВХЭШШБШЫГЧЭРХВВЗЪ'"
      ]
     },
     "execution_count": 19,
     "metadata": {},
     "output_type": "execute_result"
    }
   ],
   "source": [
    "caesar('НЕ ВСЯКИЙ, КТО ЧИТАЕТ, В ЧТЕНИИ СИЛУ ЗНАЕТ.', ru, 16)"
   ]
  },
  {
   "cell_type": "code",
   "execution_count": 20,
   "metadata": {
    "scrolled": true
   },
   "outputs": [
    {
     "data": {
      "text/plain": [
       "'ЯЧФГСЬЪЫЩБДЬДАЙЪДТЧДЩБДФЙДЧЯЪЪГЪЭЕЩЯТЧДДЙЬ'"
      ]
     },
     "execution_count": 20,
     "metadata": {},
     "output_type": "execute_result"
    }
   ],
   "source": [
    "decrypt_caesar('ПЗДУБМКЛЙСФМФРЩКФВЗФЙСФДЩФЗПККУКНХЙПВЗФФЩМ', ru, 16)"
   ]
  },
  {
   "cell_type": "code",
   "execution_count": 16,
   "metadata": {},
   "outputs": [
    {
     "data": {
      "text/plain": [
       "'РИОЛРИМРГАЛФХГХЛФХЛЪИФНГАТУЛЪЛРРСФХЯФРСЕГТУЛЕРСФАХ...'"
      ]
     },
     "execution_count": 16,
     "metadata": {},
     "output_type": "execute_result"
    }
   ],
   "source": [
    "f'{caesar(text,al)[:50]}...' # выведем на печать только первые 50 символов текста"
   ]
  },
  {
   "cell_type": "code",
   "execution_count": 17,
   "metadata": {},
   "outputs": [
    {
     "data": {
      "text/plain": [
       "'НЕЛИНЕЙНАЯИСТАТИСТИЧЕСКАЯПРИЧИННОСТЬСНОВАПРИВНОСЯТ...'"
      ]
     },
     "execution_count": 17,
     "metadata": {},
     "output_type": "execute_result"
    }
   ],
   "source": [
    "f'{decrypt_caesar(caesar(text,al),al)[:50]}...'"
   ]
  },
  {
   "cell_type": "markdown",
   "metadata": {},
   "source": [
    "### Квадрат Полибия\n",
    "\n",
    "Шифр замены, называемый Квадратом Полибия, был изобретен во 2 веке до нашей эры, он использовался для предупреждения об опасности с помощью двух факелов с охранных постов. \n",
    "\n",
    "Текст алфавита помещается в таблицу, где каждой букве соответствуют два числа – номер строки $i$ (количество факелов в левой руке) и номер столбца $j$ (количество факелов в правой руке)"
   ]
  },
  {
   "cell_type": "code",
   "execution_count": 22,
   "metadata": {},
   "outputs": [
    {
     "data": {
      "text/plain": [
       "(32, 6)"
      ]
     },
     "execution_count": 22,
     "metadata": {},
     "output_type": "execute_result"
    }
   ],
   "source": [
    "len(ru), round(len(ru) ** .5) # найдем количество строк и столбцов для данного алфавита"
   ]
  },
  {
   "cell_type": "code",
   "execution_count": 128,
   "metadata": {},
   "outputs": [],
   "source": [
    "def make_polybius(alphabet, edge):\n",
    "    square = list()\n",
    "    alph = alphabet.copy()\n",
    "    alph.reverse() # развернем алфавит, поскольку метод .pop() возвращает последний элемент \n",
    "    for i in range(edge + 1):\n",
    "        square.append(list())\n",
    "        for j in range(edge):\n",
    "            if alph:\n",
    "                square[i].append(alph.pop())\n",
    "            else:\n",
    "                return square"
   ]
  },
  {
   "cell_type": "code",
   "execution_count": 133,
   "metadata": {},
   "outputs": [
    {
     "data": {
      "text/plain": [
       "[['А', 'Б', 'В', 'Г', 'Д', 'Е'],\n",
       " ['Ж', 'З', 'И', 'Й', 'К', 'Л'],\n",
       " ['М', 'Н', 'О', 'П', 'Р', 'С'],\n",
       " ['Т', 'У', 'Ф', 'Х', 'Ц', 'Ч'],\n",
       " ['Ш', 'Щ', 'Ъ', 'Ы', 'Ь', 'Э'],\n",
       " ['Ю', 'Я']]"
      ]
     },
     "execution_count": 133,
     "metadata": {},
     "output_type": "execute_result"
    }
   ],
   "source": [
    "make_polybius(ru, round(len(ru) ** .5))"
   ]
  },
  {
   "cell_type": "code",
   "execution_count": 140,
   "metadata": {},
   "outputs": [],
   "source": [
    "def row(ch, alph, edge):\n",
    "    return (alph.index(ch)) // edge"
   ]
  },
  {
   "cell_type": "code",
   "execution_count": 154,
   "metadata": {},
   "outputs": [],
   "source": [
    "def polybius(plaintext, alphabet):\n",
    "    edge = round(len(alphabet) ** .5)\n",
    "    square = make_polybius(alphabet, edge)\n",
    "    ciphertext = list()\n",
    "    for ch in prepare(plaintext):\n",
    "        i = row(ch, alphabet, edge)\n",
    "        j = square[i].index(ch)\n",
    "        ciphertext.append(f'{i+1}{j+1}')\n",
    "    return ' '.join(ciphertext)"
   ]
  },
  {
   "cell_type": "code",
   "execution_count": 161,
   "metadata": {
    "scrolled": false
   },
   "outputs": [
    {
     "data": {
      "text/plain": [
       "'32 16 13 36 62 25 23 24 22 34 41 25 41 33 46 23 41 11 16 41 22 34 41 13 46 41 16 32 23 23 36 23 26 42 22 32 11 16 41 41 46 25'"
      ]
     },
     "execution_count": 161,
     "metadata": {},
     "output_type": "execute_result"
    }
   ],
   "source": [
    "polybius('НЕ ВСЯКИЙ, КТО ЧИТАЕТ, В ЧТЕНИИ СИЛУ ЗНАЕТ.', ru)"
   ]
  },
  {
   "cell_type": "code",
   "execution_count": 159,
   "metadata": {},
   "outputs": [],
   "source": [
    "def decrypt_polybius(ciphertext, alphabet):\n",
    "    edge = round(len(alphabet) ** .5)\n",
    "    square = make_polybius(alphabet, edge)\n",
    "    plaintext = list()\n",
    "    for ch in ciphertext.split():\n",
    "        plaintext.append(square[int(ch[0]) - 1][int(ch[1]) - 1])\n",
    "    return comp(''.join(plaintext))"
   ]
  },
  {
   "cell_type": "code",
   "execution_count": 162,
   "metadata": {},
   "outputs": [
    {
     "data": {
      "text/plain": [
       "'НЕВСЯКИЙ,КТОЧИТАЕТ,ВЧТЕНИИСИЛУЗНАЕТ.'"
      ]
     },
     "execution_count": 162,
     "metadata": {},
     "output_type": "execute_result"
    }
   ],
   "source": [
    "decrypt_polybius(polybius('НЕ ВСЯКИЙ, КТО ЧИТАЕТ, В ЧТЕНИИ СИЛУ ЗНАЕТ.', ru), ru)"
   ]
  },
  {
   "cell_type": "code",
   "execution_count": 163,
   "metadata": {},
   "outputs": [
    {
     "data": {
      "text/plain": [
       "'32 16 26 23 32 16 24 32 11 62 23 36 41 11 41 23 36...'"
      ]
     },
     "execution_count": 163,
     "metadata": {},
     "output_type": "execute_result"
    }
   ],
   "source": [
    "f'{polybius(text,al)[:50]}...'"
   ]
  },
  {
   "cell_type": "code",
   "execution_count": 164,
   "metadata": {},
   "outputs": [
    {
     "data": {
      "text/plain": [
       "'НЕЛИНЕЙНАЯИСТАТИСТИЧЕСКАЯПРИЧИННОСТЬСНОВАПРИВНОСЯТ...'"
      ]
     },
     "execution_count": 164,
     "metadata": {},
     "output_type": "execute_result"
    }
   ],
   "source": [
    "f'{decrypt_polybius(polybius(text,al),al)[:50]}...'"
   ]
  },
  {
   "cell_type": "code",
   "execution_count": 4,
   "metadata": {},
   "outputs": [
    {
     "data": {
      "text/plain": [
       "sys.version_info(major=3, minor=7, micro=3, releaselevel='final', serial=0)"
      ]
     },
     "execution_count": 4,
     "metadata": {},
     "output_type": "execute_result"
    }
   ],
   "source": [
    "import sys\n",
    "sys.version_info"
   ]
  },
  {
   "cell_type": "code",
   "execution_count": null,
   "metadata": {},
   "outputs": [],
   "source": []
  }
 ],
 "metadata": {
  "kernelspec": {
   "display_name": "Python 3",
   "language": "python",
   "name": "python3"
  },
  "language_info": {
   "codemirror_mode": {
    "name": "ipython",
    "version": 3
   },
   "file_extension": ".py",
   "mimetype": "text/x-python",
   "name": "python",
   "nbconvert_exporter": "python",
   "pygments_lexer": "ipython3",
   "version": "3.7.3"
  }
 },
 "nbformat": 4,
 "nbformat_minor": 2
}
