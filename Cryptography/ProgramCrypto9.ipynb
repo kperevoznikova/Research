{
 "cells": [
  {
   "cell_type": "markdown",
   "metadata": {},
   "source": [
    "## Генерация цифровой подписи RSA"
   ]
  },
  {
   "cell_type": "code",
   "execution_count": 43,
   "metadata": {},
   "outputs": [],
   "source": [
    "alhash = [chr(i) for i in range(ord('А'), ord('Я') + 1)] \n",
    "alhash.append('Й')"
   ]
  },
  {
   "cell_type": "code",
   "execution_count": 40,
   "metadata": {},
   "outputs": [],
   "source": [
    "def hash_square(i, msg, al=alhash, p=11): # i == len(msg)\n",
    "    if i == 0:\n",
    "        return 0\n",
    "    symbol = alhash.index(msg[i - 1]) + 1\n",
    "    #print(*[symbol,msg[i - 1]])\n",
    "    return (( hash_square(i - 1, msg, al, p) + symbol ) ** 2 ) % p"
   ]
  },
  {
   "cell_type": "code",
   "execution_count": 41,
   "metadata": {},
   "outputs": [
    {
     "data": {
      "text/plain": [
       "5"
      ]
     },
     "execution_count": 41,
     "metadata": {},
     "output_type": "execute_result"
    }
   ],
   "source": [
    "msg = 'МАША'\n",
    "hash_square(len(msg), msg)"
   ]
  },
  {
   "cell_type": "code",
   "execution_count": 6,
   "metadata": {},
   "outputs": [],
   "source": [
    "from random import randint\n",
    "\n",
    "def prime_gen():\n",
    "    primes = [ 2, 3, 5, 7, 11, 13, \n",
    "        17, 19, 23, 29, 31, 37, \n",
    "        41, 43, 47, 53, 59, 61, \n",
    "        67, 71, 73, 79, 83, 89, \n",
    "        97, 101]\n",
    "    a = randint(1, len(primes)-1)\n",
    "    return primes[a]\n",
    "\n",
    "def linear_congruence(a, b, m):\n",
    "    # aX ≡ b (mod m)\n",
    "    #assert gcd(a,m) == gcd(b,m)\n",
    "    if b == 0:\n",
    "        return 0\n",
    "    if a < 0:\n",
    "        a = -a\n",
    "        b = -b\n",
    "    b %= m\n",
    "    while a > m:\n",
    "        a -= m\n",
    "\n",
    "    return (m * linear_congruence(m, -b, a) + b) // a"
   ]
  },
  {
   "cell_type": "code",
   "execution_count": 18,
   "metadata": {},
   "outputs": [],
   "source": [
    "from math import gcd\n",
    "\n",
    "def sign_RSA(doc, hash_func=hash_square):\n",
    "    p = prime_gen()\n",
    "    q = prime_gen()\n",
    "    while p == q:\n",
    "        q = prime_gen()\n",
    "    n = p * q \n",
    "    phi = (p - 1) * (q - 1)\n",
    "    \n",
    "    e = randint(1, p)\n",
    "    while gcd(phi, e) != 1:\n",
    "        e = randint(1, p)\n",
    "    d = linear_congruence(e, 1, phi)\n",
    "    print(f'p:{p} q:{q} n:{n} phi:{phi} e:{e} d:{d}')\n",
    "    print(hash_square(len(doc), doc))\n",
    "    return ((hash_square(len(doc), doc)) ** d) % n, (e, n)\n",
    "\n",
    "def sign_RSA_check(hashmsg, doc, hash_func=hash_square):\n",
    "    hash_n, open_key = hashmsg\n",
    "    dec = (hash_n ** open_key[0]) % open_key[1]\n",
    "    return bool(dec == hash_square(len(doc), doc))"
   ]
  },
  {
   "cell_type": "code",
   "execution_count": 46,
   "metadata": {
    "scrolled": true
   },
   "outputs": [
    {
     "name": "stdout",
     "output_type": "stream",
     "text": [
      "p:29 q:71 n:2059 phi:1960 e:3 d:1307\n",
      "9\n"
     ]
    },
    {
     "data": {
      "text/plain": [
       "((817, (3, 2059)), True)"
      ]
     },
     "execution_count": 46,
     "metadata": {},
     "output_type": "execute_result"
    }
   ],
   "source": [
    "text = 'НЕВСЯКИЙЗПТКТОЧИТАЕТЗПТВЧТЕНИИСИЛУЗНАЕТТЧК'\n",
    "\n",
    "test = sign_RSA(text)\n",
    "test, sign_RSA_check(test, text)"
   ]
  },
  {
   "cell_type": "code",
   "execution_count": 48,
   "metadata": {},
   "outputs": [],
   "source": [
    "import requests\n",
    "from bs4 import BeautifulSoup as bs\n",
    "\n",
    "def clear_paragraphs(ps:list, start=14, stop=16):\n",
    "    return ''.join([i.text for i in ps[start:stop]]).replace('\\xad', '').replace('\\xa0', '')\n",
    "\n",
    "def test_text(url='https://spacemorgue.com/matter-matters/'):\n",
    "    '''\n",
    "    Возвращает тестовый текст длиной 2408 символов\n",
    "    '''\n",
    "    soup = bs(requests.get(url).text, 'html.parser')\n",
    "    return clear_paragraphs(soup.select_one('article').find_all('p'))\n",
    "\n",
    "def prepare(text, specials={',':'ЗПТ','.':'ТЧК', ' ':'', '—':'ТИРЕ', '«':'КВЧ', '»':'КВЧ'}):\n",
    "    '''\n",
    "    Возвращает текст, удаляя пробельные символы в тексте и заменяя пунктуацию телеграфными обозначениями\n",
    "    '''\n",
    "    for i in specials.keys():\n",
    "        text = text.replace(i, specials[i])\n",
    "    return text"
   ]
  },
  {
   "cell_type": "code",
   "execution_count": 49,
   "metadata": {},
   "outputs": [],
   "source": [
    "text = prepare(test_text().upper().replace('-', '—').replace('X', '').replace('I', ''))"
   ]
  },
  {
   "cell_type": "code",
   "execution_count": 50,
   "metadata": {},
   "outputs": [
    {
     "name": "stdout",
     "output_type": "stream",
     "text": [
      "p:7 q:79 n:553 phi:468 e:5 d:281\n",
      "9\n"
     ]
    },
    {
     "data": {
      "text/plain": [
       "((95, (5, 553)), True)"
      ]
     },
     "execution_count": 50,
     "metadata": {},
     "output_type": "execute_result"
    }
   ],
   "source": [
    "test = sign_RSA(text)\n",
    "test, sign_RSA_check(test, text)"
   ]
  },
  {
   "cell_type": "markdown",
   "metadata": {},
   "source": [
    "## Генерация цифровой подписи Эль-Гамаля (ЕGSА)"
   ]
  },
  {
   "cell_type": "code",
   "execution_count": 51,
   "metadata": {},
   "outputs": [],
   "source": [
    "def gen_k(p):\n",
    "    k = 2\n",
    "    while gcd(k, p - 2) != 1:\n",
    "        k = randint(1, p-2)\n",
    "    return k\n",
    "\n",
    "def sign_EGSA(doc, hash_func=hash_square):\n",
    "    p = prime_gen()\n",
    "    g = randint(1, p-1)\n",
    "    x = randint(1, p-1)\n",
    "    y = (g ** x) % p\n",
    "    k = gen_k(p)\n",
    "    a = (g ** k) % p \n",
    "    b = linear_congruence(k,(hash_square(len(doc), doc) - x * a),p-1)\n",
    "    return (a, b), (p, g, y)\n",
    "\n",
    "def sign_EGSA_check(hashmsg, doc, hash_func=hash_square):\n",
    "    open_key, hash_n = hashmsg\n",
    "    a, b = open_key\n",
    "    p, g, y = hash_n\n",
    "    a_1 = ((y ** a) * (a ** b)) % p\n",
    "    a_2 = (g ** hash_square(len(doc), doc)) % p\n",
    "    return bool(a_1 == a_2)"
   ]
  },
  {
   "cell_type": "code",
   "execution_count": 62,
   "metadata": {},
   "outputs": [
    {
     "data": {
      "text/plain": [
       "(((3, 2), (23, 16, 8)), True)"
      ]
     },
     "execution_count": 62,
     "metadata": {},
     "output_type": "execute_result"
    }
   ],
   "source": [
    "text = 'НЕВСЯКИЙЗПТКТОЧИТАЕТЗПТВЧТЕНИИСИЛУЗНАЕТТЧК'\n",
    "\n",
    "test = sign_EGSA(text)\n",
    "test, sign_EGSA_check(test, text)"
   ]
  },
  {
   "cell_type": "code",
   "execution_count": 56,
   "metadata": {},
   "outputs": [
    {
     "data": {
      "text/plain": [
       "(((55, 19), (89, 12, 12)), True)"
      ]
     },
     "execution_count": 56,
     "metadata": {},
     "output_type": "execute_result"
    }
   ],
   "source": [
    "text = 'ТЕСТ'\n",
    "\n",
    "test = sign_EGSA('ТЕСТ')\n",
    "test, sign_EGSA_check(test, text)"
   ]
  },
  {
   "cell_type": "code",
   "execution_count": 63,
   "metadata": {},
   "outputs": [
    {
     "data": {
      "text/plain": [
       "(((3, 2), (23, 16, 8)), True)"
      ]
     },
     "execution_count": 63,
     "metadata": {},
     "output_type": "execute_result"
    }
   ],
   "source": [
    "text = prepare(test_text().upper().replace('-', '—').replace('X', '').replace('I', ''))\n",
    "test, sign_EGSA_check(test, text)"
   ]
  },
  {
   "cell_type": "code",
   "execution_count": null,
   "metadata": {},
   "outputs": [],
   "source": []
  }
 ],
 "metadata": {
  "kernelspec": {
   "display_name": "Python 3",
   "language": "python",
   "name": "python3"
  },
  "language_info": {
   "codemirror_mode": {
    "name": "ipython",
    "version": 3
   },
   "file_extension": ".py",
   "mimetype": "text/x-python",
   "name": "python",
   "nbconvert_exporter": "python",
   "pygments_lexer": "ipython3",
   "version": "3.7.3"
  }
 },
 "nbformat": 4,
 "nbformat_minor": 2
}
