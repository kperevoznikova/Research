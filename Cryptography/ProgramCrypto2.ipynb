{
 "cells": [
  {
   "cell_type": "code",
   "execution_count": 142,
   "metadata": {
    "scrolled": true
   },
   "outputs": [
    {
     "name": "stdout",
     "output_type": "stream",
     "text": [
      "['А', 'Б', 'В', 'Г', 'Д', 'Е', 'Ж', 'З', 'И', 'Й', 'К', 'Л', 'М', 'Н', 'О', 'П', 'Р', 'С', 'Т', 'У', 'Ф', 'Х', 'Ц', 'Ч', 'Ш', 'Щ', 'Ъ', 'Ы', 'Ь', 'Э', 'Ю', 'Я']\n"
     ]
    }
   ],
   "source": [
    "al = [chr(i) for i in range(ord('А'), ord('Я') + 1) if i is not ord('Ё')]\n",
    "print(al)"
   ]
  },
  {
   "cell_type": "code",
   "execution_count": 2,
   "metadata": {},
   "outputs": [
    {
     "data": {
      "text/plain": [
       "1040"
      ]
     },
     "execution_count": 2,
     "metadata": {},
     "output_type": "execute_result"
    }
   ],
   "source": [
    "ord('А') # порядковый номер первого символа русского алфавита в UTF-8"
   ]
  },
  {
   "cell_type": "markdown",
   "metadata": {},
   "source": [
    "Добавим в ноутбук вспомогательные функции из предыдущей работы:"
   ]
  },
  {
   "cell_type": "code",
   "execution_count": 3,
   "metadata": {},
   "outputs": [],
   "source": [
    "import requests\n",
    "from bs4 import BeautifulSoup as bs\n",
    "\n",
    "def clear_paragraphs(ps:list, start=14, stop=16):\n",
    "    return ''.join([i.text for i in ps[start:stop]]).replace('\\xad', '').replace('\\xa0', '')\n",
    "\n",
    "def test_text(url='https://spacemorgue.com/matter-matters/'):\n",
    "    '''\n",
    "    Возвращает тестовый текст длиной 2408 символов\n",
    "    '''\n",
    "    soup = bs(requests.get(url).text, 'html.parser')\n",
    "    return clear_paragraphs(soup.select_one('article').find_all('p'))\n",
    "\n",
    "def prepare(text, specials={',':'ЗПТ','.':'ТЧК', ' ':'', '—':'ТИРЕ', '«':'КВЧ', '»':'КВЧ'}):\n",
    "    '''\n",
    "    Возвращает текст, удаляя пробельные символы в тексте и заменяя пунктуацию телеграфными обозначениями\n",
    "    '''\n",
    "    for i in specials.keys():\n",
    "        text = text.replace(i, specials[i])\n",
    "    return text\n",
    "\n",
    "def comp(text, specials={'ЗПТ':',','ТЧК':'.','ТИРЕ':'—','КВЧ':'\"'}):\n",
    "    '''\n",
    "    Возвращает текст, заменяя телеграфные обозначения пунктуацией\n",
    "    '''\n",
    "    for i in specials.keys():\n",
    "        text = text.replace(i, specials[i])\n",
    "    return text"
   ]
  },
  {
   "cell_type": "markdown",
   "metadata": {},
   "source": [
    "### Шифр Тритемия \n",
    "\n",
    "$Y_j= X_{i+j-1}\\mod n$, где:\n",
    "\n",
    "- $X$ – исходный (открытый) текст\n",
    "- $Y$ – зашифрованный текст $i$–порядковый номер буквы в алфавите таблицы, i=1...n\n",
    "- $j$ – порядковый номер буквы в тексте, j=1...k\n",
    "- $k$ – количество букв в тексте\n",
    "- $n$ – количество букв в выбранном алфавите(мощность алфавита)."
   ]
  },
  {
   "cell_type": "code",
   "execution_count": 4,
   "metadata": {},
   "outputs": [],
   "source": [
    "def trit(plaintext, alphabet):\n",
    "    ciphertext = list() \n",
    "    for i, ch in enumerate(prepare(plaintext)):\n",
    "        index = (alphabet.index(ch) + i) % len(alphabet)\n",
    "        ciphertext.append(alphabet[index])\n",
    "    return ''.join(ciphertext)"
   ]
  },
  {
   "cell_type": "code",
   "execution_count": 5,
   "metadata": {},
   "outputs": [],
   "source": [
    "def trit_decrypt(ciphertext, alphabet):\n",
    "    plaintext = list()\n",
    "    for i, ch in enumerate(ciphertext):\n",
    "        index = (alphabet.index(ch) - i) % len(alphabet)\n",
    "        plaintext.append(alphabet[index])\n",
    "    return comp(''.join(plaintext))"
   ]
  },
  {
   "cell_type": "code",
   "execution_count": 6,
   "metadata": {},
   "outputs": [
    {
     "data": {
      "text/plain": [
       "'НЖДФГПОРПШЬХЮЫЕЧВСЧЕЫДИЩПЛЯИДЕПЗЛФЙРДКШЩЯУ'"
      ]
     },
     "execution_count": 6,
     "metadata": {},
     "output_type": "execute_result"
    }
   ],
   "source": [
    "text = prepare('НЕ ВСЯКИЙ, КТО ЧИТАЕТ, В ЧТЕНИИ СИЛУ ЗНАЕТ.')\n",
    "trit(text, al)"
   ]
  },
  {
   "cell_type": "code",
   "execution_count": 7,
   "metadata": {},
   "outputs": [
    {
     "data": {
      "text/plain": [
       "'НЕВСЯКИЙ,КТОЧИТАЕТ,ВЧТЕНИИСИЛУЗНАЕТ.'"
      ]
     },
     "execution_count": 7,
     "metadata": {},
     "output_type": "execute_result"
    }
   ],
   "source": [
    "trit_decrypt('НЖДФГПОРПШЬХЮЫЕЧВСЧЕЫДИЩПЛЯИДЕПЗЛФЙРДКШЩЯУ', al)"
   ]
  },
  {
   "cell_type": "code",
   "execution_count": 8,
   "metadata": {},
   "outputs": [
    {
     "data": {
      "text/plain": [
       "'НЖНЛСКПФИЖТЬЮНXЧIБЪИЩДXЧХЖИБСГЙКМРТЭУРТЗЖЦШСМШЪЮЛI...'"
      ]
     },
     "execution_count": 8,
     "metadata": {},
     "output_type": "execute_result"
    }
   ],
   "source": [
    "text = test_text().upper().replace('-', '—')\n",
    "al.extend(['X', 'I'])\n",
    "f'{trit(text,al)[:50]}...'"
   ]
  },
  {
   "cell_type": "code",
   "execution_count": 9,
   "metadata": {},
   "outputs": [
    {
     "data": {
      "text/plain": [
       "'НЕЛИНЕЙНАЯИСТАТИСТИЧЕСКАЯПРИЧИННОСТЬСНОВАПРИВНОСЯТ...'"
      ]
     },
     "execution_count": 9,
     "metadata": {},
     "output_type": "execute_result"
    }
   ],
   "source": [
    "f'{trit_decrypt(trit(text,al),al)[:50]}...'"
   ]
  },
  {
   "cell_type": "markdown",
   "metadata": {},
   "source": [
    "Получим таблицу Тритемия в виде словаря:"
   ]
  },
  {
   "cell_type": "code",
   "execution_count": 10,
   "metadata": {},
   "outputs": [
    {
     "name": "stdout",
     "output_type": "stream",
     "text": [
      "Ю\n"
     ]
    }
   ],
   "source": [
    "def num(ch, start=1040):\n",
    "    return ord(ch) - start\n",
    "\n",
    "def shift(ch, n, start=1040, l=32):\n",
    "    return chr((num(ch) + n) % l + start)\n",
    "\n",
    "def make_table(al):\n",
    "    table = dict()\n",
    "    for i in al:\n",
    "        table[i] = dict()\n",
    "        for j in al:\n",
    "            table[i][j] = shift(i, num(j))\n",
    "    return table\n",
    "        \n",
    "        \n",
    "print(make_table(al)['Я']['Я'])"
   ]
  },
  {
   "cell_type": "code",
   "execution_count": 11,
   "metadata": {},
   "outputs": [],
   "source": [
    "def trithemius(plaintext, al):\n",
    "    table = make_table(al)\n",
    "    ciphertext = list()\n",
    "    for i, ch in enumerate(prepare(plaintext)): # enumerate возвращает i-номер символа в тексте и ch - сам символ\n",
    "        row = al[i % len(al)] # ключом в словаре является символ, так что номер в тексте требуется преобразовать \n",
    "        ciphertext.append(table[ch][row])\n",
    "    return ''.join(ciphertext)"
   ]
  },
  {
   "cell_type": "code",
   "execution_count": 12,
   "metadata": {},
   "outputs": [
    {
     "data": {
      "text/plain": [
       "'НЖДФГПОРПШЬХЮЫЕЧВСЧЕЫДИЩПЛЯИДЕПЗУМЗОВИЦЧЭС'"
      ]
     },
     "execution_count": 12,
     "metadata": {},
     "output_type": "execute_result"
    }
   ],
   "source": [
    "text = prepare('НЕ ВСЯКИЙ, КТО ЧИТАЕТ, В ЧТЕНИИ СИЛУ ЗНАЕТ.')\n",
    "trithemius(text, al)"
   ]
  },
  {
   "cell_type": "code",
   "execution_count": 13,
   "metadata": {},
   "outputs": [],
   "source": [
    "def trithemius_decrypt(ciphertext, al):\n",
    "    table = make_table(al)\n",
    "    plaintext = list()\n",
    "    for i, ch in enumerate(ciphertext):\n",
    "        row = al[(len(al) - i) % len(al)]\n",
    "        plaintext.append(table[ch][row])\n",
    "    return comp(''.join(plaintext))"
   ]
  },
  {
   "cell_type": "code",
   "execution_count": 14,
   "metadata": {
    "scrolled": false
   },
   "outputs": [
    {
     "data": {
      "text/plain": [
       "'НЯМУБМКЛЙСФМФРЩКФВЗФЙСФДЩФЗПККУКНХЙЙМЙЦЦЫО'"
      ]
     },
     "execution_count": 14,
     "metadata": {},
     "output_type": "execute_result"
    }
   ],
   "source": [
    "trithemius_decrypt('НЖДФГПОРПШЬХЮЫЕЧВСЧЕЫДИЩПЛЯИДЕПЗЛФЙРДКШЩЯУ', al)"
   ]
  },
  {
   "cell_type": "markdown",
   "metadata": {},
   "source": [
    "### Шифр Белазо"
   ]
  },
  {
   "cell_type": "code",
   "execution_count": 15,
   "metadata": {},
   "outputs": [],
   "source": [
    "def bellasо(plaintext, al, key):\n",
    "    repeats = len(plaintext) // len(key)\n",
    "    end = len(plaintext) % len(key)\n",
    "    ciphertext = list()\n",
    "    table = make_table(al)\n",
    "    keystring = key * repeats + key[:end]\n",
    "    \n",
    "    for i, k in zip(plaintext, keystring):\n",
    "        ciphertext.append(table[k][i])\n",
    "    return ''.join(ciphertext)"
   ]
  },
  {
   "cell_type": "code",
   "execution_count": 16,
   "metadata": {},
   "outputs": [],
   "source": [
    "def bel(plaintext, al, key):\n",
    "    repeats = len(plaintext) // len(key)\n",
    "    end = len(plaintext) % len(key)\n",
    "    keystring = key * repeats + key[:end]\n",
    "    ciphertext = list()\n",
    "    for ch, k in zip(prepare(plaintext), keystring):\n",
    "        index = (al.index(ch) + al.index(k)) % len(al)\n",
    "        ciphertext.append(al[index])\n",
    "    return ''.join(ciphertext)"
   ]
  },
  {
   "cell_type": "code",
   "execution_count": 17,
   "metadata": {},
   "outputs": [],
   "source": [
    "def bel_dec(ciphertext,al,key):\n",
    "    repeats = len(ciphertext) // len(key)\n",
    "    end = len(ciphertext) % len(key)\n",
    "    keystring = key * repeats + key[:end]\n",
    "    plaintext = list()\n",
    "    for ch, k in zip(prepare(ciphertext), keystring):\n",
    "        index = (al.index(ch) - al.index(k)) % len(al)\n",
    "        plaintext.append(al[index])\n",
    "    return comp(''.join(plaintext))"
   ]
  },
  {
   "cell_type": "code",
   "execution_count": 18,
   "metadata": {},
   "outputs": [
    {
     "data": {
      "text/plain": [
       "'XУТДЛХУЬХЯЕШЭЩИЦАХУЭТАXТКXРШЫЦIЭЩЮТXОХЕXАХ'"
      ]
     },
     "execution_count": 18,
     "metadata": {},
     "output_type": "execute_result"
    }
   ],
   "source": [
    "text = prepare('НЕ ВСЯКИЙ, КТО ЧИТАЕТ, В ЧТЕНИИ СИЛУ ЗНАЕТ.')\n",
    "bel(text, al, 'УОРХОЛЛ')"
   ]
  },
  {
   "cell_type": "code",
   "execution_count": 19,
   "metadata": {},
   "outputs": [
    {
     "data": {
      "text/plain": [
       "'НЕВСЯКИЙ,КТОЧИТАЕТ,ВЧТЕНИИСИЛУЗНАЕТ.'"
      ]
     },
     "execution_count": 19,
     "metadata": {},
     "output_type": "execute_result"
    }
   ],
   "source": [
    "bel_dec(bel(text, al, 'УОРХОЛЛ'),al,'УОРХОЛЛ')"
   ]
  },
  {
   "cell_type": "code",
   "execution_count": 21,
   "metadata": {},
   "outputs": [
    {
     "data": {
      "text/plain": [
       "'XУТДЛХУЬХЯЕШЭЩИЦАХУЭТАXТКXРШЫЦIЭЩЮТXОХЕXАХ...'"
      ]
     },
     "execution_count": 21,
     "metadata": {},
     "output_type": "execute_result"
    }
   ],
   "source": [
    "f'{bel(text,al,\"УОРХОЛЛ\")[:50]}...'"
   ]
  },
  {
   "cell_type": "code",
   "execution_count": 22,
   "metadata": {},
   "outputs": [
    {
     "data": {
      "text/plain": [
       "'НЕВСЯКИЙ,КТОЧИТАЕТ,ВЧТЕНИИСИЛУЗНАЕТ.'"
      ]
     },
     "execution_count": 22,
     "metadata": {},
     "output_type": "execute_result"
    }
   ],
   "source": [
    "f'{bel_dec(bel(text,al,\"УОРХОЛЛ\"), al,\"УОРХОЛЛ\")[:50]}'"
   ]
  },
  {
   "cell_type": "code",
   "execution_count": 23,
   "metadata": {},
   "outputs": [
    {
     "data": {
      "text/plain": [
       "'АУТЖНХУЬХЯЗШЭЩКЦВХУЭТВАТМАРШЫЦБЭЩЮТАОХЗАВХ'"
      ]
     },
     "execution_count": 23,
     "metadata": {},
     "output_type": "execute_result"
    }
   ],
   "source": [
    "text = prepare('НЕ ВСЯКИЙ, КТО ЧИТАЕТ, В ЧТЕНИИ СИЛУ ЗНАЕТ.')\n",
    "bellasо(text, al, 'УОРХОЛЛ')"
   ]
  },
  {
   "cell_type": "code",
   "execution_count": 24,
   "metadata": {},
   "outputs": [],
   "source": [
    "def bellaso_decrypt(ciphertext, al, key):\n",
    "    repeats = len(ciphertext) // len(key)\n",
    "    end = len(ciphertext) % len(key)\n",
    "    plaintext = list()\n",
    "    table = make_table(al)\n",
    "    keystring = key * repeats + key[:end]\n",
    "    \n",
    "    for i, k in zip(ciphertext, keystring):\n",
    "        for j in range(len(table[i])):\n",
    "            ch = table[k][al[j]]\n",
    "            if table[k][ch] == i:\n",
    "                plaintext.append(ch)\n",
    "                break\n",
    "    return comp(''.join(plaintext))"
   ]
  },
  {
   "cell_type": "code",
   "execution_count": 25,
   "metadata": {},
   "outputs": [
    {
     "data": {
      "text/plain": [
       "'НЕВСЯКИЙ,КТОЧИТАЕТ,ВЧТЕНИИСИЛУЗНАЕТ.'"
      ]
     },
     "execution_count": 25,
     "metadata": {},
     "output_type": "execute_result"
    }
   ],
   "source": [
    "bellaso_decrypt('АУТЖНХУЬХЯЗШЭЩКЦВХУЭТВАТМАРШЫЦБЭЩЮТАОХЗАВХ', al, 'УОРХОЛЛ')"
   ]
  },
  {
   "cell_type": "markdown",
   "metadata": {},
   "source": [
    "### Шифр Виженера с самоключом"
   ]
  },
  {
   "cell_type": "markdown",
   "metadata": {},
   "source": [
    "Имплементация без специальной структуры данных:"
   ]
  },
  {
   "cell_type": "code",
   "execution_count": 92,
   "metadata": {},
   "outputs": [],
   "source": [
    "def vigenere(text, key, al):\n",
    "    ciphertext = list()\n",
    "    # zip возвращает кортеж из массивов 1) сивмолов открытого текста \n",
    "    # 2) символов открытого текста, начинающегося с ключа\n",
    "    for i,j in zip(list(text), [i for i in (key + text)[:-len(key)]]):\n",
    "        index = (al.index(i) + al.index(j)) % len(al)\n",
    "        ciphertext.append(al[index])\n",
    "    return ''.join(ciphertext)"
   ]
  },
  {
   "cell_type": "code",
   "execution_count": 93,
   "metadata": {},
   "outputs": [
    {
     "data": {
      "text/plain": [
       "'КТЗУРЙТСРЦБЬЬАЕЯЪТЕЧЩЦБФЩЙЧТХРЩЩУЮЪФНЕЧДЙБ'"
      ]
     },
     "execution_count": 93,
     "metadata": {},
     "output_type": "execute_result"
    }
   ],
   "source": [
    "text = prepare('НЕ ВСЯКИЙ, КТО ЧИТАЕТ, В ЧТЕНИИ СИЛУ ЗНАЕТ.')\n",
    "vigenere(text, 'Э', al)"
   ]
  },
  {
   "cell_type": "code",
   "execution_count": 97,
   "metadata": {},
   "outputs": [],
   "source": [
    "def vigenere_decrypt(ciphertext, key, al):\n",
    "    plaintext = list()\n",
    "    keystring = [key]\n",
    "    for i, ch in enumerate(ciphertext):\n",
    "        index = (al.index(ch) - al.index(keystring[i])) % len(al)\n",
    "        plaintext.append(al[index])\n",
    "        keystring.append(al[index])\n",
    "    return comp(''.join(plaintext))"
   ]
  },
  {
   "cell_type": "code",
   "execution_count": 98,
   "metadata": {
    "scrolled": true
   },
   "outputs": [
    {
     "data": {
      "text/plain": [
       "'НЕВСЯКИЙ,КТОЧИТАЕТ,ВЧТЕНИИСИЛУЗНАЕТ.'"
      ]
     },
     "execution_count": 98,
     "metadata": {},
     "output_type": "execute_result"
    }
   ],
   "source": [
    "vigenere_decrypt('КТЗУРЙТСРЦБЬЬАЕЯЪТЕЧЩЦБФЩЙЧТХРЩЩУЮЪФНЕЧДЙБ', 'Э', al)"
   ]
  },
  {
   "cell_type": "code",
   "execution_count": 144,
   "metadata": {
    "scrolled": true
   },
   "outputs": [],
   "source": [
    "text = prepare(test_text().upper().replace('-', '—'))\n",
    "ext = al.copy()\n",
    "ext.extend(['X', 'I'])"
   ]
  },
  {
   "cell_type": "code",
   "execution_count": 148,
   "metadata": {},
   "outputs": [
    {
     "data": {
      "text/plain": [
       "'ИТРУХТОЦНЯЕЩБТТЪЩБЪЯЬЦЫКЯМЯШЯЯХЪЫЯБМЛЮЫРВПЯШКПЫЯОПФЦЬУЩЯЯАГЫЭПЖШЫБЫФГЮДЖКУЪЗЛЕЗЫЧЪУIДПЩЬЩФУЫЯБМБЦIЬШXXЮРЯXЬДЛПЭXЧХНКНСXЭЛIНРТХНСЫЭЫКПЪЕМЭЯБXЛКЪЫЧУШЫЕЦ...'"
      ]
     },
     "execution_count": 148,
     "metadata": {},
     "output_type": "execute_result"
    }
   ],
   "source": [
    "f'{vigenere(text,\"Э\", ext)[:150]}...'"
   ]
  },
  {
   "cell_type": "code",
   "execution_count": 151,
   "metadata": {
    "scrolled": true
   },
   "outputs": [
    {
     "data": {
      "text/plain": [
       "'НЕЛИНЕЙНАЯИСТАТИСТИЧЕСКАЯПРИЧИННОСТЬСНОВАПРИВНОСЯТВФИЛОСОФСКУЮКОНЦЕПЦИЮКАУЗАЛЬНОЙСВЯЗИСЛОЖНОСТЬ,КОТОРАЯБЫЛАПОТЕРЯНАСПОЯВЛЕНИЕМПОНЯТИЯПОСТОЯННОЙКОНЪЮНК...'"
      ]
     },
     "execution_count": 151,
     "metadata": {},
     "output_type": "execute_result"
    }
   ],
   "source": [
    "f'{vigenere_decrypt(vigenere(text,\"Э\", ext), \"Э\", ext)[:150]}...'"
   ]
  },
  {
   "cell_type": "markdown",
   "metadata": {},
   "source": [
    "Имплементация со словарем-таблицей:"
   ]
  },
  {
   "cell_type": "code",
   "execution_count": 30,
   "metadata": {},
   "outputs": [],
   "source": [
    "def vigenere(text, key, table):\n",
    "    ciphertext = list()\n",
    "    # zip возвращает кортеж из массивов 1) сивмолов открытого текста \n",
    "    # 2) символов открытого текста, начинающегося с ключа\n",
    "    for i,j in zip(list(text), [i for i in (key + text)[:-len(key)]]):\n",
    "        ciphertext.append(table[i][j])\n",
    "    return ''.join(ciphertext)"
   ]
  },
  {
   "cell_type": "code",
   "execution_count": 31,
   "metadata": {},
   "outputs": [],
   "source": [
    "def vigenere_decrypt(ciphertext, key, table):\n",
    "    plaintext = list()\n",
    "    keystring = [key]\n",
    "    for i in ciphertext:\n",
    "        for j in range(len(table[i])):\n",
    "            ch = table[keystring[-1]][al[j]]\n",
    "            if table[keystring[-1]][ch] == i:\n",
    "                plaintext.append(ch)\n",
    "                keystring.append(ch)\n",
    "                break\n",
    "    return comp(''.join(plaintext))"
   ]
  },
  {
   "cell_type": "code",
   "execution_count": 32,
   "metadata": {
    "scrolled": false
   },
   "outputs": [
    {
     "data": {
      "text/plain": [
       "('НЕВСЯКИЙЗПТКТОЧИТАЕТЗПТВЧТЕНИИСИЛУЗНАЕТТЧК',\n",
       " '->',\n",
       " 'КТЗУРЙТСРЦБЬЬАЕЯЪТЕЧЩЦБФЩЙЧТХРЩЩУЮЪФНЕЧДЙБ')"
      ]
     },
     "execution_count": 32,
     "metadata": {},
     "output_type": "execute_result"
    }
   ],
   "source": [
    "table = make_table(al)\n",
    "text = prepare('НЕ ВСЯКИЙ, КТО ЧИТАЕТ, В ЧТЕНИИ СИЛУ ЗНАЕТ.')\n",
    "text, '->', vigenere(text, 'Э', table)"
   ]
  },
  {
   "cell_type": "code",
   "execution_count": 33,
   "metadata": {},
   "outputs": [
    {
     "data": {
      "text/plain": [
       "'Р'"
      ]
     },
     "execution_count": 33,
     "metadata": {},
     "output_type": "execute_result"
    }
   ],
   "source": [
    "table['К']['Ж']"
   ]
  },
  {
   "cell_type": "markdown",
   "metadata": {},
   "source": [
    "Расшифровка чужой карточки:"
   ]
  },
  {
   "cell_type": "code",
   "execution_count": 34,
   "metadata": {},
   "outputs": [
    {
     "name": "stdout",
     "output_type": "stream",
     "text": [
      "НЕЛЬЗЯИЗЯИЧНИЦЫСНОВАСДЕЛАТЬЯЙЦО.\n"
     ]
    }
   ],
   "source": [
    "ciphertext = 'ОУЮЪБАИПОЦНЪВШУДСЯББТЦЫЖЖШФУЬТАТЙУ'\n",
    "plaintext = list()\n",
    "keystring = ['Б'] + list(ciphertext)\n",
    "for i in ciphertext:\n",
    "    key_ch = keystring.pop(0)\n",
    "    for j in range(len(table[i])):\n",
    "        ch = table[key_ch][al[j]]\n",
    "        if table[key_ch][ch] == i:\n",
    "            plaintext.append(ch)\n",
    "            break\n",
    "\n",
    "print(comp(''.join(plaintext)))"
   ]
  },
  {
   "cell_type": "markdown",
   "metadata": {},
   "source": [
    "### Шифр Виженера с ключом-шифртекстом"
   ]
  },
  {
   "cell_type": "code",
   "execution_count": 165,
   "metadata": {},
   "outputs": [],
   "source": [
    "def tabula_recta(al, x, y):\n",
    "    return al[(al.index(x) + al.index(y)) % len(al)]\n",
    "\n",
    "def tabula_recta_rev(al, x, y):\n",
    "    return al[(al.index(x) - al.index(y)) % len(al)]"
   ]
  },
  {
   "cell_type": "code",
   "execution_count": 110,
   "metadata": {},
   "outputs": [],
   "source": [
    "def vigenere_feedback(al, plaintext, s):\n",
    "    if len(plaintext) == 1:\n",
    "        return tabula_recta(al, plaintext.pop(), s)\n",
    "    crypt = tabula_recta(al, plaintext.pop(0), s)\n",
    "    return crypt + vigenere_feedback(al, plaintext, crypt)"
   ]
  },
  {
   "cell_type": "code",
   "execution_count": 123,
   "metadata": {
    "scrolled": true
   },
   "outputs": [
    {
     "data": {
      "text/plain": [
       "('НЕВСЯКИЙЗПТКТОЧИТАЕТЗПТВЧТЕНИИСИЛУЗНАЕТТЧК',\n",
       " '->',\n",
       " 'ЪЯIАЯIIXIXАКЬXЕНЯЯXАЗЦXXЕЧЬIIIАИУXIXXIБУXX')"
      ]
     },
     "execution_count": 123,
     "metadata": {},
     "output_type": "execute_result"
    }
   ],
   "source": [
    "text = prepare('НЕ ВСЯКИЙ, КТО ЧИТАЕТ, В ЧТЕНИИ СИЛУ ЗНАЕТ.')\n",
    "text, '->', vigenere_feedback(al,list(text), 'Н')"
   ]
  },
  {
   "cell_type": "code",
   "execution_count": 162,
   "metadata": {},
   "outputs": [],
   "source": [
    "def vigenere_feedback_dec(al, ciphertext, s):\n",
    "    if len(ciphertext) == 1:\n",
    "        return tabula_recta_rev(al, ciphertext.pop(), s)\n",
    "    snew = ciphertext.pop(0)\n",
    "    return tabula_recta_rev(al, snew, s) + vigenere_feedback_dec(al, ciphertext, snew)"
   ]
  },
  {
   "cell_type": "code",
   "execution_count": 128,
   "metadata": {},
   "outputs": [
    {
     "data": {
      "text/plain": [
       "('ЪЯIАЯIIXIXАКЬXЕНЯЯXАЗЦXXЕЧЬIIIАИУXIXXIБУXX',\n",
       " '->',\n",
       " 'НЕВСЯВАIБIТКТДЧИТАБТЗПКАЧТЕЕААСИЛНБIАБТТНА')"
      ]
     },
     "execution_count": 128,
     "metadata": {},
     "output_type": "execute_result"
    }
   ],
   "source": [
    "ciphertext = vigenere_feedback(al,list(text), 'Н')\n",
    "ciphertext, '->', comp(vigenere_feedback_dec(al,list(ciphertext), 'Н'))"
   ]
  },
  {
   "cell_type": "code",
   "execution_count": 153,
   "metadata": {},
   "outputs": [],
   "source": [
    "text = prepare(test_text().upper().replace('-', '—'))"
   ]
  },
  {
   "cell_type": "code",
   "execution_count": 154,
   "metadata": {},
   "outputs": [
    {
     "data": {
      "text/plain": [
       "'ЪЯИРЭАЙЦЦУЫКЬЬМФГХЭТЧЖРРНЬКТЗПЬЗХДЦРIМЪЬЬЙЩIБОЬЛИЪЬОЦIНЮКЮНЧИДОЬЗЭАПГЛЗССВЙЙФОЫЗРIБXЕНЮЗХЫЖФГХПЦГХЯЛЭЙЩЩЦЧРЫЫИЦЖЛЫШГГФБПМОЩЮЙСЦАПЭИЕЧЯЬЙЧЖШДБОЫЗРЪЖУЛЗ...'"
      ]
     },
     "execution_count": 154,
     "metadata": {},
     "output_type": "execute_result"
    }
   ],
   "source": [
    "f'{vigenere_feedback(ext, list(text),\"Н\")[:150]}...'"
   ]
  },
  {
   "cell_type": "code",
   "execution_count": 168,
   "metadata": {
    "scrolled": true
   },
   "outputs": [
    {
     "data": {
      "text/plain": [
       "'НЕЛИНЕЙНАЯИСТАТИСТИЧЕСКАЯПРИЧИННОСТЬСНОВАПРИВНОСЯТВФИЛОСОФСКУЮКОНЦЕПЦИЮКАУЗАЛЬНОЙСВЯЗИСЛОЖНОСТЬ,КОТОРАЯБЫЛАПОТЕРЯНАСПОЯВЛЕНИЕМПОНЯТИЯПОСТОЯННОЙКОНЪЮНК...'"
      ]
     },
     "execution_count": 168,
     "metadata": {},
     "output_type": "execute_result"
    }
   ],
   "source": [
    "f'{comp(vigenere_feedback_dec(ext, list(vigenere_feedback(ext, list(text),\"Н\")),\"Н\"))[:150]}...'"
   ]
  },
  {
   "cell_type": "markdown",
   "metadata": {},
   "source": [
    "### S-блок замены ГОСТ Р 34.12-2015 [(«МАГМА»)](https://gist.github.com/empty-jack/2a6ddbe0d6852d74d16f617c11eda847/)\n",
    "\n",
    "[RFC7836](https://datatracker.ietf.org/doc/html/rfc7836)\n",
    "\n",
    "`id-tc26-gost-28147-param-Z`\n",
    "\n",
    "Расшифрование выполняется так же, как и зашифрование, но инвертируется порядок подключей $K_i$."
   ]
  },
  {
   "cell_type": "code",
   "execution_count": 130,
   "metadata": {},
   "outputs": [],
   "source": [
    "from bitarray import bitarray\n",
    "\n",
    "def splitlst(lst,n):\n",
    "    return [lst[i:i+n] for i in range(0, len(lst), n)]\n",
    "\n",
    "def cyclic_shift(a:int, b : int):\n",
    "    return ((a << b) | (a >> (32 - b))) & 0xFFFFFFFF"
   ]
  },
  {
   "cell_type": "code",
   "execution_count": 134,
   "metadata": {},
   "outputs": [],
   "source": [
    "def magma_sub(block : bitarray):\n",
    "    assert len(block) == 32, 'Incorrect block size'\n",
    "    S_box = (\n",
    "    (0xc, 0x4, 0x6, 0x2, 0xa, 0x5, 0xb, 0x9, 0xe, 0x8, 0xd, 0x7, 0x0, 0x3, 0xf, 0x1),\n",
    "    (0x6, 0x8, 0x2, 0x3, 0x9, 0xa, 0x5, 0xc, 0x1, 0xe, 0x4, 0x7, 0xb, 0xd, 0x0, 0xf),\n",
    "    (0xb, 0x3, 0x5, 0x8, 0x2, 0xf, 0xa, 0xd, 0xe, 0x1, 0x7, 0x4, 0xc, 0x9, 0x6, 0x0),\n",
    "    (0xc, 0x8, 0x2, 0x1, 0xd, 0x4, 0xf, 0x6, 0x7, 0x0, 0xa, 0x5, 0x3, 0xe, 0x9, 0xb),\n",
    "    (0x7, 0xf, 0x5, 0xa, 0x8, 0x1, 0x6, 0xd, 0x0, 0x9, 0x3, 0xe, 0xb, 0x4, 0x2, 0xc),\n",
    "    (0x5, 0xd, 0xf, 0x6, 0x9, 0x2, 0xc, 0xa, 0xb, 0x7, 0x8, 0x1, 0x4, 0x3, 0xe, 0x0),\n",
    "    (0x8, 0xe, 0x2, 0x5, 0x6, 0x9, 0x1, 0xc, 0xf, 0x4, 0xb, 0x0, 0xd, 0xa, 0x3, 0x7),\n",
    "    (0x1, 0x7, 0xe, 0xd, 0x0, 0x5, 0x8, 0x3, 0x4, 0xf, 0xa, 0x6, 0x9, 0xc, 0xb, 0x2),\n",
    "    )\n",
    "    newblock = ''\n",
    "    for i, chunk in enumerate(splitlst(block, 4)):\n",
    "        newchunk = S_box[i][int(chunk.to01(), 2)]\n",
    "        newblock += f'{newchunk:04b}'\n",
    "    return bitarray(f'{cyclic_shift(int(newblock, 2), 11):b}')"
   ]
  },
  {
   "cell_type": "code",
   "execution_count": 132,
   "metadata": {},
   "outputs": [],
   "source": [
    "def strtobitarray(text, encode='utf-8'):\n",
    "    bits = bitarray()\n",
    "    bits.frombytes(text.encode('utf-8'))\n",
    "    return bits"
   ]
  },
  {
   "cell_type": "code",
   "execution_count": 133,
   "metadata": {
    "scrolled": true
   },
   "outputs": [
    {
     "name": "stdout",
     "output_type": "stream",
     "text": [
      "1001\n",
      "10011001\n",
      "100110011010\n",
      "1001100110100100\n",
      "10011001101001001101\n",
      "100110011010010011010110\n",
      "1001100110100100110101101100\n",
      "10011001101001001101011011000000\n"
     ]
    },
    {
     "data": {
      "text/plain": [
       "bitarray('100110101101100000010011001101')"
      ]
     },
     "execution_count": 133,
     "metadata": {},
     "output_type": "execute_result"
    }
   ],
   "source": [
    "magma_sub(strtobitarray('test'))"
   ]
  },
  {
   "cell_type": "code",
   "execution_count": 135,
   "metadata": {},
   "outputs": [
    {
     "name": "stdout",
     "output_type": "stream",
     "text": [
      "bitarray('11110010001010100010100110110000')\n",
      "bitarray('11100100111111010000101100110100')\n",
      "bitarray('11100001100001010000111011000100')\n",
      "bitarray('11100100110111010000110000100100')\n",
      "bitarray('10011010101011010000110001110010')\n",
      "bitarray('11100001111111010000110000100100')\n",
      "bitarray('11100010001011011001110000000010')\n",
      "bitarray('10111010001011011111000110110000')\n",
      "bitarray('11100010001010100010100110110000')\n",
      "bitarray('10010010101000010000100110110011')\n",
      "bitarray('10010010101011010000100110110000')\n",
      "bitarray('11100001111111010000111011100100')\n",
      "bitarray('11100100100111010000110001010100')\n",
      "bitarray('11100100110110010000110000001100')\n",
      "bitarray('11000010001010100010000110110011')\n",
      "bitarray('10101010001011011110100110110000')\n",
      "bitarray('11100100110101010000101100110100')\n",
      "bitarray('11100100101011010000110001101100')\n",
      "bitarray('11100001111110010101110001010100')\n"
     ]
    }
   ],
   "source": [
    "for block in splitlst(strtobitarray('НЕ ВСЯКИЙ, КТО ЧИТАЕТ, В ЧТЕНИИ СИЛУ ЗНАЕТ.'), 32):\n",
    "    print(magma_sub(block))"
   ]
  },
  {
   "cell_type": "code",
   "execution_count": null,
   "metadata": {},
   "outputs": [],
   "source": []
  }
 ],
 "metadata": {
  "kernelspec": {
   "display_name": "Python 3",
   "language": "python",
   "name": "python3"
  },
  "language_info": {
   "codemirror_mode": {
    "name": "ipython",
    "version": 3
   },
   "file_extension": ".py",
   "mimetype": "text/x-python",
   "name": "python",
   "nbconvert_exporter": "python",
   "pygments_lexer": "ipython3",
   "version": "3.7.3"
  }
 },
 "nbformat": 4,
 "nbformat_minor": 2
}
