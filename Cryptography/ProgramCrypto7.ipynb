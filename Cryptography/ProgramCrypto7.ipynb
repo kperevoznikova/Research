{
 "cells": [
  {
   "cell_type": "markdown",
   "metadata": {},
   "source": [
    "### [NIST - FIPS.197](https://nvlpubs.nist.gov/nistpubs/FIPS/NIST.FIPS.197.pdf)"
   ]
  },
  {
   "cell_type": "code",
   "execution_count": 1,
   "metadata": {},
   "outputs": [],
   "source": [
    "import sys\n",
    "from functools import reduce"
   ]
  },
  {
   "cell_type": "code",
   "execution_count": 11,
   "metadata": {},
   "outputs": [],
   "source": [
    "class AES:\n",
    "\n",
    "    Sbox = [\n",
    "        [0x63, 0x7c, 0x77, 0x7b, 0xf2, 0x6b, 0x6f, 0xc5, 0x30, 0x01, 0x67, 0x2b, 0xfe, 0xd7, 0xab, 0x76], \n",
    "        [0xca, 0x82, 0xc9, 0x7d, 0xfa, 0x59, 0x47, 0xf0, 0xad, 0xd4, 0xa2, 0xaf, 0x9c, 0xa4, 0x72, 0xc0], \n",
    "        [0xb7, 0xfd, 0x93, 0x26, 0x36, 0x3f, 0xf7, 0xcc, 0x34, 0xa5, 0xe5, 0xf1, 0x71, 0xd8, 0x31, 0x15], \n",
    "        [0x04, 0xc7, 0x23, 0xc3, 0x18, 0x96, 0x05, 0x9a, 0x07, 0x12, 0x80, 0xe2, 0xeb, 0x27, 0xb2, 0x75], \n",
    "        [0x09, 0x83, 0x2c, 0x1a, 0x1b, 0x6e, 0x5a, 0xa0, 0x52, 0x3b, 0xd6, 0xb3, 0x29, 0xe3, 0x2f, 0x84], \n",
    "        [0x53, 0xd1, 0x00, 0xed, 0x20, 0xfc, 0xb1, 0x5b, 0x6a, 0xcb, 0xbe, 0x39, 0x4a, 0x4c, 0x58, 0xcf], \n",
    "        [0xd0, 0xef, 0xaa, 0xfb, 0x43, 0x4d, 0x33, 0x85, 0x45, 0xf9, 0x02, 0x7f, 0x50, 0x3c, 0x9f, 0xa8], \n",
    "        [0x51, 0xa3, 0x40, 0x8f, 0x92, 0x9d, 0x38, 0xf5, 0xbc, 0xb6, 0xda, 0x21, 0x10, 0xff, 0xf3, 0xd2], \n",
    "        [0xcd, 0x0c, 0x13, 0xec, 0x5f, 0x97, 0x44, 0x17, 0xc4, 0xa7, 0x7e, 0x3d, 0x64, 0x5d, 0x19, 0x73], \n",
    "        [0x60, 0x81, 0x4f, 0xdc, 0x22, 0x2a, 0x90, 0x88, 0x46, 0xee, 0xb8, 0x14, 0xde, 0x5e, 0x0b, 0xdb], \n",
    "        [0xe0, 0x32, 0x3a, 0x0a, 0x49, 0x06, 0x24, 0x5c, 0xc2, 0xd3, 0xac, 0x62, 0x91, 0x95, 0xe4, 0x79], \n",
    "        [0xe7, 0xc8, 0x37, 0x6d, 0x8d, 0xd5, 0x4e, 0xa9, 0x6c, 0x56, 0xf4, 0xea, 0x65, 0x7a, 0xae, 0x08], \n",
    "        [0xba, 0x78, 0x25, 0x2e, 0x1c, 0xa6, 0xb4, 0xc6, 0xe8, 0xdd, 0x74, 0x1f, 0x4b, 0xbd, 0x8b, 0x8a], \n",
    "        [0x70, 0x3e, 0xb5, 0x66, 0x48, 0x03, 0xf6, 0x0e, 0x61, 0x35, 0x57, 0xb9, 0x86, 0xc1, 0x1d, 0x9e], \n",
    "        [0xe1, 0xf8, 0x98, 0x11, 0x69, 0xd9, 0x8e, 0x94, 0x9b, 0x1e, 0x87, 0xe9, 0xce, 0x55, 0x28, 0xdf], \n",
    "        [0x8c, 0xa1, 0x89, 0x0d, 0xbf, 0xe6, 0x42, 0x68, 0x41, 0x99, 0x2d, 0x0f, 0xb0, 0x54, 0xbb, 0x16],\n",
    "    ]\n",
    "    InvSbox = [\n",
    "        [0x52, 0x09, 0x6a, 0xd5, 0x30, 0x36, 0xa5, 0x38, 0xbf, 0x40, 0xa3, 0x9e, 0x81, 0xf3, 0xd7, 0xfb],\n",
    "        [0x7c, 0xe3, 0x39, 0x82, 0x9b, 0x2f, 0xff, 0x87, 0x34, 0x8e, 0x43, 0x44, 0xc4, 0xde, 0xe9, 0xcb],\n",
    "        [0x54, 0x7b, 0x94, 0x32, 0xa6, 0xc2, 0x23, 0x3d, 0xee, 0x4c, 0x95, 0x0b, 0x42, 0xfa, 0xc3, 0x4e],\n",
    "        [0x08, 0x2e, 0xa1, 0x66, 0x28, 0xd9, 0x24, 0xb2, 0x76, 0x5b, 0xa2, 0x49, 0x6d, 0x8b, 0xd1, 0x25],\n",
    "        [0x72, 0xf8, 0xf6, 0x64, 0x86, 0x68, 0x98, 0x16, 0xd4, 0xa4, 0x5c, 0xcc, 0x5d, 0x65, 0xb6, 0x92],\n",
    "        [0x6c, 0x70, 0x48, 0x50, 0xfd, 0xed, 0xb9, 0xda, 0x5e, 0x15, 0x46, 0x57, 0xa7, 0x8d, 0x9d, 0x84],\n",
    "        [0x90, 0xd8, 0xab, 0x00, 0x8c, 0xbc, 0xd3, 0x0a, 0xf7, 0xe4, 0x58, 0x05, 0xb8, 0xb3, 0x45, 0x06],\n",
    "        [0xd0, 0x2c, 0x1e, 0x8f, 0xca, 0x3f, 0x0f, 0x02, 0xc1, 0xaf, 0xbd, 0x03, 0x01, 0x13, 0x8a, 0x6b],\n",
    "        [0x3a, 0x91, 0x11, 0x41, 0x4f, 0x67, 0xdc, 0xea, 0x97, 0xf2, 0xcf, 0xce, 0xf0, 0xb4, 0xe6, 0x73],\n",
    "        [0x96, 0xac, 0x74, 0x22, 0xe7, 0xad, 0x35, 0x85, 0xe2, 0xf9, 0x37, 0xe8, 0x1c, 0x75, 0xdf, 0x6e],\n",
    "        [0x47, 0xf1, 0x1a, 0x71, 0x1d, 0x29, 0xc5, 0x89, 0x6f, 0xb7, 0x62, 0x0e, 0xaa, 0x18, 0xbe, 0x1b],\n",
    "        [0xfc, 0x56, 0x3e, 0x4b, 0xc6, 0xd2, 0x79, 0x20, 0x9a, 0xdb, 0xc0, 0xfe, 0x78, 0xcd, 0x5a, 0xf4],\n",
    "        [0x1f, 0xdd, 0xa8, 0x33, 0x88, 0x07, 0xc7, 0x31, 0xb1, 0x12, 0x10, 0x59, 0x27, 0x80, 0xec, 0x5f],\n",
    "        [0x60, 0x51, 0x7f, 0xa9, 0x19, 0xb5, 0x4a, 0x0d, 0x2d, 0xe5, 0x7a, 0x9f, 0x93, 0xc9, 0x9c, 0xef],\n",
    "        [0xa0, 0xe0, 0x3b, 0x4d, 0xae, 0x2a, 0xf5, 0xb0, 0xc8, 0xeb, 0xbb, 0x3c, 0x83, 0x53, 0x99, 0x61],\n",
    "        [0x17, 0x2b, 0x04, 0x7e, 0xba, 0x77, 0xd6, 0x26, 0xe1, 0x69, 0x14, 0x63, 0x55, 0x21, 0x0c, 0x7d],\n",
    "        ]\n",
    "    Nb = 4\n",
    "    Rcon = (\n",
    "    0x00, 0x01, 0x02, 0x04, 0x08, 0x10, 0x20, 0x40,\n",
    "    0x80, 0x1B, 0x36, 0x6C, 0xD8, 0xAB, 0x4D, 0x9A,\n",
    "    0x2F, 0x5E, 0xBC, 0x63, 0xC6, 0x97, 0x35, 0x6A,\n",
    "    0xD4, 0xB3, 0x7D, 0xFA, 0xEF, 0xC5, 0x91, 0x39,\n",
    "    )\n",
    "\n",
    "    def __init__(self, key : bytearray):\n",
    "        assert len(key) * 8 in [128, 192, 256], 'Invalid key size'\n",
    "        self._Nr = {\n",
    "            128 : 10,\n",
    "            192 : 12,\n",
    "            256 : 14,\n",
    "        }[len(key) * 8]\n",
    "        self._Nk = {\n",
    "            128 : 4,\n",
    "            192 : 6,\n",
    "            256 : 8, \n",
    "        }[len(key) * 8]\n",
    "        self._State = [[],[],[],[]]\n",
    "        self.ExpandKey(key)\n",
    "    '''\n",
    "    @staticmethod\n",
    "    def Rcon(i):\n",
    "        if i == 1:\n",
    "            return 1\n",
    "        return (Rcon(i - 1)<<1) ^ (0x11b & -(Rcon(i - 1)>>7))\n",
    "    '''\n",
    "    def SubWord(self, temp):\n",
    "        return [self.S(i) for i in temp]\n",
    "    def RotWord(self, temp):\n",
    "        temp.append(temp.pop(0))\n",
    "        return temp\n",
    "    def ExpandKey(self, key):\n",
    "        self._w = [[int(j) for j in key[i:i+self._Nk]] \n",
    "                for i in range(0, len(key), self._Nk)]      \n",
    "        i = self._Nk\n",
    "        while (i < self.Nb * (self._Nr + 1)):\n",
    "            temp = self._w[i-1].copy()\n",
    "            if (i % self._Nk == 0):\n",
    "                temp = self.SubWord(self.RotWord(temp))\n",
    "                temp[0] ^= self.Rcon[i // self._Nk]\n",
    "            elif (self._Nk > 6) and ((i % self._Nk) == 4):\n",
    "                temp = self.SubWord(temp)\n",
    "            self._w.append([\n",
    "                i[0]^i[1] for i in zip(self._w[i-self._Nk], temp)\n",
    "            ])\n",
    "            i += 1\n",
    "    def split_16(self, lst_bytes):\n",
    "        return [\n",
    "            lst_bytes[i:i+(self.Nb ** 2)] \n",
    "            for i in \n",
    "            range(0, len(lst_bytes), (self.Nb ** 2))\n",
    "        ]\n",
    "    @staticmethod\n",
    "    def bytearray_to_byte_lst(ba):\n",
    "        return [b.to_bytes(1, sys.byteorder) for b in plaintext]\n",
    "    def lst_bytes(self, rawbytes):\n",
    "        ba = AES.bytearray_to_byte_lst(rawbytes).copy()\n",
    "        if len(ba) % (self.Nb ** 2):\n",
    "            for i in range((self.Nb **2) - (len(ba) % (self.Nb **2))):\n",
    "                ba.append(b'\\x00')\n",
    "        return self.split_16(ba)\n",
    "    def toState(self, block):\n",
    "        for r in range(self.Nb):\n",
    "            for c in range(self.Nb):\n",
    "                self._State[r].append(int(block[r + 4*c].hex(),16))\n",
    "    def fromState(self):\n",
    "        block = [0] * (self.Nb ** 2)\n",
    "        for r in range(self.Nb):\n",
    "            for c in range(self.Nb):\n",
    "                block[r + 4*c] = self._State[r][c]\\\n",
    "                                    .to_bytes(1, sys.byteorder)\n",
    "        self._State = [[],[],[],[]]\n",
    "        return block\n",
    "    def S(self, n : int):\n",
    "        i, j = n.to_bytes(1, sys.byteorder).hex()\n",
    "        return self.Sbox[int(i, 16)][int(j, 16)]\n",
    "    def AddRoundKey(self,i):\n",
    "        roundkey = [*zip(*self._w[i*self.Nb:(i+1)*self.Nb])]\n",
    "        for i in range(self.Nb):\n",
    "            self._State[i] = [i[0]^i[1] for i in zip(self._State[i], roundkey[i])]\n",
    "        #print([[*map(hex,i)] for i in self._State], end='\\n\\n')\n",
    "    def SubBytes(self):\n",
    "        for r in range(self.Nb):\n",
    "            for c in range(self.Nb):\n",
    "                self._State[r][c] = self.S(self._State[r][c])\n",
    "    def ShiftRows(self):\n",
    "        for r in range(self.Nb):\n",
    "            for i in range(r):\n",
    "                self._State[r] += [self._State[r].pop(0)]\n",
    "    @staticmethod\n",
    "    def xtime(a):\n",
    "        #return (a << 1) ^ (0x1b & -(a >> 7))\n",
    "        return (((a << 1) ^ 0x1B) & 0xFF) if (a & 0x80) else (a << 1)\n",
    "    @staticmethod\n",
    "    def fieldmul3(a,b,bx2):\n",
    "        args = (int(a > 1)*bx2, int(a % 2 == 1)*b)\n",
    "        return args[0] ^ args[1]  \n",
    "    def MixColumns(self):\n",
    "        StateT = [list(i) for i in zip(*self._State.copy())]\n",
    "        for c in range(self.Nb):\n",
    "            a = StateT[c]\n",
    "            t = a[0] ^ a[1] ^ a[2] ^ a[3]\n",
    "            u = a[0]\n",
    "            a[0] ^= t ^ self.xtime(a[0] ^ a[1])\n",
    "            a[1] ^= t ^ self.xtime(a[1] ^ a[2])\n",
    "            a[2] ^= t ^ self.xtime(a[2] ^ a[3])\n",
    "            a[3] ^= t ^ self.xtime(a[3] ^ u)\n",
    "\n",
    "            StateT[c] = a\n",
    "        self._State = [list(i) for i in zip(*StateT)]\n",
    "    def encrypt(self, plaintext : bytearray):\n",
    "        ciphertext = list()\n",
    "        for block in self.lst_bytes(plaintext):\n",
    "            self.toState(block)\n",
    "            self.AddRoundKey(0)\n",
    "            for round_ in range(1, self._Nr):\n",
    "                self.SubBytes()\n",
    "                self.ShiftRows()\n",
    "                self.MixColumns()\n",
    "                self.AddRoundKey(round_)\n",
    "            self.SubBytes()\n",
    "            self.ShiftRows()\n",
    "            self.AddRoundKey(self._Nr)\n",
    "            state = self.fromState()\n",
    "            ciphertext.append(b''.join(state))\n",
    "        return b''.join(ciphertext)#b''.join(reduce(lambda x, y: x.extend(y), ciphertext))\n",
    "    def InvShiftRows(self):\n",
    "        for r in range(self.Nb):\n",
    "            for i in range(r):\n",
    "                self._State[r] = [self._State[r].pop(-1)] + self._State[r]\n",
    "        #print([[*map(hex,i)] for i in self._State], end='\\n\\n')\n",
    "    def InvS(self, n : int):\n",
    "        i, j = n.to_bytes(1, sys.byteorder).hex()\n",
    "        return self.Sbox[int(i, 16)][int(j, 16)]\n",
    "    def InvSubBytes(self):\n",
    "        for r in range(self.Nb):\n",
    "            for c in range(self.Nb):\n",
    "                self._State[r][c] = self.InvS(self._State[r][c])\n",
    "        #print([[*map(hex,i)] for i in self._State], end='\\n\\n')\n",
    "    def InvMixColumns(self):\n",
    "        StateT = [list(i) for i in zip(*self._State.copy())]\n",
    "        for i in range(self.Nb):\n",
    "            u = self.xtime(self.xtime(StateT[i][0] ^ StateT[i][2]))\n",
    "            v = self.xtime(self.xtime(StateT[i][1] ^ StateT[i][3]))\n",
    "\n",
    "            StateT[i][0] ^= u\n",
    "            StateT[i][1] ^= v\n",
    "            StateT[i][2] ^= u\n",
    "            StateT[i][3] ^= v\n",
    "            for c in range(self.Nb):\n",
    "                a = StateT[c]\n",
    "                t = a[0] ^ a[1] ^ a[2] ^ a[3]\n",
    "                u = a[0]\n",
    "                a[0] ^= t ^ self.xtime(a[0] ^ a[1])\n",
    "                a[1] ^= t ^ self.xtime(a[1] ^ a[2])\n",
    "                a[2] ^= t ^ self.xtime(a[2] ^ a[3])\n",
    "                a[3] ^= t ^ self.xtime(a[3] ^ u)\n",
    "\n",
    "            StateT[c] = a\n",
    "        self._State = [list(i) for i in zip(*StateT)]\n",
    "        #print([[*map(hex,i)] for i in self._State], end='\\n\\n')\n",
    "    def decrypt(self, ciphertext : bytearray):\n",
    "        plaintext = list()\n",
    "        for block in self.lst_bytes(ciphertext):\n",
    "            self.toState(block)\n",
    "            self.AddRoundKey(self._Nr)\n",
    "            self.InvShiftRows()\n",
    "            self.InvSubBytes()\n",
    "            for round_ in range(self._Nr - 1, 0, -1):\n",
    "                self.AddRoundKey(round_)\n",
    "                self.InvMixColumns()\n",
    "                self.InvShiftRows()\n",
    "                self.InvSubBytes()\n",
    "            self.AddRoundKey(0)\n",
    "            state = self.fromState()\n",
    "            plaintext.append(b''.join(state))\n",
    "        return b''.join(plaintext)"
   ]
  },
  {
   "cell_type": "markdown",
   "metadata": {},
   "source": [
    "#### Тестируем работу операций по Аппендиксу B:"
   ]
  },
  {
   "cell_type": "code",
   "execution_count": 10,
   "metadata": {
    "scrolled": false
   },
   "outputs": [
    {
     "name": "stdout",
     "output_type": "stream",
     "text": [
      "[[25, 160, 154, 233], [61, 244, 198, 248], [227, 226, 141, 72], [190, 43, 42, 8]]\n",
      "[[212, 224, 184, 30], [39, 191, 180, 65], [17, 152, 93, 82], [174, 241, 229, 48]]\n",
      "[[212, 224, 184, 30], [191, 180, 65, 39], [93, 82, 17, 152], [48, 174, 241, 229]]\n",
      "[[4, 224, 72, 40], [102, 203, 248, 6], [129, 25, 211, 38], [229, 154, 122, 76]]\n",
      "[[164, 104, 107, 2], [156, 159, 91, 106], [127, 53, 234, 80], [242, 43, 67, 73]]\n"
     ]
    }
   ],
   "source": [
    "key = bytearray.fromhex('2b7e151628aed2a6abf7158809cf4f3c')\n",
    "plaintext = bytearray.fromhex('3243f6a8885a308d313198a2e0370734')\n",
    "aes = AES(key)\n",
    "aes.encrypt(plaintext)"
   ]
  },
  {
   "cell_type": "code",
   "execution_count": 4,
   "metadata": {
    "scrolled": true
   },
   "outputs": [
    {
     "name": "stdout",
     "output_type": "stream",
     "text": [
      "['0xd4', '0xe0', '0xb8', '0x1e']\n",
      "['0x27', '0xbf', '0xb4', '0x41']\n",
      "['0x11', '0x98', '0x5d', '0x52']\n",
      "['0xae', '0xf1', '0xe5', '0x30']\n"
     ]
    }
   ],
   "source": [
    "sub = [[212, 224, 184, 30], [39, 191, 180, 65], [17, 152, 93, 82], [174, 241, 229, 48]]\n",
    "for r in sub:\n",
    "    print([*map(hex, r)])"
   ]
  },
  {
   "cell_type": "code",
   "execution_count": 5,
   "metadata": {},
   "outputs": [
    {
     "name": "stdout",
     "output_type": "stream",
     "text": [
      "['0xd4', '0xe0', '0xb8', '0x1e']\n",
      "['0xbf', '0xb4', '0x41', '0x27']\n",
      "['0x5d', '0x52', '0x11', '0x98']\n",
      "['0x30', '0xae', '0xf1', '0xe5']\n"
     ]
    }
   ],
   "source": [
    "shift = [[212, 224, 184, 30], [191, 180, 65, 39], [93, 82, 17, 152], [48, 174, 241, 229]]\n",
    "for r in shift:\n",
    "    print([*map(hex, r)])"
   ]
  },
  {
   "cell_type": "code",
   "execution_count": 6,
   "metadata": {},
   "outputs": [
    {
     "name": "stdout",
     "output_type": "stream",
     "text": [
      "['0x4', '0xe0', '0x48', '0x28']\n",
      "['0x66', '0xcb', '0xf8', '0x6']\n",
      "['0x81', '0x19', '0xd3', '0x26']\n",
      "['0xe5', '0x9a', '0x7a', '0x4c']\n"
     ]
    }
   ],
   "source": [
    "mix = [[4, 224, 72, 40], [102, 203, 248, 6], [129, 25, 211, 38], [229, 154, 122, 76]]\n",
    "for r in mix:\n",
    "    print([*map(hex, r)])"
   ]
  },
  {
   "cell_type": "markdown",
   "metadata": {},
   "source": [
    "Первая строка последней матрицы состояния:"
   ]
  },
  {
   "cell_type": "code",
   "execution_count": 7,
   "metadata": {},
   "outputs": [
    {
     "data": {
      "text/plain": [
       "['0x39', '0x2', '0xdc', '0x19']"
      ]
     },
     "execution_count": 7,
     "metadata": {},
     "output_type": "execute_result"
    }
   ],
   "source": [
    "[*map(hex,[57, 2, 220, 25])]"
   ]
  },
  {
   "cell_type": "markdown",
   "metadata": {},
   "source": [
    "#### Текст по варианту"
   ]
  },
  {
   "cell_type": "code",
   "execution_count": 5,
   "metadata": {
    "scrolled": false
   },
   "outputs": [
    {
     "data": {
      "text/plain": [
       "b'\\xfbm\\xe6U\"\\x8f\\\\\\xab\\xcc,v\\xcdX\\xccv\\xf6\\xb71:\\x08\\xb1\\x1a\\x80\\xbax\\x9aD\\xf6rd@R\"F\\x82Z>\\xe3\\x89\\xbaV\\xa6\\x9f\\xcd\\xb3/\\xa5`\\xb1\\xfdq\\x0c\\xe2-\"\\xf3\\x1b%\\x1b\\x81v|\\xa3gII\\xe3\\xda\\xd5v\\xad\\x10\\xab\\x9f\\xe3\\xd0\\x01\\xd4wq'"
      ]
     },
     "execution_count": 5,
     "metadata": {},
     "output_type": "execute_result"
    }
   ],
   "source": [
    "key = bytearray.fromhex('2b7e151628aed2a6abf7158809cf4f3c')\n",
    "plaintext = 'НЕ ВСЯКИЙ, КТО ЧИТАЕТ, В ЧТЕНИИ СИЛУ ЗНАЕТ'.encode('utf-8')\n",
    "aes = AES(key)\n",
    "aes.encrypt(plaintext)"
   ]
  },
  {
   "cell_type": "markdown",
   "metadata": {},
   "source": [
    "#### Расшифровка"
   ]
  },
  {
   "cell_type": "code",
   "execution_count": 39,
   "metadata": {},
   "outputs": [
    {
     "data": {
      "text/plain": [
       "b'\\xd0\\x9d\\xd0\\x95 \\xd0\\x92\\xd0\\xa1\\xd0\\xaf\\xd0\\x9a\\xd0\\x98\\xd0\\x99, \\xd0\\x9a\\xd0\\xa2\\xd0\\x9e \\xd0\\xa7\\xd0\\x98\\xd0\\xa2\\xd0\\x90\\xd0\\x95\\xd0\\xa2, \\xd0\\x92 \\xd0\\xa7\\xd0\\xa2\\xd0\\x95\\xd0\\x9d\\xd0\\x98\\xd0\\x98 \\xd0\\xa1\\xd0\\x98\\xd0\\x9b\\xd0\\xa3 \\xd0\\x97\\xd0\\x9d\\xd0\\x90\\xd0\\x95\\xd0\\xa2'"
      ]
     },
     "execution_count": 39,
     "metadata": {},
     "output_type": "execute_result"
    }
   ],
   "source": [
    "plaintext"
   ]
  },
  {
   "cell_type": "code",
   "execution_count": 3,
   "metadata": {},
   "outputs": [
    {
     "data": {
      "text/plain": [
       "12"
      ]
     },
     "execution_count": 3,
     "metadata": {},
     "output_type": "execute_result"
    }
   ],
   "source": [
    "23 ^ 0x1B"
   ]
  },
  {
   "cell_type": "code",
   "execution_count": 7,
   "metadata": {},
   "outputs": [
    {
     "data": {
      "text/plain": [
       "128"
      ]
     },
     "execution_count": 7,
     "metadata": {},
     "output_type": "execute_result"
    }
   ],
   "source": [
    "0x82 & 0x80"
   ]
  },
  {
   "cell_type": "code",
   "execution_count": 13,
   "metadata": {},
   "outputs": [
    {
     "data": {
      "text/plain": [
       "'0b100011111'"
      ]
     },
     "execution_count": 13,
     "metadata": {},
     "output_type": "execute_result"
    }
   ],
   "source": [
    "bin((0x82 << 1)  ^ 0x1B)"
   ]
  },
  {
   "cell_type": "code",
   "execution_count": 14,
   "metadata": {},
   "outputs": [
    {
     "data": {
      "text/plain": [
       "'0b11111'"
      ]
     },
     "execution_count": 14,
     "metadata": {},
     "output_type": "execute_result"
    }
   ],
   "source": [
    "bin(((0x82 << 1)  ^ 0x1B) & 0xff)"
   ]
  },
  {
   "cell_type": "code",
   "execution_count": 15,
   "metadata": {},
   "outputs": [
    {
     "data": {
      "text/plain": [
       "'0b11011'"
      ]
     },
     "execution_count": 15,
     "metadata": {},
     "output_type": "execute_result"
    }
   ],
   "source": [
    "bin(0x1b)"
   ]
  },
  {
   "cell_type": "code",
   "execution_count": 16,
   "metadata": {},
   "outputs": [
    {
     "data": {
      "text/plain": [
       "'0b100000100'"
      ]
     },
     "execution_count": 16,
     "metadata": {},
     "output_type": "execute_result"
    }
   ],
   "source": [
    "bin((0x82 << 1))"
   ]
  },
  {
   "cell_type": "code",
   "execution_count": 17,
   "metadata": {},
   "outputs": [
    {
     "data": {
      "text/plain": [
       "'0b10000010'"
      ]
     },
     "execution_count": 17,
     "metadata": {},
     "output_type": "execute_result"
    }
   ],
   "source": [
    "bin(0x82)"
   ]
  },
  {
   "cell_type": "code",
   "execution_count": null,
   "metadata": {},
   "outputs": [],
   "source": []
  }
 ],
 "metadata": {
  "kernelspec": {
   "display_name": "Python 3",
   "language": "python",
   "name": "python3"
  },
  "language_info": {
   "codemirror_mode": {
    "name": "ipython",
    "version": 3
   },
   "file_extension": ".py",
   "mimetype": "text/x-python",
   "name": "python",
   "nbconvert_exporter": "python",
   "pygments_lexer": "ipython3",
   "version": "3.7.3"
  }
 },
 "nbformat": 4,
 "nbformat_minor": 2
}
