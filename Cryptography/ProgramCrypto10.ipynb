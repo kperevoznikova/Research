{
 "cells": [
  {
   "cell_type": "markdown",
   "metadata": {},
   "source": [
    "## Квадратичная функция свертки"
   ]
  },
  {
   "cell_type": "code",
   "execution_count": 18,
   "metadata": {},
   "outputs": [],
   "source": [
    "alhash = [chr(i) for i in range(ord('А'), ord('Я') + 1) if i != ord('Й')] "
   ]
  },
  {
   "cell_type": "code",
   "execution_count": 15,
   "metadata": {},
   "outputs": [],
   "source": [
    "def hash_square(i, msg, al=alhash, p=11):\n",
    "    if i == 0:\n",
    "        return 0\n",
    "    symbol = alhash.index(msg[i - 1]) + 1\n",
    "    return ( hash_square(i - 1, msg, al, p) + symbol ** 2 ) % p"
   ]
  },
  {
   "cell_type": "code",
   "execution_count": 3,
   "metadata": {
    "scrolled": true
   },
   "outputs": [],
   "source": [
    "msg = 'НЕВСЯКИИЗПТКТОЧИТАЕТЗПТВЧТЕНИИСИЛУЗНАЕТТЧК'\n",
    "msg_hash = hash_square(len(msg), msg)"
   ]
  },
  {
   "cell_type": "code",
   "execution_count": 30,
   "metadata": {},
   "outputs": [
    {
     "data": {
      "text/plain": [
       "3"
      ]
     },
     "execution_count": 30,
     "metadata": {},
     "output_type": "execute_result"
    }
   ],
   "source": [
    "msg_hash"
   ]
  },
  {
   "cell_type": "markdown",
   "metadata": {},
   "source": [
    "## ГОСТ Р 34.10-94"
   ]
  },
  {
   "cell_type": "code",
   "execution_count": 31,
   "metadata": {},
   "outputs": [],
   "source": [
    "from random import randint\n",
    "\n",
    "def GOST_R_34_10_94(text, p, q, a, x, hash_function=hash_square):\n",
    "    F = 2 ** 256\n",
    "    r, s = 0, 0\n",
    "    while not r or not s:\n",
    "        k = randint(0, q) # Заменить на LCG\n",
    "        r = ((a ** k) % p) % q\n",
    "        s = (x * r + k * hash_function(len(text), text)) % q\n",
    "    return (r % F, s % F)"
   ]
  },
  {
   "cell_type": "code",
   "execution_count": 32,
   "metadata": {},
   "outputs": [
    {
     "data": {
      "text/plain": [
       "(3, 3)"
      ]
     },
     "execution_count": 32,
     "metadata": {},
     "output_type": "execute_result"
    }
   ],
   "source": [
    "GOST_R_34_10_94('НЕВСЯКИИЗПТКТОЧИТАЕТЗПТВЧТЕНИИСИЛУЗНАЕТТЧК', p=31, q=5, a=2, x=3)"
   ]
  },
  {
   "cell_type": "code",
   "execution_count": null,
   "metadata": {},
   "outputs": [],
   "source": [
    "GOST_R_34_10_94('НЕВСЯКИИЗПТКТОЧИТАЕТЗПТВЧТЕНИИСИЛУЗНАЕТТЧК', p=31, q=5, a=2, x=3)"
   ]
  },
  {
   "cell_type": "code",
   "execution_count": 8,
   "metadata": {},
   "outputs": [],
   "source": [
    "import requests\n",
    "from bs4 import BeautifulSoup as bs\n",
    "\n",
    "def clear_paragraphs(ps:list, start=14, stop=16):\n",
    "    return ''.join([i.text for i in ps[start:stop]]).replace('\\xad', '').replace('\\xa0', '')\n",
    "\n",
    "def test_text(url='https://spacemorgue.com/matter-matters/'):\n",
    "    '''\n",
    "    Возвращает тестовый текст длиной 2408 символов\n",
    "    '''\n",
    "    soup = bs(requests.get(url).text, 'html.parser')\n",
    "    return clear_paragraphs(soup.select_one('article').find_all('p'))\n",
    "\n",
    "def prepare(text, specials={',':'ЗПТ','.':'ТЧК', ' ':'', '—':'ТИРЕ', '«':'КВЧ', '»':'КВЧ'}):\n",
    "    '''\n",
    "    Возвращает текст, удаляя пробельные символы в тексте и заменяя пунктуацию телеграфными обозначениями\n",
    "    '''\n",
    "    for i in specials.keys():\n",
    "        text = text.replace(i, specials[i])\n",
    "    return text"
   ]
  },
  {
   "cell_type": "code",
   "execution_count": 9,
   "metadata": {},
   "outputs": [],
   "source": [
    "text = prepare(test_text().upper().replace('-', '—').replace('X', '').replace('I', ''))"
   ]
  },
  {
   "cell_type": "code",
   "execution_count": 16,
   "metadata": {},
   "outputs": [],
   "source": [
    "alhash = [chr(i) for i in range(ord('А'), ord('Я') + 1)]\n",
    "alhash.append('Й')"
   ]
  },
  {
   "cell_type": "code",
   "execution_count": 17,
   "metadata": {},
   "outputs": [
    {
     "data": {
      "text/plain": [
       "(2, 1)"
      ]
     },
     "execution_count": 17,
     "metadata": {},
     "output_type": "execute_result"
    }
   ],
   "source": [
    "GOST_R_34_10_94(text, p=31, q=5, a=2, x=3)"
   ]
  },
  {
   "cell_type": "markdown",
   "metadata": {},
   "source": [
    "## ГОСТ Р 34.10-2012"
   ]
  },
  {
   "cell_type": "code",
   "execution_count": 33,
   "metadata": {},
   "outputs": [],
   "source": [
    "def GOST_R_34_10_2012():\n",
    "    pass"
   ]
  },
  {
   "cell_type": "code",
   "execution_count": null,
   "metadata": {},
   "outputs": [],
   "source": []
  }
 ],
 "metadata": {
  "kernelspec": {
   "display_name": "Python 3",
   "language": "python",
   "name": "python3"
  },
  "language_info": {
   "codemirror_mode": {
    "name": "ipython",
    "version": 3
   },
   "file_extension": ".py",
   "mimetype": "text/x-python",
   "name": "python",
   "nbconvert_exporter": "python",
   "pygments_lexer": "ipython3",
   "version": "3.7.3"
  }
 },
 "nbformat": 4,
 "nbformat_minor": 2
}
