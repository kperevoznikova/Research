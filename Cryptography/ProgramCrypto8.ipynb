{
 "cells": [
  {
   "cell_type": "code",
   "execution_count": 3,
   "metadata": {},
   "outputs": [],
   "source": [
    "al = [chr(i) for i in range(ord('А'), ord('Я') + 1)]"
   ]
  },
  {
   "cell_type": "code",
   "execution_count": 5,
   "metadata": {},
   "outputs": [],
   "source": [
    "text = 'НЕВСЯКИЙЗПТКТОЧИТАЕТЗПТВЧТЕНИИСИЛУЗНАЕТТЧК'"
   ]
  },
  {
   "cell_type": "code",
   "execution_count": 5,
   "metadata": {},
   "outputs": [],
   "source": [
    "def RSA_enc(text, al, e, n):\n",
    "    numeric = [al.index(i) + 1 for i in list(text)]\n",
    "    #print(numeric)\n",
    "    return [(i ** e) % n for i in numeric]"
   ]
  },
  {
   "cell_type": "code",
   "execution_count": 6,
   "metadata": {},
   "outputs": [],
   "source": [
    "def RSA_dec(ciphertext, d, n):\n",
    "    plain = [(i ** d) % n for i in ciphertext]\n",
    "    #print(plain)\n",
    "    return [al[i - 1] for i in plain]"
   ]
  },
  {
   "cell_type": "code",
   "execution_count": 8,
   "metadata": {},
   "outputs": [
    {
     "name": "stdout",
     "output_type": "stream",
     "text": [
      "[14, 6, 3, 18, 32, 11, 9, 10, 8, 16, 19, 11, 19, 15, 24, 9, 19, 1, 6, 19, 8, 16, 19, 3, 24, 19, 6, 14, 9, 9, 18, 9, 12, 20, 8, 14, 1, 6, 19, 19, 24, 11]\n"
     ]
    },
    {
     "data": {
      "text/plain": [
       "'[98, 104, 59, 18, 67, 11, 23, 129, 8, 93, 19, 11, 19, 127, 73, 23, 19, 1, 104, 19, 8, 93, 19, 59, 73, 19, 104, 98, 23, 23, 18, 23, 12, 20, 8, 98, 1, 104, 19, 19, 73, 11]'"
      ]
     },
     "execution_count": 8,
     "metadata": {},
     "output_type": "execute_result"
    }
   ],
   "source": [
    "str(RSA_enc('НЕВСЯКИЙЗПТКТОЧИТАЕТЗПТВЧТЕНИИСИЛУЗНАЕТТЧК', al, 25, 133))"
   ]
  },
  {
   "cell_type": "code",
   "execution_count": 9,
   "metadata": {},
   "outputs": [
    {
     "name": "stdout",
     "output_type": "stream",
     "text": [
      "[14, 6, 3, 18, 32, 11, 9, 10, 8, 16, 19, 11, 19, 15, 24, 9, 19, 1, 6, 19, 8, 16, 19, 3, 24, 19, 6, 14, 9, 9, 18, 9, 12, 20, 8, 14, 1, 6, 19, 19, 24, 11]\n",
      "[14, 6, 3, 18, 32, 11, 9, 10, 8, 16, 19, 11, 19, 15, 24, 9, 19, 1, 6, 19, 8, 16, 19, 3, 24, 19, 6, 14, 9, 9, 18, 9, 12, 20, 8, 14, 1, 6, 19, 19, 24, 11]\n"
     ]
    },
    {
     "data": {
      "text/plain": [
       "'НЕВСЯКИЙЗПТКТОЧИТАЕТЗПТВЧТЕНИИСИЛУЗНАЕТТЧК'"
      ]
     },
     "execution_count": 9,
     "metadata": {},
     "output_type": "execute_result"
    }
   ],
   "source": [
    "''.join(RSA_dec(RSA_enc('НЕВСЯКИЙЗПТКТОЧИТАЕТЗПТВЧТЕНИИСИЛУЗНАЕТТЧК', al, 25, 133), 13, 133))"
   ]
  },
  {
   "cell_type": "code",
   "execution_count": 4,
   "metadata": {},
   "outputs": [],
   "source": [
    "import requests\n",
    "from bs4 import BeautifulSoup as bs\n",
    "\n",
    "def clear_paragraphs(ps:list, start=14, stop=16):\n",
    "    return ''.join([i.text for i in ps[start:stop]]).replace('\\xad', '').replace('\\xa0', '')\n",
    "\n",
    "def test_text(url='https://spacemorgue.com/matter-matters/'):\n",
    "    '''\n",
    "    Возвращает тестовый текст длиной 2408 символов\n",
    "    '''\n",
    "    soup = bs(requests.get(url).text, 'html.parser')\n",
    "    return clear_paragraphs(soup.select_one('article').find_all('p'))\n",
    "\n",
    "def prepare(text, specials={',':'ЗПТ','.':'ТЧК', ' ':'', '—':'ТИРЕ', '«':'КВЧ', '»':'КВЧ'}):\n",
    "    '''\n",
    "    Возвращает текст, удаляя пробельные символы в тексте и заменяя пунктуацию телеграфными обозначениями\n",
    "    '''\n",
    "    for i in specials.keys():\n",
    "        text = text.replace(i, specials[i])\n",
    "    return text\n",
    "\n",
    "al.append('Й')\n",
    "text = prepare(test_text().upper().replace('-', '—').replace('X', '').replace('I', ''))"
   ]
  },
  {
   "cell_type": "code",
   "execution_count": 8,
   "metadata": {},
   "outputs": [
    {
     "data": {
      "text/plain": [
       "'[98, 104, 12, 23, 98, 104, 129, 98, 1, 67, 23, 18, 19, 1, 19, 23, 18, 19, 23, 73, 104, 18, 11, 1, 67, 93, 24, 23, 73, 23, 98, 98, 127, 18, 19, 15, 18,'"
      ]
     },
     "execution_count": 8,
     "metadata": {},
     "output_type": "execute_result"
    }
   ],
   "source": [
    "str(RSA_enc(text, al, 25, 133))[:150]"
   ]
  },
  {
   "cell_type": "code",
   "execution_count": 9,
   "metadata": {},
   "outputs": [
    {
     "data": {
      "text/plain": [
       "'НЕЛИНЕЙНАЯИСТАТИСТИЧЕСКАЯПРИЧИННОСТЬСНОВАПРИВНОСЯТВФИЛОСОФСКУЮКОНЦЕПЦИЮКАУЗАЛЬНОЙСВЯЗИСЛОЖНОСТЬЗПТКОТОРАЯБЫЛАПОТЕРЯНАСПОЯВЛЕНИЕМПОНЯТИЯПОСТОЯННОЙКОНЪЮ'"
      ]
     },
     "execution_count": 9,
     "metadata": {},
     "output_type": "execute_result"
    }
   ],
   "source": [
    "''.join(RSA_dec(RSA_enc(text, al, 25, 133), 13, 133))[:150]"
   ]
  },
  {
   "cell_type": "code",
   "execution_count": null,
   "metadata": {},
   "outputs": [],
   "source": []
  }
 ],
 "metadata": {
  "kernelspec": {
   "display_name": "Python 3",
   "language": "python",
   "name": "python3"
  },
  "language_info": {
   "codemirror_mode": {
    "name": "ipython",
    "version": 3
   },
   "file_extension": ".py",
   "mimetype": "text/x-python",
   "name": "python",
   "nbconvert_exporter": "python",
   "pygments_lexer": "ipython3",
   "version": "3.7.3"
  }
 },
 "nbformat": 4,
 "nbformat_minor": 2
}
