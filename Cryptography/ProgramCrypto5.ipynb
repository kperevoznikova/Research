{
 "cells": [
  {
   "cell_type": "markdown",
   "metadata": {},
   "source": [
    "## Линейный конгруэнтный генератор LCG"
   ]
  },
  {
   "cell_type": "code",
   "execution_count": 4,
   "metadata": {},
   "outputs": [],
   "source": [
    "def linear_generator(i, a, c, m, t_0, vals):\n",
    "    '''\n",
    "    c (mod 2) = 1\n",
    "    a (mod 4) = 1\n",
    "    '''\n",
    "    if i == 0:\n",
    "        return t_0\n",
    "    t_i0 = linear_generator(i - 1, a, c, m, t_0, vals)\n",
    "    t_i = (a * t_i0 + c) % m\n",
    "    vals.append(t_i)\n",
    "    #print(vals)\n",
    "    return t_i"
   ]
  },
  {
   "cell_type": "code",
   "execution_count": 5,
   "metadata": {},
   "outputs": [
    {
     "data": {
      "text/plain": [
       "[3, 1, 5, 4]"
      ]
     },
     "execution_count": 5,
     "metadata": {},
     "output_type": "execute_result"
    }
   ],
   "source": [
    "gamma = list()\n",
    "linear_generator(4,5,7,7,2,gamma)\n",
    "gamma"
   ]
  },
  {
   "cell_type": "markdown",
   "metadata": {},
   "source": [
    "## Одноразовый блокнот Шеннона"
   ]
  },
  {
   "cell_type": "code",
   "execution_count": 6,
   "metadata": {},
   "outputs": [
    {
     "data": {
      "text/plain": [
       "'81914101679622211131520118425121308191410167962221113152011842512'"
      ]
     },
     "execution_count": 6,
     "metadata": {},
     "output_type": "execute_result"
    }
   ],
   "source": [
    "plaintext = 'НЕВСЯКИИЗПТКТОЧИТАЕТЗПТВЧТЕНИИСИЛУЗНАЕТТЧК'\n",
    "gamma = list()\n",
    "linear_generator(len(plaintext),33,31,23,23,gamma)\n",
    "\n",
    "''.join(map(str, gamma)) # преобразуем значения списка к строковому виду для удобства проверки"
   ]
  },
  {
   "cell_type": "code",
   "execution_count": 7,
   "metadata": {},
   "outputs": [],
   "source": [
    "def divide_chunks_single(l, n):\n",
    "    # делит лист l на части длины n\n",
    "    for i in range(0, len(l), n): \n",
    "        yield l[i:i + n]"
   ]
  },
  {
   "cell_type": "code",
   "execution_count": 5,
   "metadata": {},
   "outputs": [
    {
     "data": {
      "text/plain": [
       "[[0, 1], [2, 3], [4, 5], [6, 7], [8, 9], [10]]"
      ]
     },
     "execution_count": 5,
     "metadata": {},
     "output_type": "execute_result"
    }
   ],
   "source": [
    "list(divide_chunks_single(list(range(11)), 2))"
   ]
  },
  {
   "cell_type": "code",
   "execution_count": 1,
   "metadata": {},
   "outputs": [],
   "source": [
    "def one_time_pad_enc(plaintext, gamma):\n",
    "    ciphertext = list()\n",
    "    gamma_enc = gamma.copy()\n",
    "    bytes_ = plaintext.encode('utf-8')# побайтовое представление открытого текста\n",
    "    symbols = divide_chunks_single(bytes_, 2) # в utf-8 каждый символ представлен двумя байтами\n",
    "    for i in symbols:\n",
    "        gamma_0 = gamma_enc.pop()\n",
    "        # побитово складываем символ с гаммой\n",
    "        ciphertext.append([i[0] ^ gamma_0, i[1] ^ gamma_0])\n",
    "        # закодировать обратно в utf-8 не получится, так как при шифровании не всегда получаются корректные байты:\n",
    "        # UnicodeDecodeError: 'utf-8' codec can't decode byte 0xc0 in position 0: invalid start byte\n",
    "        #ciphertext.append(bytes((i[0] ^ gamma_0, i[1] ^ gamma_0)).decode('utf-8'))\n",
    "    return ciphertext"
   ]
  },
  {
   "cell_type": "code",
   "execution_count": 11,
   "metadata": {},
   "outputs": [
    {
     "data": {
      "text/plain": [
       "'[220, 145][213, 144][210, 144][212, 165][194, 189][209, 155][196, 140][223, 151][211, 148][219, 148][197, 183][198, 140][214, 164][217, 151][215, 160][192, 136][218, 168][222, 158][195, 134][216, 170][208, 151][221, 146][220, 174][213, 151][210, 165][212, 166][194, 135][209, 156][196, 140][223, 151][211, 162][219, 147][197, 142][198, 181][214, 145][217, 148][215, 151][192, 133][218, 168][222, 172][195, 180][216, 146]'"
      ]
     },
     "execution_count": 11,
     "metadata": {},
     "output_type": "execute_result"
    }
   ],
   "source": [
    "''.join([*map(str,one_time_pad_enc(plaintext, gamma))])"
   ]
  },
  {
   "cell_type": "code",
   "execution_count": 12,
   "metadata": {},
   "outputs": [],
   "source": [
    "def one_time_pad_dec(ciphertext, gamma):\n",
    "    plaintext = list()\n",
    "    gamma_dec = gamma.copy()\n",
    "    for i in ciphertext:\n",
    "        gamma_0 = gamma_dec.pop()\n",
    "        plaintext.append(bytes((i[0] ^ gamma_0, i[1] ^ gamma_0)).decode('utf-8'))\n",
    "    return ''.join(plaintext)"
   ]
  },
  {
   "cell_type": "code",
   "execution_count": 13,
   "metadata": {},
   "outputs": [
    {
     "data": {
      "text/plain": [
       "'НЕВСЯКИИЗПТКТОЧИТАЕТЗПТВЧТЕНИИСИЛУЗНАЕТТЧК'"
      ]
     },
     "execution_count": 13,
     "metadata": {},
     "output_type": "execute_result"
    }
   ],
   "source": [
    "one_time_pad_dec(one_time_pad_enc(plaintext, gamma), gamma)"
   ]
  },
  {
   "cell_type": "code",
   "execution_count": null,
   "metadata": {},
   "outputs": [],
   "source": []
  }
 ],
 "metadata": {
  "kernelspec": {
   "display_name": "Python 3",
   "language": "python",
   "name": "python3"
  },
  "language_info": {
   "codemirror_mode": {
    "name": "ipython",
    "version": 3
   },
   "file_extension": ".py",
   "mimetype": "text/x-python",
   "name": "python",
   "nbconvert_exporter": "python",
   "pygments_lexer": "ipython3",
   "version": "3.7.3"
  }
 },
 "nbformat": 4,
 "nbformat_minor": 2
}
